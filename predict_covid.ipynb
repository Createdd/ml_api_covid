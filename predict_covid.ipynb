{
 "cells": [
  {
   "cell_type": "markdown",
   "metadata": {},
   "source": [
    "# Import Libs"
   ]
  },
  {
   "cell_type": "code",
   "execution_count": 61,
   "metadata": {
    "ExecuteTime": {
     "end_time": "2020-09-21T10:22:19.677700Z",
     "start_time": "2020-09-21T10:22:19.590598Z"
    }
   },
   "outputs": [
    {
     "data": {
      "application/javascript": [
       "if (!(\"Notification\" in window)) {\n",
       "    alert(\"This browser does not support desktop notifications, so the %%notify magic will not work.\");\n",
       "} else if (Notification.permission !== 'granted' && Notification.permission !== 'denied') {\n",
       "    Notification.requestPermission(function (permission) {\n",
       "        if(!('permission' in Notification)) {\n",
       "            Notification.permission = permission;\n",
       "        }\n",
       "    })\n",
       "}\n"
      ],
      "text/plain": [
       "<IPython.core.display.Javascript object>"
      ]
     },
     "metadata": {},
     "output_type": "display_data"
    }
   ],
   "source": [
    "import os\n",
    "import matplotlib.pyplot as plt\n",
    "import pandas as pd\n",
    "import seaborn as sns\n",
    "import numpy as np\n",
    "\n",
    "from IPython.core.interactiveshell import InteractiveShell\n",
    "InteractiveShell.ast_node_interactivity = \"all\"\n",
    "import jupyternotify\n",
    "ip = get_ipython()\n",
    "ip.register_magics(jupyternotify.JupyterNotifyMagics)"
   ]
  },
  {
   "cell_type": "markdown",
   "metadata": {},
   "source": [
    "# Load data"
   ]
  },
  {
   "cell_type": "code",
   "execution_count": 2,
   "metadata": {
    "ExecuteTime": {
     "end_time": "2020-09-21T07:53:37.983749Z",
     "start_time": "2020-09-21T07:53:37.974904Z"
    }
   },
   "outputs": [],
   "source": [
    "url_to_covid = 'https://covid.ourworldindata.org/data/owid-covid-data.csv'"
   ]
  },
  {
   "cell_type": "code",
   "execution_count": 3,
   "metadata": {
    "ExecuteTime": {
     "end_time": "2020-09-21T07:54:03.648832Z",
     "start_time": "2020-09-21T07:53:37.989681Z"
    }
   },
   "outputs": [],
   "source": [
    "df_orig = pd.read_csv(url_to_covid)"
   ]
  },
  {
   "cell_type": "markdown",
   "metadata": {},
   "source": [
    "# Understand structure"
   ]
  },
  {
   "cell_type": "code",
   "execution_count": 4,
   "metadata": {
    "ExecuteTime": {
     "end_time": "2020-09-21T07:54:03.665715Z",
     "start_time": "2020-09-21T07:54:03.650783Z"
    },
    "scrolled": true
   },
   "outputs": [
    {
     "data": {
      "text/plain": [
       "array(['Afghanistan', 'Albania', 'Algeria', 'Andorra', 'Angola',\n",
       "       'Anguilla', 'Antigua and Barbuda', 'Argentina', 'Armenia', 'Aruba',\n",
       "       'Australia', 'Austria', 'Azerbaijan', 'Bahamas', 'Bahrain',\n",
       "       'Bangladesh', 'Barbados', 'Belarus', 'Belgium', 'Belize', 'Benin',\n",
       "       'Bermuda', 'Bhutan', 'Bolivia', 'Bonaire Sint Eustatius and Saba',\n",
       "       'Bosnia and Herzegovina', 'Botswana', 'Brazil',\n",
       "       'British Virgin Islands', 'Brunei', 'Bulgaria', 'Burkina Faso',\n",
       "       'Burundi', 'Cambodia', 'Cameroon', 'Canada', 'Cape Verde',\n",
       "       'Cayman Islands', 'Central African Republic', 'Chad', 'Chile',\n",
       "       'China', 'Colombia', 'Comoros', 'Congo', 'Costa Rica',\n",
       "       \"Cote d'Ivoire\", 'Croatia', 'Cuba', 'Curacao', 'Cyprus',\n",
       "       'Czech Republic', 'Democratic Republic of Congo', 'Denmark',\n",
       "       'Djibouti', 'Dominica', 'Dominican Republic', 'Ecuador', 'Egypt',\n",
       "       'El Salvador', 'Equatorial Guinea', 'Eritrea', 'Estonia',\n",
       "       'Ethiopia', 'Faeroe Islands', 'Falkland Islands', 'Fiji',\n",
       "       'Finland', 'France', 'French Polynesia', 'Gabon', 'Gambia',\n",
       "       'Georgia', 'Germany', 'Ghana', 'Gibraltar', 'Greece', 'Greenland',\n",
       "       'Grenada', 'Guam', 'Guatemala', 'Guernsey', 'Guinea',\n",
       "       'Guinea-Bissau', 'Guyana', 'Haiti', 'Honduras', 'Hong Kong',\n",
       "       'Hungary', 'Iceland', 'India', 'Indonesia', 'Iran', 'Iraq',\n",
       "       'Ireland', 'Isle of Man', 'Israel', 'Italy', 'Jamaica', 'Japan',\n",
       "       'Jersey', 'Jordan', 'Kazakhstan', 'Kenya', 'Kosovo', 'Kuwait',\n",
       "       'Kyrgyzstan', 'Laos', 'Latvia', 'Lebanon', 'Lesotho', 'Liberia',\n",
       "       'Libya', 'Liechtenstein', 'Lithuania', 'Luxembourg', 'Macedonia',\n",
       "       'Madagascar', 'Malawi', 'Malaysia', 'Maldives', 'Mali', 'Malta',\n",
       "       'Mauritania', 'Mauritius', 'Mexico', 'Moldova', 'Monaco',\n",
       "       'Mongolia', 'Montenegro', 'Montserrat', 'Morocco', 'Mozambique',\n",
       "       'Myanmar', 'Namibia', 'Nepal', 'Netherlands', 'New Caledonia',\n",
       "       'New Zealand', 'Nicaragua', 'Niger', 'Nigeria',\n",
       "       'Northern Mariana Islands', 'Norway', 'Oman', 'Pakistan',\n",
       "       'Palestine', 'Panama', 'Papua New Guinea', 'Paraguay', 'Peru',\n",
       "       'Philippines', 'Poland', 'Portugal', 'Puerto Rico', 'Qatar',\n",
       "       'Romania', 'Russia', 'Rwanda', 'Saint Kitts and Nevis',\n",
       "       'Saint Lucia', 'Saint Vincent and the Grenadines', 'San Marino',\n",
       "       'Sao Tome and Principe', 'Saudi Arabia', 'Senegal', 'Serbia',\n",
       "       'Seychelles', 'Sierra Leone', 'Singapore',\n",
       "       'Sint Maarten (Dutch part)', 'Slovakia', 'Slovenia', 'Somalia',\n",
       "       'South Africa', 'South Korea', 'South Sudan', 'Spain', 'Sri Lanka',\n",
       "       'Sudan', 'Suriname', 'Swaziland', 'Sweden', 'Switzerland', 'Syria',\n",
       "       'Taiwan', 'Tajikistan', 'Tanzania', 'Thailand', 'Timor', 'Togo',\n",
       "       'Trinidad and Tobago', 'Tunisia', 'Turkey',\n",
       "       'Turks and Caicos Islands', 'Uganda', 'Ukraine',\n",
       "       'United Arab Emirates', 'United Kingdom', 'United States',\n",
       "       'United States Virgin Islands', 'Uruguay', 'Uzbekistan', 'Vatican',\n",
       "       'Venezuela', 'Vietnam', 'Western Sahara', 'Yemen', 'Zambia',\n",
       "       'Zimbabwe', 'World', 'International'], dtype=object)"
      ]
     },
     "execution_count": 4,
     "metadata": {},
     "output_type": "execute_result"
    }
   ],
   "source": [
    "df_orig.location.unique()"
   ]
  },
  {
   "cell_type": "code",
   "execution_count": 5,
   "metadata": {
    "ExecuteTime": {
     "end_time": "2020-09-21T07:54:03.677531Z",
     "start_time": "2020-09-21T07:54:03.668276Z"
    }
   },
   "outputs": [],
   "source": [
    "df = df_orig[df_orig.location == 'Austria']"
   ]
  },
  {
   "cell_type": "code",
   "execution_count": 6,
   "metadata": {
    "ExecuteTime": {
     "end_time": "2020-09-21T07:54:03.739544Z",
     "start_time": "2020-09-21T07:54:03.680429Z"
    }
   },
   "outputs": [
    {
     "data": {
      "text/html": [
       "<div>\n",
       "<style scoped>\n",
       "    .dataframe tbody tr th:only-of-type {\n",
       "        vertical-align: middle;\n",
       "    }\n",
       "\n",
       "    .dataframe tbody tr th {\n",
       "        vertical-align: top;\n",
       "    }\n",
       "\n",
       "    .dataframe thead th {\n",
       "        text-align: right;\n",
       "    }\n",
       "</style>\n",
       "<table border=\"1\" class=\"dataframe\">\n",
       "  <thead>\n",
       "    <tr style=\"text-align: right;\">\n",
       "      <th></th>\n",
       "      <th>iso_code</th>\n",
       "      <th>continent</th>\n",
       "      <th>location</th>\n",
       "      <th>date</th>\n",
       "      <th>total_cases</th>\n",
       "      <th>new_cases</th>\n",
       "      <th>new_cases_smoothed</th>\n",
       "      <th>total_deaths</th>\n",
       "      <th>new_deaths</th>\n",
       "      <th>new_deaths_smoothed</th>\n",
       "      <th>...</th>\n",
       "      <th>gdp_per_capita</th>\n",
       "      <th>extreme_poverty</th>\n",
       "      <th>cardiovasc_death_rate</th>\n",
       "      <th>diabetes_prevalence</th>\n",
       "      <th>female_smokers</th>\n",
       "      <th>male_smokers</th>\n",
       "      <th>handwashing_facilities</th>\n",
       "      <th>hospital_beds_per_thousand</th>\n",
       "      <th>life_expectancy</th>\n",
       "      <th>human_development_index</th>\n",
       "    </tr>\n",
       "  </thead>\n",
       "  <tbody>\n",
       "    <tr>\n",
       "      <th>2409</th>\n",
       "      <td>AUT</td>\n",
       "      <td>Europe</td>\n",
       "      <td>Austria</td>\n",
       "      <td>2019-12-31</td>\n",
       "      <td>0.0</td>\n",
       "      <td>0.0</td>\n",
       "      <td>NaN</td>\n",
       "      <td>0.0</td>\n",
       "      <td>0.0</td>\n",
       "      <td>NaN</td>\n",
       "      <td>...</td>\n",
       "      <td>45436.686</td>\n",
       "      <td>0.7</td>\n",
       "      <td>145.183</td>\n",
       "      <td>6.35</td>\n",
       "      <td>28.4</td>\n",
       "      <td>30.9</td>\n",
       "      <td>NaN</td>\n",
       "      <td>7.37</td>\n",
       "      <td>81.54</td>\n",
       "      <td>0.908</td>\n",
       "    </tr>\n",
       "    <tr>\n",
       "      <th>2410</th>\n",
       "      <td>AUT</td>\n",
       "      <td>Europe</td>\n",
       "      <td>Austria</td>\n",
       "      <td>2020-01-01</td>\n",
       "      <td>0.0</td>\n",
       "      <td>0.0</td>\n",
       "      <td>NaN</td>\n",
       "      <td>0.0</td>\n",
       "      <td>0.0</td>\n",
       "      <td>NaN</td>\n",
       "      <td>...</td>\n",
       "      <td>45436.686</td>\n",
       "      <td>0.7</td>\n",
       "      <td>145.183</td>\n",
       "      <td>6.35</td>\n",
       "      <td>28.4</td>\n",
       "      <td>30.9</td>\n",
       "      <td>NaN</td>\n",
       "      <td>7.37</td>\n",
       "      <td>81.54</td>\n",
       "      <td>0.908</td>\n",
       "    </tr>\n",
       "    <tr>\n",
       "      <th>2411</th>\n",
       "      <td>AUT</td>\n",
       "      <td>Europe</td>\n",
       "      <td>Austria</td>\n",
       "      <td>2020-01-02</td>\n",
       "      <td>0.0</td>\n",
       "      <td>0.0</td>\n",
       "      <td>NaN</td>\n",
       "      <td>0.0</td>\n",
       "      <td>0.0</td>\n",
       "      <td>NaN</td>\n",
       "      <td>...</td>\n",
       "      <td>45436.686</td>\n",
       "      <td>0.7</td>\n",
       "      <td>145.183</td>\n",
       "      <td>6.35</td>\n",
       "      <td>28.4</td>\n",
       "      <td>30.9</td>\n",
       "      <td>NaN</td>\n",
       "      <td>7.37</td>\n",
       "      <td>81.54</td>\n",
       "      <td>0.908</td>\n",
       "    </tr>\n",
       "    <tr>\n",
       "      <th>2412</th>\n",
       "      <td>AUT</td>\n",
       "      <td>Europe</td>\n",
       "      <td>Austria</td>\n",
       "      <td>2020-01-03</td>\n",
       "      <td>0.0</td>\n",
       "      <td>0.0</td>\n",
       "      <td>NaN</td>\n",
       "      <td>0.0</td>\n",
       "      <td>0.0</td>\n",
       "      <td>NaN</td>\n",
       "      <td>...</td>\n",
       "      <td>45436.686</td>\n",
       "      <td>0.7</td>\n",
       "      <td>145.183</td>\n",
       "      <td>6.35</td>\n",
       "      <td>28.4</td>\n",
       "      <td>30.9</td>\n",
       "      <td>NaN</td>\n",
       "      <td>7.37</td>\n",
       "      <td>81.54</td>\n",
       "      <td>0.908</td>\n",
       "    </tr>\n",
       "    <tr>\n",
       "      <th>2413</th>\n",
       "      <td>AUT</td>\n",
       "      <td>Europe</td>\n",
       "      <td>Austria</td>\n",
       "      <td>2020-01-04</td>\n",
       "      <td>0.0</td>\n",
       "      <td>0.0</td>\n",
       "      <td>NaN</td>\n",
       "      <td>0.0</td>\n",
       "      <td>0.0</td>\n",
       "      <td>NaN</td>\n",
       "      <td>...</td>\n",
       "      <td>45436.686</td>\n",
       "      <td>0.7</td>\n",
       "      <td>145.183</td>\n",
       "      <td>6.35</td>\n",
       "      <td>28.4</td>\n",
       "      <td>30.9</td>\n",
       "      <td>NaN</td>\n",
       "      <td>7.37</td>\n",
       "      <td>81.54</td>\n",
       "      <td>0.908</td>\n",
       "    </tr>\n",
       "    <tr>\n",
       "      <th>...</th>\n",
       "      <td>...</td>\n",
       "      <td>...</td>\n",
       "      <td>...</td>\n",
       "      <td>...</td>\n",
       "      <td>...</td>\n",
       "      <td>...</td>\n",
       "      <td>...</td>\n",
       "      <td>...</td>\n",
       "      <td>...</td>\n",
       "      <td>...</td>\n",
       "      <td>...</td>\n",
       "      <td>...</td>\n",
       "      <td>...</td>\n",
       "      <td>...</td>\n",
       "      <td>...</td>\n",
       "      <td>...</td>\n",
       "      <td>...</td>\n",
       "      <td>...</td>\n",
       "      <td>...</td>\n",
       "      <td>...</td>\n",
       "      <td>...</td>\n",
       "    </tr>\n",
       "    <tr>\n",
       "      <th>2669</th>\n",
       "      <td>AUT</td>\n",
       "      <td>Europe</td>\n",
       "      <td>Austria</td>\n",
       "      <td>2020-09-16</td>\n",
       "      <td>34744.0</td>\n",
       "      <td>860.0</td>\n",
       "      <td>649.143</td>\n",
       "      <td>757.0</td>\n",
       "      <td>0.0</td>\n",
       "      <td>1.429</td>\n",
       "      <td>...</td>\n",
       "      <td>45436.686</td>\n",
       "      <td>0.7</td>\n",
       "      <td>145.183</td>\n",
       "      <td>6.35</td>\n",
       "      <td>28.4</td>\n",
       "      <td>30.9</td>\n",
       "      <td>NaN</td>\n",
       "      <td>7.37</td>\n",
       "      <td>81.54</td>\n",
       "      <td>0.908</td>\n",
       "    </tr>\n",
       "    <tr>\n",
       "      <th>2670</th>\n",
       "      <td>AUT</td>\n",
       "      <td>Europe</td>\n",
       "      <td>Austria</td>\n",
       "      <td>2020-09-17</td>\n",
       "      <td>35448.0</td>\n",
       "      <td>704.0</td>\n",
       "      <td>642.000</td>\n",
       "      <td>758.0</td>\n",
       "      <td>1.0</td>\n",
       "      <td>1.571</td>\n",
       "      <td>...</td>\n",
       "      <td>45436.686</td>\n",
       "      <td>0.7</td>\n",
       "      <td>145.183</td>\n",
       "      <td>6.35</td>\n",
       "      <td>28.4</td>\n",
       "      <td>30.9</td>\n",
       "      <td>NaN</td>\n",
       "      <td>7.37</td>\n",
       "      <td>81.54</td>\n",
       "      <td>0.908</td>\n",
       "    </tr>\n",
       "    <tr>\n",
       "      <th>2671</th>\n",
       "      <td>AUT</td>\n",
       "      <td>Europe</td>\n",
       "      <td>Austria</td>\n",
       "      <td>2020-09-18</td>\n",
       "      <td>36370.0</td>\n",
       "      <td>922.0</td>\n",
       "      <td>702.714</td>\n",
       "      <td>758.0</td>\n",
       "      <td>0.0</td>\n",
       "      <td>1.429</td>\n",
       "      <td>...</td>\n",
       "      <td>45436.686</td>\n",
       "      <td>0.7</td>\n",
       "      <td>145.183</td>\n",
       "      <td>6.35</td>\n",
       "      <td>28.4</td>\n",
       "      <td>30.9</td>\n",
       "      <td>NaN</td>\n",
       "      <td>7.37</td>\n",
       "      <td>81.54</td>\n",
       "      <td>0.908</td>\n",
       "    </tr>\n",
       "    <tr>\n",
       "      <th>2672</th>\n",
       "      <td>AUT</td>\n",
       "      <td>Europe</td>\n",
       "      <td>Austria</td>\n",
       "      <td>2020-09-19</td>\n",
       "      <td>37191.0</td>\n",
       "      <td>821.0</td>\n",
       "      <td>676.429</td>\n",
       "      <td>763.0</td>\n",
       "      <td>5.0</td>\n",
       "      <td>1.857</td>\n",
       "      <td>...</td>\n",
       "      <td>45436.686</td>\n",
       "      <td>0.7</td>\n",
       "      <td>145.183</td>\n",
       "      <td>6.35</td>\n",
       "      <td>28.4</td>\n",
       "      <td>30.9</td>\n",
       "      <td>NaN</td>\n",
       "      <td>7.37</td>\n",
       "      <td>81.54</td>\n",
       "      <td>0.908</td>\n",
       "    </tr>\n",
       "    <tr>\n",
       "      <th>2673</th>\n",
       "      <td>AUT</td>\n",
       "      <td>Europe</td>\n",
       "      <td>Austria</td>\n",
       "      <td>2020-09-20</td>\n",
       "      <td>37948.0</td>\n",
       "      <td>757.0</td>\n",
       "      <td>713.857</td>\n",
       "      <td>765.0</td>\n",
       "      <td>2.0</td>\n",
       "      <td>1.571</td>\n",
       "      <td>...</td>\n",
       "      <td>45436.686</td>\n",
       "      <td>0.7</td>\n",
       "      <td>145.183</td>\n",
       "      <td>6.35</td>\n",
       "      <td>28.4</td>\n",
       "      <td>30.9</td>\n",
       "      <td>NaN</td>\n",
       "      <td>7.37</td>\n",
       "      <td>81.54</td>\n",
       "      <td>0.908</td>\n",
       "    </tr>\n",
       "  </tbody>\n",
       "</table>\n",
       "<p>265 rows × 41 columns</p>\n",
       "</div>"
      ],
      "text/plain": [
       "     iso_code continent location        date  total_cases  new_cases  \\\n",
       "2409      AUT    Europe  Austria  2019-12-31          0.0        0.0   \n",
       "2410      AUT    Europe  Austria  2020-01-01          0.0        0.0   \n",
       "2411      AUT    Europe  Austria  2020-01-02          0.0        0.0   \n",
       "2412      AUT    Europe  Austria  2020-01-03          0.0        0.0   \n",
       "2413      AUT    Europe  Austria  2020-01-04          0.0        0.0   \n",
       "...       ...       ...      ...         ...          ...        ...   \n",
       "2669      AUT    Europe  Austria  2020-09-16      34744.0      860.0   \n",
       "2670      AUT    Europe  Austria  2020-09-17      35448.0      704.0   \n",
       "2671      AUT    Europe  Austria  2020-09-18      36370.0      922.0   \n",
       "2672      AUT    Europe  Austria  2020-09-19      37191.0      821.0   \n",
       "2673      AUT    Europe  Austria  2020-09-20      37948.0      757.0   \n",
       "\n",
       "      new_cases_smoothed  total_deaths  new_deaths  new_deaths_smoothed  ...  \\\n",
       "2409                 NaN           0.0         0.0                  NaN  ...   \n",
       "2410                 NaN           0.0         0.0                  NaN  ...   \n",
       "2411                 NaN           0.0         0.0                  NaN  ...   \n",
       "2412                 NaN           0.0         0.0                  NaN  ...   \n",
       "2413                 NaN           0.0         0.0                  NaN  ...   \n",
       "...                  ...           ...         ...                  ...  ...   \n",
       "2669             649.143         757.0         0.0                1.429  ...   \n",
       "2670             642.000         758.0         1.0                1.571  ...   \n",
       "2671             702.714         758.0         0.0                1.429  ...   \n",
       "2672             676.429         763.0         5.0                1.857  ...   \n",
       "2673             713.857         765.0         2.0                1.571  ...   \n",
       "\n",
       "      gdp_per_capita  extreme_poverty  cardiovasc_death_rate  \\\n",
       "2409       45436.686              0.7                145.183   \n",
       "2410       45436.686              0.7                145.183   \n",
       "2411       45436.686              0.7                145.183   \n",
       "2412       45436.686              0.7                145.183   \n",
       "2413       45436.686              0.7                145.183   \n",
       "...              ...              ...                    ...   \n",
       "2669       45436.686              0.7                145.183   \n",
       "2670       45436.686              0.7                145.183   \n",
       "2671       45436.686              0.7                145.183   \n",
       "2672       45436.686              0.7                145.183   \n",
       "2673       45436.686              0.7                145.183   \n",
       "\n",
       "      diabetes_prevalence  female_smokers  male_smokers  \\\n",
       "2409                 6.35            28.4          30.9   \n",
       "2410                 6.35            28.4          30.9   \n",
       "2411                 6.35            28.4          30.9   \n",
       "2412                 6.35            28.4          30.9   \n",
       "2413                 6.35            28.4          30.9   \n",
       "...                   ...             ...           ...   \n",
       "2669                 6.35            28.4          30.9   \n",
       "2670                 6.35            28.4          30.9   \n",
       "2671                 6.35            28.4          30.9   \n",
       "2672                 6.35            28.4          30.9   \n",
       "2673                 6.35            28.4          30.9   \n",
       "\n",
       "      handwashing_facilities  hospital_beds_per_thousand  life_expectancy  \\\n",
       "2409                     NaN                        7.37            81.54   \n",
       "2410                     NaN                        7.37            81.54   \n",
       "2411                     NaN                        7.37            81.54   \n",
       "2412                     NaN                        7.37            81.54   \n",
       "2413                     NaN                        7.37            81.54   \n",
       "...                      ...                         ...              ...   \n",
       "2669                     NaN                        7.37            81.54   \n",
       "2670                     NaN                        7.37            81.54   \n",
       "2671                     NaN                        7.37            81.54   \n",
       "2672                     NaN                        7.37            81.54   \n",
       "2673                     NaN                        7.37            81.54   \n",
       "\n",
       "      human_development_index  \n",
       "2409                    0.908  \n",
       "2410                    0.908  \n",
       "2411                    0.908  \n",
       "2412                    0.908  \n",
       "2413                    0.908  \n",
       "...                       ...  \n",
       "2669                    0.908  \n",
       "2670                    0.908  \n",
       "2671                    0.908  \n",
       "2672                    0.908  \n",
       "2673                    0.908  \n",
       "\n",
       "[265 rows x 41 columns]"
      ]
     },
     "execution_count": 6,
     "metadata": {},
     "output_type": "execute_result"
    }
   ],
   "source": [
    "df"
   ]
  },
  {
   "cell_type": "code",
   "execution_count": 7,
   "metadata": {
    "ExecuteTime": {
     "end_time": "2020-09-21T07:54:10.901957Z",
     "start_time": "2020-09-21T07:54:03.746265Z"
    }
   },
   "outputs": [
    {
     "name": "stderr",
     "output_type": "stream",
     "text": [
      "/Users/danieldeutsch/opt/anaconda3/envs/ml_api_covid/lib/python3.7/site-packages/seaborn/_decorators.py:43: FutureWarning: Pass the following variables as keyword args: x, y. From version 0.12, the only valid positional argument will be `data`, and passing other arguments without an explicit keyword will result in an error or misinterpretation.\n",
      "  FutureWarning\n"
     ]
    },
    {
     "data": {
      "image/png": "[encoded data removed]",
      "text/plain": [
       "<Figure size 2160x1080 with 1 Axes>"
      ]
     },
     "metadata": {
      "needs_background": "light"
     },
     "output_type": "display_data"
    }
   ],
   "source": [
    "_ = plt.figure(figsize=(30, 15))\n",
    "sns.scatterplot(sorted(df.date), df.new_cases);"
   ]
  },
  {
   "cell_type": "markdown",
   "metadata": {},
   "source": [
    "## Check missing"
   ]
  },
  {
   "cell_type": "code",
   "execution_count": 8,
   "metadata": {
    "ExecuteTime": {
     "end_time": "2020-09-21T07:54:10.926338Z",
     "start_time": "2020-09-21T07:54:10.907578Z"
    }
   },
   "outputs": [],
   "source": [
    "df = df_orig.copy()"
   ]
  },
  {
   "cell_type": "code",
   "execution_count": 9,
   "metadata": {
    "ExecuteTime": {
     "end_time": "2020-09-21T07:54:10.994112Z",
     "start_time": "2020-09-21T07:54:10.937958Z"
    }
   },
   "outputs": [
    {
     "name": "stdout",
     "output_type": "stream",
     "text": [
      "<class 'pandas.core.frame.DataFrame'>\n",
      "RangeIndex: 44996 entries, 0 to 44995\n",
      "Data columns (total 41 columns):\n",
      " #   Column                           Non-Null Count  Dtype  \n",
      "---  ------                           --------------  -----  \n",
      " 0   iso_code                         44731 non-null  object \n",
      " 1   continent                        44466 non-null  object \n",
      " 2   location                         44996 non-null  object \n",
      " 3   date                             44996 non-null  object \n",
      " 4   total_cases                      44393 non-null  float64\n",
      " 5   new_cases                        44192 non-null  float64\n",
      " 6   new_cases_smoothed               43410 non-null  float64\n",
      " 7   total_deaths                     44393 non-null  float64\n",
      " 8   new_deaths                       44192 non-null  float64\n",
      " 9   new_deaths_smoothed              43410 non-null  float64\n",
      " 10  total_cases_per_million          44128 non-null  float64\n",
      " 11  new_cases_per_million            44128 non-null  float64\n",
      " 12  new_cases_smoothed_per_million   43345 non-null  float64\n",
      " 13  total_deaths_per_million         44128 non-null  float64\n",
      " 14  new_deaths_per_million           44128 non-null  float64\n",
      " 15  new_deaths_smoothed_per_million  43345 non-null  float64\n",
      " 16  new_tests                        15647 non-null  float64\n",
      " 17  total_tests                      16022 non-null  float64\n",
      " 18  total_tests_per_thousand         16022 non-null  float64\n",
      " 19  new_tests_per_thousand           15647 non-null  float64\n",
      " 20  new_tests_smoothed               17568 non-null  float64\n",
      " 21  new_tests_smoothed_per_thousand  17568 non-null  float64\n",
      " 22  tests_per_case                   16149 non-null  float64\n",
      " 23  positive_rate                    16533 non-null  float64\n",
      " 24  tests_units                      18374 non-null  object \n",
      " 25  stringency_index                 37080 non-null  float64\n",
      " 26  population                       44731 non-null  float64\n",
      " 27  population_density               42701 non-null  float64\n",
      " 28  median_age                       40138 non-null  float64\n",
      " 29  aged_65_older                    39543 non-null  float64\n",
      " 30  aged_70_older                    39930 non-null  float64\n",
      " 31  gdp_per_capita                   39625 non-null  float64\n",
      " 32  extreme_poverty                  26444 non-null  float64\n",
      " 33  cardiovasc_death_rate            40153 non-null  float64\n",
      " 34  diabetes_prevalence              41559 non-null  float64\n",
      " 35  female_smokers                   31499 non-null  float64\n",
      " 36  male_smokers                     31102 non-null  float64\n",
      " 37  handwashing_facilities           18750 non-null  float64\n",
      " 38  hospital_beds_per_thousand       36304 non-null  float64\n",
      " 39  life_expectancy                  44170 non-null  float64\n",
      " 40  human_development_index          38737 non-null  float64\n",
      "dtypes: float64(36), object(5)\n",
      "memory usage: 14.1+ MB\n"
     ]
    }
   ],
   "source": [
    "df.info()"
   ]
  },
  {
   "cell_type": "code",
   "execution_count": 10,
   "metadata": {
    "ExecuteTime": {
     "end_time": "2020-09-21T07:54:11.040019Z",
     "start_time": "2020-09-21T07:54:11.001821Z"
    }
   },
   "outputs": [
    {
     "data": {
      "text/html": [
       "<div>\n",
       "<style scoped>\n",
       "    .dataframe tbody tr th:only-of-type {\n",
       "        vertical-align: middle;\n",
       "    }\n",
       "\n",
       "    .dataframe tbody tr th {\n",
       "        vertical-align: top;\n",
       "    }\n",
       "\n",
       "    .dataframe thead th {\n",
       "        text-align: right;\n",
       "    }\n",
       "</style>\n",
       "<table border=\"1\" class=\"dataframe\">\n",
       "  <thead>\n",
       "    <tr style=\"text-align: right;\">\n",
       "      <th></th>\n",
       "      <th>column_name</th>\n",
       "      <th>percent_missing</th>\n",
       "    </tr>\n",
       "  </thead>\n",
       "  <tbody>\n",
       "    <tr>\n",
       "      <th>new_tests</th>\n",
       "      <td>new_tests</td>\n",
       "      <td>65.225798</td>\n",
       "    </tr>\n",
       "    <tr>\n",
       "      <th>new_tests_per_thousand</th>\n",
       "      <td>new_tests_per_thousand</td>\n",
       "      <td>65.225798</td>\n",
       "    </tr>\n",
       "    <tr>\n",
       "      <th>total_tests_per_thousand</th>\n",
       "      <td>total_tests_per_thousand</td>\n",
       "      <td>64.392390</td>\n",
       "    </tr>\n",
       "    <tr>\n",
       "      <th>total_tests</th>\n",
       "      <td>total_tests</td>\n",
       "      <td>64.392390</td>\n",
       "    </tr>\n",
       "    <tr>\n",
       "      <th>tests_per_case</th>\n",
       "      <td>tests_per_case</td>\n",
       "      <td>64.110143</td>\n",
       "    </tr>\n",
       "    <tr>\n",
       "      <th>positive_rate</th>\n",
       "      <td>positive_rate</td>\n",
       "      <td>63.256734</td>\n",
       "    </tr>\n",
       "    <tr>\n",
       "      <th>new_tests_smoothed</th>\n",
       "      <td>new_tests_smoothed</td>\n",
       "      <td>60.956529</td>\n",
       "    </tr>\n",
       "    <tr>\n",
       "      <th>new_tests_smoothed_per_thousand</th>\n",
       "      <td>new_tests_smoothed_per_thousand</td>\n",
       "      <td>60.956529</td>\n",
       "    </tr>\n",
       "    <tr>\n",
       "      <th>tests_units</th>\n",
       "      <td>tests_units</td>\n",
       "      <td>59.165259</td>\n",
       "    </tr>\n",
       "    <tr>\n",
       "      <th>handwashing_facilities</th>\n",
       "      <td>handwashing_facilities</td>\n",
       "      <td>58.329629</td>\n",
       "    </tr>\n",
       "    <tr>\n",
       "      <th>extreme_poverty</th>\n",
       "      <td>extreme_poverty</td>\n",
       "      <td>41.230332</td>\n",
       "    </tr>\n",
       "    <tr>\n",
       "      <th>male_smokers</th>\n",
       "      <td>male_smokers</td>\n",
       "      <td>30.878300</td>\n",
       "    </tr>\n",
       "    <tr>\n",
       "      <th>female_smokers</th>\n",
       "      <td>female_smokers</td>\n",
       "      <td>29.996000</td>\n",
       "    </tr>\n",
       "    <tr>\n",
       "      <th>hospital_beds_per_thousand</th>\n",
       "      <td>hospital_beds_per_thousand</td>\n",
       "      <td>19.317273</td>\n",
       "    </tr>\n",
       "    <tr>\n",
       "      <th>stringency_index</th>\n",
       "      <td>stringency_index</td>\n",
       "      <td>17.592675</td>\n",
       "    </tr>\n",
       "    <tr>\n",
       "      <th>human_development_index</th>\n",
       "      <td>human_development_index</td>\n",
       "      <td>13.910125</td>\n",
       "    </tr>\n",
       "    <tr>\n",
       "      <th>aged_65_older</th>\n",
       "      <td>aged_65_older</td>\n",
       "      <td>12.118855</td>\n",
       "    </tr>\n",
       "    <tr>\n",
       "      <th>gdp_per_capita</th>\n",
       "      <td>gdp_per_capita</td>\n",
       "      <td>11.936617</td>\n",
       "    </tr>\n",
       "    <tr>\n",
       "      <th>aged_70_older</th>\n",
       "      <td>aged_70_older</td>\n",
       "      <td>11.258779</td>\n",
       "    </tr>\n",
       "    <tr>\n",
       "      <th>median_age</th>\n",
       "      <td>median_age</td>\n",
       "      <td>10.796515</td>\n",
       "    </tr>\n",
       "    <tr>\n",
       "      <th>cardiovasc_death_rate</th>\n",
       "      <td>cardiovasc_death_rate</td>\n",
       "      <td>10.763179</td>\n",
       "    </tr>\n",
       "    <tr>\n",
       "      <th>diabetes_prevalence</th>\n",
       "      <td>diabetes_prevalence</td>\n",
       "      <td>7.638457</td>\n",
       "    </tr>\n",
       "    <tr>\n",
       "      <th>population_density</th>\n",
       "      <td>population_density</td>\n",
       "      <td>5.100453</td>\n",
       "    </tr>\n",
       "    <tr>\n",
       "      <th>new_deaths_smoothed_per_million</th>\n",
       "      <td>new_deaths_smoothed_per_million</td>\n",
       "      <td>3.669215</td>\n",
       "    </tr>\n",
       "    <tr>\n",
       "      <th>new_cases_smoothed_per_million</th>\n",
       "      <td>new_cases_smoothed_per_million</td>\n",
       "      <td>3.669215</td>\n",
       "    </tr>\n",
       "    <tr>\n",
       "      <th>new_cases_smoothed</th>\n",
       "      <td>new_cases_smoothed</td>\n",
       "      <td>3.524758</td>\n",
       "    </tr>\n",
       "    <tr>\n",
       "      <th>new_deaths_smoothed</th>\n",
       "      <td>new_deaths_smoothed</td>\n",
       "      <td>3.524758</td>\n",
       "    </tr>\n",
       "    <tr>\n",
       "      <th>new_deaths_per_million</th>\n",
       "      <td>new_deaths_per_million</td>\n",
       "      <td>1.929060</td>\n",
       "    </tr>\n",
       "    <tr>\n",
       "      <th>total_cases_per_million</th>\n",
       "      <td>total_cases_per_million</td>\n",
       "      <td>1.929060</td>\n",
       "    </tr>\n",
       "    <tr>\n",
       "      <th>new_cases_per_million</th>\n",
       "      <td>new_cases_per_million</td>\n",
       "      <td>1.929060</td>\n",
       "    </tr>\n",
       "    <tr>\n",
       "      <th>total_deaths_per_million</th>\n",
       "      <td>total_deaths_per_million</td>\n",
       "      <td>1.929060</td>\n",
       "    </tr>\n",
       "    <tr>\n",
       "      <th>life_expectancy</th>\n",
       "      <td>life_expectancy</td>\n",
       "      <td>1.835719</td>\n",
       "    </tr>\n",
       "    <tr>\n",
       "      <th>new_cases</th>\n",
       "      <td>new_cases</td>\n",
       "      <td>1.786825</td>\n",
       "    </tr>\n",
       "    <tr>\n",
       "      <th>new_deaths</th>\n",
       "      <td>new_deaths</td>\n",
       "      <td>1.786825</td>\n",
       "    </tr>\n",
       "    <tr>\n",
       "      <th>total_deaths</th>\n",
       "      <td>total_deaths</td>\n",
       "      <td>1.340119</td>\n",
       "    </tr>\n",
       "    <tr>\n",
       "      <th>total_cases</th>\n",
       "      <td>total_cases</td>\n",
       "      <td>1.340119</td>\n",
       "    </tr>\n",
       "    <tr>\n",
       "      <th>continent</th>\n",
       "      <td>continent</td>\n",
       "      <td>1.177882</td>\n",
       "    </tr>\n",
       "    <tr>\n",
       "      <th>population</th>\n",
       "      <td>population</td>\n",
       "      <td>0.588941</td>\n",
       "    </tr>\n",
       "    <tr>\n",
       "      <th>iso_code</th>\n",
       "      <td>iso_code</td>\n",
       "      <td>0.588941</td>\n",
       "    </tr>\n",
       "    <tr>\n",
       "      <th>date</th>\n",
       "      <td>date</td>\n",
       "      <td>0.000000</td>\n",
       "    </tr>\n",
       "    <tr>\n",
       "      <th>location</th>\n",
       "      <td>location</td>\n",
       "      <td>0.000000</td>\n",
       "    </tr>\n",
       "  </tbody>\n",
       "</table>\n",
       "</div>"
      ],
      "text/plain": [
       "                                                     column_name  \\\n",
       "new_tests                                              new_tests   \n",
       "new_tests_per_thousand                    new_tests_per_thousand   \n",
       "total_tests_per_thousand                total_tests_per_thousand   \n",
       "total_tests                                          total_tests   \n",
       "tests_per_case                                    tests_per_case   \n",
       "positive_rate                                      positive_rate   \n",
       "new_tests_smoothed                            new_tests_smoothed   \n",
       "new_tests_smoothed_per_thousand  new_tests_smoothed_per_thousand   \n",
       "tests_units                                          tests_units   \n",
       "handwashing_facilities                    handwashing_facilities   \n",
       "extreme_poverty                                  extreme_poverty   \n",
       "male_smokers                                        male_smokers   \n",
       "female_smokers                                    female_smokers   \n",
       "hospital_beds_per_thousand            hospital_beds_per_thousand   \n",
       "stringency_index                                stringency_index   \n",
       "human_development_index                  human_development_index   \n",
       "aged_65_older                                      aged_65_older   \n",
       "gdp_per_capita                                    gdp_per_capita   \n",
       "aged_70_older                                      aged_70_older   \n",
       "median_age                                            median_age   \n",
       "cardiovasc_death_rate                      cardiovasc_death_rate   \n",
       "diabetes_prevalence                          diabetes_prevalence   \n",
       "population_density                            population_density   \n",
       "new_deaths_smoothed_per_million  new_deaths_smoothed_per_million   \n",
       "new_cases_smoothed_per_million    new_cases_smoothed_per_million   \n",
       "new_cases_smoothed                            new_cases_smoothed   \n",
       "new_deaths_smoothed                          new_deaths_smoothed   \n",
       "new_deaths_per_million                    new_deaths_per_million   \n",
       "total_cases_per_million                  total_cases_per_million   \n",
       "new_cases_per_million                      new_cases_per_million   \n",
       "total_deaths_per_million                total_deaths_per_million   \n",
       "life_expectancy                                  life_expectancy   \n",
       "new_cases                                              new_cases   \n",
       "new_deaths                                            new_deaths   \n",
       "total_deaths                                        total_deaths   \n",
       "total_cases                                          total_cases   \n",
       "continent                                              continent   \n",
       "population                                            population   \n",
       "iso_code                                                iso_code   \n",
       "date                                                        date   \n",
       "location                                                location   \n",
       "\n",
       "                                 percent_missing  \n",
       "new_tests                              65.225798  \n",
       "new_tests_per_thousand                 65.225798  \n",
       "total_tests_per_thousand               64.392390  \n",
       "total_tests                            64.392390  \n",
       "tests_per_case                         64.110143  \n",
       "positive_rate                          63.256734  \n",
       "new_tests_smoothed                     60.956529  \n",
       "new_tests_smoothed_per_thousand        60.956529  \n",
       "tests_units                            59.165259  \n",
       "handwashing_facilities                 58.329629  \n",
       "extreme_poverty                        41.230332  \n",
       "male_smokers                           30.878300  \n",
       "female_smokers                         29.996000  \n",
       "hospital_beds_per_thousand             19.317273  \n",
       "stringency_index                       17.592675  \n",
       "human_development_index                13.910125  \n",
       "aged_65_older                          12.118855  \n",
       "gdp_per_capita                         11.936617  \n",
       "aged_70_older                          11.258779  \n",
       "median_age                             10.796515  \n",
       "cardiovasc_death_rate                  10.763179  \n",
       "diabetes_prevalence                     7.638457  \n",
       "population_density                      5.100453  \n",
       "new_deaths_smoothed_per_million         3.669215  \n",
       "new_cases_smoothed_per_million          3.669215  \n",
       "new_cases_smoothed                      3.524758  \n",
       "new_deaths_smoothed                     3.524758  \n",
       "new_deaths_per_million                  1.929060  \n",
       "total_cases_per_million                 1.929060  \n",
       "new_cases_per_million                   1.929060  \n",
       "total_deaths_per_million                1.929060  \n",
       "life_expectancy                         1.835719  \n",
       "new_cases                               1.786825  \n",
       "new_deaths                              1.786825  \n",
       "total_deaths                            1.340119  \n",
       "total_cases                             1.340119  \n",
       "continent                               1.177882  \n",
       "population                              0.588941  \n",
       "iso_code                                0.588941  \n",
       "date                                    0.000000  \n",
       "location                                0.000000  "
      ]
     },
     "execution_count": 10,
     "metadata": {},
     "output_type": "execute_result"
    }
   ],
   "source": [
    "percent_missing = df.isnull().sum() * 100 / len(df)\n",
    "missing_value_df = pd.DataFrame({'column_name': df.columns,\n",
    "                                 'percent_missing': percent_missing})\n",
    "\n",
    "missing_value_df.sort_values('percent_missing', inplace=True, ascending=False)\n",
    "missing_value_df"
   ]
  },
  {
   "cell_type": "code",
   "execution_count": 11,
   "metadata": {
    "ExecuteTime": {
     "end_time": "2020-09-21T07:54:11.053050Z",
     "start_time": "2020-09-21T07:54:11.042933Z"
    }
   },
   "outputs": [
    {
     "data": {
      "text/plain": [
       "10"
      ]
     },
     "execution_count": 11,
     "metadata": {},
     "output_type": "execute_result"
    },
    {
     "data": {
      "text/plain": [
       "['new_tests',\n",
       " 'new_tests_per_thousand',\n",
       " 'total_tests_per_thousand',\n",
       " 'total_tests',\n",
       " 'tests_per_case',\n",
       " 'positive_rate',\n",
       " 'new_tests_smoothed',\n",
       " 'new_tests_smoothed_per_thousand',\n",
       " 'tests_units',\n",
       " 'handwashing_facilities']"
      ]
     },
     "execution_count": 11,
     "metadata": {},
     "output_type": "execute_result"
    }
   ],
   "source": [
    "cols_too_many_missing = missing_value_df[missing_value_df.percent_missing > 50].index.tolist()\n",
    "len(cols_too_many_missing)\n",
    "cols_too_many_missing"
   ]
  },
  {
   "cell_type": "code",
   "execution_count": 12,
   "metadata": {
    "ExecuteTime": {
     "end_time": "2020-09-21T07:54:11.065052Z",
     "start_time": "2020-09-21T07:54:11.056183Z"
    }
   },
   "outputs": [
    {
     "data": {
      "text/plain": [
       "41"
      ]
     },
     "execution_count": 12,
     "metadata": {},
     "output_type": "execute_result"
    }
   ],
   "source": [
    "len(df.columns)"
   ]
  },
  {
   "cell_type": "code",
   "execution_count": 13,
   "metadata": {
    "ExecuteTime": {
     "end_time": "2020-09-21T07:54:11.079291Z",
     "start_time": "2020-09-21T07:54:11.069966Z"
    }
   },
   "outputs": [],
   "source": [
    "df_reduced = df.drop(columns=cols_too_many_missing)"
   ]
  },
  {
   "cell_type": "code",
   "execution_count": 14,
   "metadata": {
    "ExecuteTime": {
     "end_time": "2020-09-21T07:54:11.087006Z",
     "start_time": "2020-09-21T07:54:11.081446Z"
    }
   },
   "outputs": [
    {
     "data": {
      "text/plain": [
       "31"
      ]
     },
     "execution_count": 14,
     "metadata": {},
     "output_type": "execute_result"
    }
   ],
   "source": [
    "len(df_reduced.columns)"
   ]
  },
  {
   "cell_type": "code",
   "execution_count": 15,
   "metadata": {
    "ExecuteTime": {
     "end_time": "2020-09-21T07:54:11.161101Z",
     "start_time": "2020-09-21T07:54:11.089148Z"
    }
   },
   "outputs": [
    {
     "data": {
      "text/html": [
       "<div>\n",
       "<style scoped>\n",
       "    .dataframe tbody tr th:only-of-type {\n",
       "        vertical-align: middle;\n",
       "    }\n",
       "\n",
       "    .dataframe tbody tr th {\n",
       "        vertical-align: top;\n",
       "    }\n",
       "\n",
       "    .dataframe thead th {\n",
       "        text-align: right;\n",
       "    }\n",
       "</style>\n",
       "<table border=\"1\" class=\"dataframe\">\n",
       "  <thead>\n",
       "    <tr style=\"text-align: right;\">\n",
       "      <th></th>\n",
       "      <th>iso_code</th>\n",
       "      <th>continent</th>\n",
       "      <th>location</th>\n",
       "      <th>date</th>\n",
       "      <th>total_cases</th>\n",
       "      <th>new_cases</th>\n",
       "      <th>new_cases_smoothed</th>\n",
       "      <th>total_deaths</th>\n",
       "      <th>new_deaths</th>\n",
       "      <th>new_deaths_smoothed</th>\n",
       "      <th>...</th>\n",
       "      <th>aged_70_older</th>\n",
       "      <th>gdp_per_capita</th>\n",
       "      <th>extreme_poverty</th>\n",
       "      <th>cardiovasc_death_rate</th>\n",
       "      <th>diabetes_prevalence</th>\n",
       "      <th>female_smokers</th>\n",
       "      <th>male_smokers</th>\n",
       "      <th>hospital_beds_per_thousand</th>\n",
       "      <th>life_expectancy</th>\n",
       "      <th>human_development_index</th>\n",
       "    </tr>\n",
       "  </thead>\n",
       "  <tbody>\n",
       "    <tr>\n",
       "      <th>0</th>\n",
       "      <td>AFG</td>\n",
       "      <td>Asia</td>\n",
       "      <td>Afghanistan</td>\n",
       "      <td>2019-12-31</td>\n",
       "      <td>0.0</td>\n",
       "      <td>0.0</td>\n",
       "      <td>NaN</td>\n",
       "      <td>0.0</td>\n",
       "      <td>0.0</td>\n",
       "      <td>NaN</td>\n",
       "      <td>...</td>\n",
       "      <td>1.337</td>\n",
       "      <td>1803.987</td>\n",
       "      <td>NaN</td>\n",
       "      <td>597.029</td>\n",
       "      <td>9.59</td>\n",
       "      <td>NaN</td>\n",
       "      <td>NaN</td>\n",
       "      <td>0.5</td>\n",
       "      <td>64.83</td>\n",
       "      <td>0.498</td>\n",
       "    </tr>\n",
       "    <tr>\n",
       "      <th>1</th>\n",
       "      <td>AFG</td>\n",
       "      <td>Asia</td>\n",
       "      <td>Afghanistan</td>\n",
       "      <td>2020-01-01</td>\n",
       "      <td>0.0</td>\n",
       "      <td>0.0</td>\n",
       "      <td>NaN</td>\n",
       "      <td>0.0</td>\n",
       "      <td>0.0</td>\n",
       "      <td>NaN</td>\n",
       "      <td>...</td>\n",
       "      <td>1.337</td>\n",
       "      <td>1803.987</td>\n",
       "      <td>NaN</td>\n",
       "      <td>597.029</td>\n",
       "      <td>9.59</td>\n",
       "      <td>NaN</td>\n",
       "      <td>NaN</td>\n",
       "      <td>0.5</td>\n",
       "      <td>64.83</td>\n",
       "      <td>0.498</td>\n",
       "    </tr>\n",
       "    <tr>\n",
       "      <th>2</th>\n",
       "      <td>AFG</td>\n",
       "      <td>Asia</td>\n",
       "      <td>Afghanistan</td>\n",
       "      <td>2020-01-02</td>\n",
       "      <td>0.0</td>\n",
       "      <td>0.0</td>\n",
       "      <td>NaN</td>\n",
       "      <td>0.0</td>\n",
       "      <td>0.0</td>\n",
       "      <td>NaN</td>\n",
       "      <td>...</td>\n",
       "      <td>1.337</td>\n",
       "      <td>1803.987</td>\n",
       "      <td>NaN</td>\n",
       "      <td>597.029</td>\n",
       "      <td>9.59</td>\n",
       "      <td>NaN</td>\n",
       "      <td>NaN</td>\n",
       "      <td>0.5</td>\n",
       "      <td>64.83</td>\n",
       "      <td>0.498</td>\n",
       "    </tr>\n",
       "    <tr>\n",
       "      <th>3</th>\n",
       "      <td>AFG</td>\n",
       "      <td>Asia</td>\n",
       "      <td>Afghanistan</td>\n",
       "      <td>2020-01-03</td>\n",
       "      <td>0.0</td>\n",
       "      <td>0.0</td>\n",
       "      <td>NaN</td>\n",
       "      <td>0.0</td>\n",
       "      <td>0.0</td>\n",
       "      <td>NaN</td>\n",
       "      <td>...</td>\n",
       "      <td>1.337</td>\n",
       "      <td>1803.987</td>\n",
       "      <td>NaN</td>\n",
       "      <td>597.029</td>\n",
       "      <td>9.59</td>\n",
       "      <td>NaN</td>\n",
       "      <td>NaN</td>\n",
       "      <td>0.5</td>\n",
       "      <td>64.83</td>\n",
       "      <td>0.498</td>\n",
       "    </tr>\n",
       "    <tr>\n",
       "      <th>4</th>\n",
       "      <td>AFG</td>\n",
       "      <td>Asia</td>\n",
       "      <td>Afghanistan</td>\n",
       "      <td>2020-01-04</td>\n",
       "      <td>0.0</td>\n",
       "      <td>0.0</td>\n",
       "      <td>NaN</td>\n",
       "      <td>0.0</td>\n",
       "      <td>0.0</td>\n",
       "      <td>NaN</td>\n",
       "      <td>...</td>\n",
       "      <td>1.337</td>\n",
       "      <td>1803.987</td>\n",
       "      <td>NaN</td>\n",
       "      <td>597.029</td>\n",
       "      <td>9.59</td>\n",
       "      <td>NaN</td>\n",
       "      <td>NaN</td>\n",
       "      <td>0.5</td>\n",
       "      <td>64.83</td>\n",
       "      <td>0.498</td>\n",
       "    </tr>\n",
       "    <tr>\n",
       "      <th>...</th>\n",
       "      <td>...</td>\n",
       "      <td>...</td>\n",
       "      <td>...</td>\n",
       "      <td>...</td>\n",
       "      <td>...</td>\n",
       "      <td>...</td>\n",
       "      <td>...</td>\n",
       "      <td>...</td>\n",
       "      <td>...</td>\n",
       "      <td>...</td>\n",
       "      <td>...</td>\n",
       "      <td>...</td>\n",
       "      <td>...</td>\n",
       "      <td>...</td>\n",
       "      <td>...</td>\n",
       "      <td>...</td>\n",
       "      <td>...</td>\n",
       "      <td>...</td>\n",
       "      <td>...</td>\n",
       "      <td>...</td>\n",
       "      <td>...</td>\n",
       "    </tr>\n",
       "    <tr>\n",
       "      <th>44991</th>\n",
       "      <td>NaN</td>\n",
       "      <td>NaN</td>\n",
       "      <td>International</td>\n",
       "      <td>2020-09-16</td>\n",
       "      <td>696.0</td>\n",
       "      <td>NaN</td>\n",
       "      <td>NaN</td>\n",
       "      <td>7.0</td>\n",
       "      <td>NaN</td>\n",
       "      <td>NaN</td>\n",
       "      <td>...</td>\n",
       "      <td>NaN</td>\n",
       "      <td>NaN</td>\n",
       "      <td>NaN</td>\n",
       "      <td>NaN</td>\n",
       "      <td>NaN</td>\n",
       "      <td>NaN</td>\n",
       "      <td>NaN</td>\n",
       "      <td>NaN</td>\n",
       "      <td>NaN</td>\n",
       "      <td>NaN</td>\n",
       "    </tr>\n",
       "    <tr>\n",
       "      <th>44992</th>\n",
       "      <td>NaN</td>\n",
       "      <td>NaN</td>\n",
       "      <td>International</td>\n",
       "      <td>2020-09-17</td>\n",
       "      <td>696.0</td>\n",
       "      <td>NaN</td>\n",
       "      <td>NaN</td>\n",
       "      <td>7.0</td>\n",
       "      <td>NaN</td>\n",
       "      <td>NaN</td>\n",
       "      <td>...</td>\n",
       "      <td>NaN</td>\n",
       "      <td>NaN</td>\n",
       "      <td>NaN</td>\n",
       "      <td>NaN</td>\n",
       "      <td>NaN</td>\n",
       "      <td>NaN</td>\n",
       "      <td>NaN</td>\n",
       "      <td>NaN</td>\n",
       "      <td>NaN</td>\n",
       "      <td>NaN</td>\n",
       "    </tr>\n",
       "    <tr>\n",
       "      <th>44993</th>\n",
       "      <td>NaN</td>\n",
       "      <td>NaN</td>\n",
       "      <td>International</td>\n",
       "      <td>2020-09-18</td>\n",
       "      <td>696.0</td>\n",
       "      <td>NaN</td>\n",
       "      <td>NaN</td>\n",
       "      <td>7.0</td>\n",
       "      <td>NaN</td>\n",
       "      <td>NaN</td>\n",
       "      <td>...</td>\n",
       "      <td>NaN</td>\n",
       "      <td>NaN</td>\n",
       "      <td>NaN</td>\n",
       "      <td>NaN</td>\n",
       "      <td>NaN</td>\n",
       "      <td>NaN</td>\n",
       "      <td>NaN</td>\n",
       "      <td>NaN</td>\n",
       "      <td>NaN</td>\n",
       "      <td>NaN</td>\n",
       "    </tr>\n",
       "    <tr>\n",
       "      <th>44994</th>\n",
       "      <td>NaN</td>\n",
       "      <td>NaN</td>\n",
       "      <td>International</td>\n",
       "      <td>2020-09-19</td>\n",
       "      <td>696.0</td>\n",
       "      <td>NaN</td>\n",
       "      <td>NaN</td>\n",
       "      <td>7.0</td>\n",
       "      <td>NaN</td>\n",
       "      <td>NaN</td>\n",
       "      <td>...</td>\n",
       "      <td>NaN</td>\n",
       "      <td>NaN</td>\n",
       "      <td>NaN</td>\n",
       "      <td>NaN</td>\n",
       "      <td>NaN</td>\n",
       "      <td>NaN</td>\n",
       "      <td>NaN</td>\n",
       "      <td>NaN</td>\n",
       "      <td>NaN</td>\n",
       "      <td>NaN</td>\n",
       "    </tr>\n",
       "    <tr>\n",
       "      <th>44995</th>\n",
       "      <td>NaN</td>\n",
       "      <td>NaN</td>\n",
       "      <td>International</td>\n",
       "      <td>2020-09-20</td>\n",
       "      <td>696.0</td>\n",
       "      <td>NaN</td>\n",
       "      <td>NaN</td>\n",
       "      <td>7.0</td>\n",
       "      <td>NaN</td>\n",
       "      <td>NaN</td>\n",
       "      <td>...</td>\n",
       "      <td>NaN</td>\n",
       "      <td>NaN</td>\n",
       "      <td>NaN</td>\n",
       "      <td>NaN</td>\n",
       "      <td>NaN</td>\n",
       "      <td>NaN</td>\n",
       "      <td>NaN</td>\n",
       "      <td>NaN</td>\n",
       "      <td>NaN</td>\n",
       "      <td>NaN</td>\n",
       "    </tr>\n",
       "  </tbody>\n",
       "</table>\n",
       "<p>44996 rows × 31 columns</p>\n",
       "</div>"
      ],
      "text/plain": [
       "      iso_code continent       location        date  total_cases  new_cases  \\\n",
       "0          AFG      Asia    Afghanistan  2019-12-31          0.0        0.0   \n",
       "1          AFG      Asia    Afghanistan  2020-01-01          0.0        0.0   \n",
       "2          AFG      Asia    Afghanistan  2020-01-02          0.0        0.0   \n",
       "3          AFG      Asia    Afghanistan  2020-01-03          0.0        0.0   \n",
       "4          AFG      Asia    Afghanistan  2020-01-04          0.0        0.0   \n",
       "...        ...       ...            ...         ...          ...        ...   \n",
       "44991      NaN       NaN  International  2020-09-16        696.0        NaN   \n",
       "44992      NaN       NaN  International  2020-09-17        696.0        NaN   \n",
       "44993      NaN       NaN  International  2020-09-18        696.0        NaN   \n",
       "44994      NaN       NaN  International  2020-09-19        696.0        NaN   \n",
       "44995      NaN       NaN  International  2020-09-20        696.0        NaN   \n",
       "\n",
       "       new_cases_smoothed  total_deaths  new_deaths  new_deaths_smoothed  ...  \\\n",
       "0                     NaN           0.0         0.0                  NaN  ...   \n",
       "1                     NaN           0.0         0.0                  NaN  ...   \n",
       "2                     NaN           0.0         0.0                  NaN  ...   \n",
       "3                     NaN           0.0         0.0                  NaN  ...   \n",
       "4                     NaN           0.0         0.0                  NaN  ...   \n",
       "...                   ...           ...         ...                  ...  ...   \n",
       "44991                 NaN           7.0         NaN                  NaN  ...   \n",
       "44992                 NaN           7.0         NaN                  NaN  ...   \n",
       "44993                 NaN           7.0         NaN                  NaN  ...   \n",
       "44994                 NaN           7.0         NaN                  NaN  ...   \n",
       "44995                 NaN           7.0         NaN                  NaN  ...   \n",
       "\n",
       "       aged_70_older  gdp_per_capita  extreme_poverty  cardiovasc_death_rate  \\\n",
       "0              1.337        1803.987              NaN                597.029   \n",
       "1              1.337        1803.987              NaN                597.029   \n",
       "2              1.337        1803.987              NaN                597.029   \n",
       "3              1.337        1803.987              NaN                597.029   \n",
       "4              1.337        1803.987              NaN                597.029   \n",
       "...              ...             ...              ...                    ...   \n",
       "44991            NaN             NaN              NaN                    NaN   \n",
       "44992            NaN             NaN              NaN                    NaN   \n",
       "44993            NaN             NaN              NaN                    NaN   \n",
       "44994            NaN             NaN              NaN                    NaN   \n",
       "44995            NaN             NaN              NaN                    NaN   \n",
       "\n",
       "       diabetes_prevalence  female_smokers  male_smokers  \\\n",
       "0                     9.59             NaN           NaN   \n",
       "1                     9.59             NaN           NaN   \n",
       "2                     9.59             NaN           NaN   \n",
       "3                     9.59             NaN           NaN   \n",
       "4                     9.59             NaN           NaN   \n",
       "...                    ...             ...           ...   \n",
       "44991                  NaN             NaN           NaN   \n",
       "44992                  NaN             NaN           NaN   \n",
       "44993                  NaN             NaN           NaN   \n",
       "44994                  NaN             NaN           NaN   \n",
       "44995                  NaN             NaN           NaN   \n",
       "\n",
       "       hospital_beds_per_thousand  life_expectancy  human_development_index  \n",
       "0                             0.5            64.83                    0.498  \n",
       "1                             0.5            64.83                    0.498  \n",
       "2                             0.5            64.83                    0.498  \n",
       "3                             0.5            64.83                    0.498  \n",
       "4                             0.5            64.83                    0.498  \n",
       "...                           ...              ...                      ...  \n",
       "44991                         NaN              NaN                      NaN  \n",
       "44992                         NaN              NaN                      NaN  \n",
       "44993                         NaN              NaN                      NaN  \n",
       "44994                         NaN              NaN                      NaN  \n",
       "44995                         NaN              NaN                      NaN  \n",
       "\n",
       "[44996 rows x 31 columns]"
      ]
     },
     "execution_count": 15,
     "metadata": {},
     "output_type": "execute_result"
    }
   ],
   "source": [
    "df_reduced"
   ]
  },
  {
   "cell_type": "code",
   "execution_count": 16,
   "metadata": {
    "ExecuteTime": {
     "end_time": "2020-09-21T07:54:11.173339Z",
     "start_time": "2020-09-21T07:54:11.164886Z"
    }
   },
   "outputs": [],
   "source": [
    "df = df_reduced"
   ]
  },
  {
   "cell_type": "code",
   "execution_count": 17,
   "metadata": {
    "ExecuteTime": {
     "end_time": "2020-09-21T07:54:11.203907Z",
     "start_time": "2020-09-21T07:54:11.177765Z"
    }
   },
   "outputs": [
    {
     "name": "stdout",
     "output_type": "stream",
     "text": [
      "<class 'pandas.core.frame.DataFrame'>\n",
      "RangeIndex: 44996 entries, 0 to 44995\n",
      "Data columns (total 31 columns):\n",
      " #   Column                           Non-Null Count  Dtype  \n",
      "---  ------                           --------------  -----  \n",
      " 0   iso_code                         44731 non-null  object \n",
      " 1   continent                        44466 non-null  object \n",
      " 2   location                         44996 non-null  object \n",
      " 3   date                             44996 non-null  object \n",
      " 4   total_cases                      44393 non-null  float64\n",
      " 5   new_cases                        44192 non-null  float64\n",
      " 6   new_cases_smoothed               43410 non-null  float64\n",
      " 7   total_deaths                     44393 non-null  float64\n",
      " 8   new_deaths                       44192 non-null  float64\n",
      " 9   new_deaths_smoothed              43410 non-null  float64\n",
      " 10  total_cases_per_million          44128 non-null  float64\n",
      " 11  new_cases_per_million            44128 non-null  float64\n",
      " 12  new_cases_smoothed_per_million   43345 non-null  float64\n",
      " 13  total_deaths_per_million         44128 non-null  float64\n",
      " 14  new_deaths_per_million           44128 non-null  float64\n",
      " 15  new_deaths_smoothed_per_million  43345 non-null  float64\n",
      " 16  stringency_index                 37080 non-null  float64\n",
      " 17  population                       44731 non-null  float64\n",
      " 18  population_density               42701 non-null  float64\n",
      " 19  median_age                       40138 non-null  float64\n",
      " 20  aged_65_older                    39543 non-null  float64\n",
      " 21  aged_70_older                    39930 non-null  float64\n",
      " 22  gdp_per_capita                   39625 non-null  float64\n",
      " 23  extreme_poverty                  26444 non-null  float64\n",
      " 24  cardiovasc_death_rate            40153 non-null  float64\n",
      " 25  diabetes_prevalence              41559 non-null  float64\n",
      " 26  female_smokers                   31499 non-null  float64\n",
      " 27  male_smokers                     31102 non-null  float64\n",
      " 28  hospital_beds_per_thousand       36304 non-null  float64\n",
      " 29  life_expectancy                  44170 non-null  float64\n",
      " 30  human_development_index          38737 non-null  float64\n",
      "dtypes: float64(27), object(4)\n",
      "memory usage: 10.6+ MB\n"
     ]
    }
   ],
   "source": [
    "df.info()"
   ]
  },
  {
   "cell_type": "code",
   "execution_count": 18,
   "metadata": {
    "ExecuteTime": {
     "end_time": "2020-09-21T07:54:11.223283Z",
     "start_time": "2020-09-21T07:54:11.206188Z"
    }
   },
   "outputs": [],
   "source": [
    "missing_iso_code = df[df.iso_code.isna()]\n",
    "df = df.drop(index=missing_iso_code.index)"
   ]
  },
  {
   "cell_type": "code",
   "execution_count": 19,
   "metadata": {
    "ExecuteTime": {
     "end_time": "2020-09-21T07:54:11.252239Z",
     "start_time": "2020-09-21T07:54:11.226035Z"
    }
   },
   "outputs": [],
   "source": [
    "missing_continent = df[df.continent.isna()]\n",
    "df = df.drop(index=missing_continent.index)"
   ]
  },
  {
   "cell_type": "code",
   "execution_count": 20,
   "metadata": {
    "ExecuteTime": {
     "end_time": "2020-09-21T07:54:11.419201Z",
     "start_time": "2020-09-21T07:54:11.254683Z"
    }
   },
   "outputs": [
    {
     "data": {
      "text/plain": [
       "('iso_code', 0)"
      ]
     },
     "execution_count": 20,
     "metadata": {},
     "output_type": "execute_result"
    },
    {
     "data": {
      "text/plain": [
       "('continent', 0)"
      ]
     },
     "execution_count": 20,
     "metadata": {},
     "output_type": "execute_result"
    },
    {
     "data": {
      "text/plain": [
       "('location', 0)"
      ]
     },
     "execution_count": 20,
     "metadata": {},
     "output_type": "execute_result"
    },
    {
     "data": {
      "text/plain": [
       "('date', 0)"
      ]
     },
     "execution_count": 20,
     "metadata": {},
     "output_type": "execute_result"
    },
    {
     "data": {
      "text/plain": [
       "('total_cases', 603)"
      ]
     },
     "execution_count": 20,
     "metadata": {},
     "output_type": "execute_result"
    },
    {
     "data": {
      "text/plain": [
       "('new_cases', 603)"
      ]
     },
     "execution_count": 20,
     "metadata": {},
     "output_type": "execute_result"
    },
    {
     "data": {
      "text/plain": [
       "('new_cases_smoothed', 1380)"
      ]
     },
     "execution_count": 20,
     "metadata": {},
     "output_type": "execute_result"
    },
    {
     "data": {
      "text/plain": [
       "('total_deaths', 603)"
      ]
     },
     "execution_count": 20,
     "metadata": {},
     "output_type": "execute_result"
    },
    {
     "data": {
      "text/plain": [
       "('new_deaths', 603)"
      ]
     },
     "execution_count": 20,
     "metadata": {},
     "output_type": "execute_result"
    },
    {
     "data": {
      "text/plain": [
       "('new_deaths_smoothed', 1380)"
      ]
     },
     "execution_count": 20,
     "metadata": {},
     "output_type": "execute_result"
    },
    {
     "data": {
      "text/plain": [
       "('total_cases_per_million', 603)"
      ]
     },
     "execution_count": 20,
     "metadata": {},
     "output_type": "execute_result"
    },
    {
     "data": {
      "text/plain": [
       "('new_cases_per_million', 603)"
      ]
     },
     "execution_count": 20,
     "metadata": {},
     "output_type": "execute_result"
    },
    {
     "data": {
      "text/plain": [
       "('new_cases_smoothed_per_million', 1380)"
      ]
     },
     "execution_count": 20,
     "metadata": {},
     "output_type": "execute_result"
    },
    {
     "data": {
      "text/plain": [
       "('total_deaths_per_million', 603)"
      ]
     },
     "execution_count": 20,
     "metadata": {},
     "output_type": "execute_result"
    },
    {
     "data": {
      "text/plain": [
       "('new_deaths_per_million', 603)"
      ]
     },
     "execution_count": 20,
     "metadata": {},
     "output_type": "execute_result"
    },
    {
     "data": {
      "text/plain": [
       "('new_deaths_smoothed_per_million', 1380)"
      ]
     },
     "execution_count": 20,
     "metadata": {},
     "output_type": "execute_result"
    },
    {
     "data": {
      "text/plain": [
       "('stringency_index', 7386)"
      ]
     },
     "execution_count": 20,
     "metadata": {},
     "output_type": "execute_result"
    },
    {
     "data": {
      "text/plain": [
       "('population', 0)"
      ]
     },
     "execution_count": 20,
     "metadata": {},
     "output_type": "execute_result"
    },
    {
     "data": {
      "text/plain": [
       "('population_density', 2030)"
      ]
     },
     "execution_count": 20,
     "metadata": {},
     "output_type": "execute_result"
    },
    {
     "data": {
      "text/plain": [
       "('median_age', 4593)"
      ]
     },
     "execution_count": 20,
     "metadata": {},
     "output_type": "execute_result"
    },
    {
     "data": {
      "text/plain": [
       "('aged_65_older', 5188)"
      ]
     },
     "execution_count": 20,
     "metadata": {},
     "output_type": "execute_result"
    },
    {
     "data": {
      "text/plain": [
       "('aged_70_older', 4801)"
      ]
     },
     "execution_count": 20,
     "metadata": {},
     "output_type": "execute_result"
    },
    {
     "data": {
      "text/plain": [
       "('gdp_per_capita', 5106)"
      ]
     },
     "execution_count": 20,
     "metadata": {},
     "output_type": "execute_result"
    },
    {
     "data": {
      "text/plain": [
       "('extreme_poverty', 18287)"
      ]
     },
     "execution_count": 20,
     "metadata": {},
     "output_type": "execute_result"
    },
    {
     "data": {
      "text/plain": [
       "('cardiovasc_death_rate', 4578)"
      ]
     },
     "execution_count": 20,
     "metadata": {},
     "output_type": "execute_result"
    },
    {
     "data": {
      "text/plain": [
       "('diabetes_prevalence', 3172)"
      ]
     },
     "execution_count": 20,
     "metadata": {},
     "output_type": "execute_result"
    },
    {
     "data": {
      "text/plain": [
       "('female_smokers', 13232)"
      ]
     },
     "execution_count": 20,
     "metadata": {},
     "output_type": "execute_result"
    },
    {
     "data": {
      "text/plain": [
       "('male_smokers', 13629)"
      ]
     },
     "execution_count": 20,
     "metadata": {},
     "output_type": "execute_result"
    },
    {
     "data": {
      "text/plain": [
       "('hospital_beds_per_thousand', 8427)"
      ]
     },
     "execution_count": 20,
     "metadata": {},
     "output_type": "execute_result"
    },
    {
     "data": {
      "text/plain": [
       "('life_expectancy', 561)"
      ]
     },
     "execution_count": 20,
     "metadata": {},
     "output_type": "execute_result"
    },
    {
     "data": {
      "text/plain": [
       "('human_development_index', 5729)"
      ]
     },
     "execution_count": 20,
     "metadata": {},
     "output_type": "execute_result"
    }
   ],
   "source": [
    "for col in df.columns: \n",
    "    col, df[col].isna().sum()"
   ]
  },
  {
   "cell_type": "markdown",
   "metadata": {},
   "source": [
    "Now we have removed the rows and columns that contained too many Nans."
   ]
  },
  {
   "cell_type": "markdown",
   "metadata": {},
   "source": [
    "# Preprocess for ML\n",
    "\n",
    "Now we need to encode the nominal variables and impute nans of the numerical variables."
   ]
  },
  {
   "cell_type": "code",
   "execution_count": 21,
   "metadata": {
    "ExecuteTime": {
     "end_time": "2020-09-21T07:54:11.985727Z",
     "start_time": "2020-09-21T07:54:11.422629Z"
    }
   },
   "outputs": [],
   "source": [
    "from sklearn.preprocessing import LabelEncoder\n",
    "from sklearn.model_selection import train_test_split"
   ]
  },
  {
   "cell_type": "markdown",
   "metadata": {},
   "source": [
    "## Encode categorical"
   ]
  },
  {
   "cell_type": "code",
   "execution_count": 25,
   "metadata": {
    "ExecuteTime": {
     "end_time": "2020-09-21T07:55:48.649333Z",
     "start_time": "2020-09-21T07:55:48.639773Z"
    }
   },
   "outputs": [
    {
     "data": {
      "text/plain": [
       "['iso_code', 'continent', 'location', 'date']"
      ]
     },
     "execution_count": 25,
     "metadata": {},
     "output_type": "execute_result"
    }
   ],
   "source": [
    "nominal = df.select_dtypes(include=['object']).copy()\n",
    "nominal_cols = nominal.columns.tolist()\n",
    "nominal_cols"
   ]
  },
  {
   "cell_type": "code",
   "execution_count": 26,
   "metadata": {
    "ExecuteTime": {
     "end_time": "2020-09-21T07:55:48.711892Z",
     "start_time": "2020-09-21T07:55:48.652207Z"
    }
   },
   "outputs": [
    {
     "data": {
      "text/plain": [
       "'iso_code'"
      ]
     },
     "execution_count": 26,
     "metadata": {},
     "output_type": "execute_result"
    },
    {
     "data": {
      "text/plain": [
       "'continent'"
      ]
     },
     "execution_count": 26,
     "metadata": {},
     "output_type": "execute_result"
    },
    {
     "data": {
      "text/plain": [
       "'location'"
      ]
     },
     "execution_count": 26,
     "metadata": {},
     "output_type": "execute_result"
    },
    {
     "data": {
      "text/plain": [
       "'date'"
      ]
     },
     "execution_count": 26,
     "metadata": {},
     "output_type": "execute_result"
    }
   ],
   "source": [
    "encoder = LabelEncoder()\n",
    "for col in nominal_cols:\n",
    "    col\n",
    "    if df[col].isna().sum() > 0:\n",
    "        df[col].fillna('MISSING', inplace=True)\n",
    "    df[col] = encoder.fit_transform(df[col])"
   ]
  },
  {
   "cell_type": "code",
   "execution_count": 27,
   "metadata": {
    "ExecuteTime": {
     "end_time": "2020-09-21T07:55:48.725788Z",
     "start_time": "2020-09-21T07:55:48.714647Z"
    }
   },
   "outputs": [
    {
     "data": {
      "text/plain": [
       "array([  1,   4,  55,   5,   2,   3,   9,   7,   8,   0,  10,  11,  12,\n",
       "        21,  20,  18,  28,  23,  14,  24,  15,  25,  30,  26,  16,  22,\n",
       "        31,  27, 203,  29,  19,  17,  13, 105,  38,  33,  43,  47,  32,\n",
       "       185,  35,  36,  41,  42,  40,  44,  37,  86,  45,  46,  48,  49,\n",
       "        39,  53,  51,  52,  54,  56,  57, 170,  77,  58,  61,  62,  67,\n",
       "        65,  64,  63,  66, 160,  68,  75,  70,  50,  72,  73,  78,  80,\n",
       "        79,  82,  81,  71,  74,  76,  83,  87,  85,  84,  88,  95,  91,\n",
       "        89,  93,  94,  92,  90,  96,  97,  98, 101,  99, 100, 102, 103,\n",
       "       149, 108, 104, 109, 119, 110, 116, 111, 112, 114, 117, 118, 126,\n",
       "       123, 137, 138, 124, 127, 128, 134, 136, 125, 122, 121, 131, 130,\n",
       "       135, 120, 133, 129, 139, 146, 144, 140, 147, 143, 141, 142, 132,\n",
       "       145, 148, 150, 159, 151, 154, 158, 152, 153, 155, 157, 156, 161,\n",
       "       162, 163, 164, 106, 113, 201, 171, 175, 165, 167, 173, 182, 169,\n",
       "       168, 181, 177, 178, 172, 207, 107, 174,  60, 115, 166, 176, 180,\n",
       "       179,  34, 183, 193, 188, 194, 187, 189, 186, 190, 191, 192, 184,\n",
       "       195, 196,   6,  69, 198, 204, 197, 199, 200, 202, 205,  59, 206,\n",
       "       208, 209])"
      ]
     },
     "execution_count": 27,
     "metadata": {},
     "output_type": "execute_result"
    },
    {
     "data": {
      "text/plain": [
       "array([1, 2, 0, 3, 5, 4])"
      ]
     },
     "execution_count": 27,
     "metadata": {},
     "output_type": "execute_result"
    },
    {
     "data": {
      "text/plain": [
       "array([  0,   1,   2,   3,   4,   5,   6,   7,   8,   9,  10,  11,  12,\n",
       "        13,  14,  15,  16,  17,  18,  19,  20,  21,  22,  23,  24,  25,\n",
       "        26,  27,  28,  29,  30,  31,  32,  33,  34,  35,  36,  37,  38,\n",
       "        39,  40,  41,  42,  43,  44,  45,  46,  47,  48,  49,  50,  51,\n",
       "        52,  53,  54,  55,  56,  57,  58,  59,  60,  61,  62,  63,  64,\n",
       "        65,  66,  67,  68,  69,  70,  71,  72,  73,  74,  75,  76,  77,\n",
       "        78,  79,  80,  81,  82,  83,  84,  85,  86,  87,  88,  89,  90,\n",
       "        91,  92,  93,  94,  95,  96,  97,  98,  99, 100, 101, 102, 103,\n",
       "       104, 105, 106, 107, 108, 109, 110, 111, 112, 113, 114, 115, 116,\n",
       "       117, 118, 119, 120, 121, 122, 123, 124, 125, 126, 127, 128, 129,\n",
       "       130, 131, 132, 133, 134, 135, 136, 137, 138, 139, 140, 141, 142,\n",
       "       143, 144, 145, 146, 147, 148, 149, 150, 151, 152, 153, 154, 155,\n",
       "       156, 157, 158, 159, 160, 161, 162, 163, 164, 165, 166, 167, 168,\n",
       "       169, 170, 171, 172, 173, 174, 175, 176, 177, 178, 179, 180, 181,\n",
       "       182, 183, 184, 185, 186, 187, 188, 189, 190, 191, 192, 193, 194,\n",
       "       195, 196, 197, 198, 199, 200, 201, 202, 203, 204, 205, 206, 207,\n",
       "       208, 209])"
      ]
     },
     "execution_count": 27,
     "metadata": {},
     "output_type": "execute_result"
    },
    {
     "data": {
      "text/plain": [
       "array([  0,   1,   2,   3,   4,   5,   6,   7,   8,   9,  10,  11,  12,\n",
       "        13,  14,  15,  16,  17,  18,  19,  20,  21,  22,  23,  24,  25,\n",
       "        26,  27,  28,  29,  30,  31,  32,  33,  34,  35,  36,  37,  38,\n",
       "        39,  40,  41,  42,  43,  44,  45,  46,  47,  48,  49,  50,  51,\n",
       "        52,  53,  54,  55,  56,  57,  58,  59,  60,  61,  62,  63,  64,\n",
       "        65,  66,  67,  68,  69,  70,  71,  72,  73,  74,  75,  76,  77,\n",
       "        78,  79,  80,  81,  82,  83,  84,  85,  86,  87,  88,  89,  90,\n",
       "        91,  92,  93,  94,  95,  96,  97,  98,  99, 100, 101, 102, 103,\n",
       "       104, 105, 106, 107, 108, 109, 110, 111, 112, 113, 114, 115, 116,\n",
       "       117, 118, 119, 120, 121, 122, 123, 124, 125, 126, 127, 128, 129,\n",
       "       130, 131, 132, 133, 134, 135, 136, 137, 138, 139, 140, 141, 142,\n",
       "       143, 144, 145, 146, 147, 148, 149, 150, 151, 152, 153, 154, 155,\n",
       "       156, 157, 158, 159, 160, 161, 162, 163, 164, 165, 166, 167, 168,\n",
       "       169, 170, 171, 172, 173, 174, 175, 176, 177, 178, 179, 180, 181,\n",
       "       182, 183, 184, 185, 186, 187, 188, 189, 190, 191, 192, 193, 194,\n",
       "       195, 196, 197, 198, 199, 200, 201, 202, 203, 204, 205, 206, 207,\n",
       "       208, 209, 210, 211, 212, 213, 214, 215, 216, 217, 218, 219, 220,\n",
       "       221, 222, 223, 224, 225, 226, 227, 228, 229, 230, 231, 232, 233,\n",
       "       234, 235, 236, 237, 238, 239, 240, 241, 242, 243, 244, 245, 246,\n",
       "       247, 248, 249, 250, 251, 252, 253, 254, 255, 256, 257, 258, 259,\n",
       "       260, 261, 262, 263, 264])"
      ]
     },
     "execution_count": 27,
     "metadata": {},
     "output_type": "execute_result"
    }
   ],
   "source": [
    "for col in nominal_cols:\n",
    "    df[col].unique()"
   ]
  },
  {
   "cell_type": "markdown",
   "metadata": {},
   "source": [
    "## Impute missing values of numerical"
   ]
  },
  {
   "cell_type": "code",
   "execution_count": 28,
   "metadata": {
    "ExecuteTime": {
     "end_time": "2020-09-21T07:55:48.769100Z",
     "start_time": "2020-09-21T07:55:48.728145Z"
    }
   },
   "outputs": [
    {
     "data": {
      "text/html": [
       "<div>\n",
       "<style scoped>\n",
       "    .dataframe tbody tr th:only-of-type {\n",
       "        vertical-align: middle;\n",
       "    }\n",
       "\n",
       "    .dataframe tbody tr th {\n",
       "        vertical-align: top;\n",
       "    }\n",
       "\n",
       "    .dataframe thead th {\n",
       "        text-align: right;\n",
       "    }\n",
       "</style>\n",
       "<table border=\"1\" class=\"dataframe\">\n",
       "  <thead>\n",
       "    <tr style=\"text-align: right;\">\n",
       "      <th></th>\n",
       "      <th>total_cases</th>\n",
       "      <th>new_cases</th>\n",
       "      <th>new_cases_smoothed</th>\n",
       "      <th>total_deaths</th>\n",
       "      <th>new_deaths</th>\n",
       "      <th>new_deaths_smoothed</th>\n",
       "      <th>total_cases_per_million</th>\n",
       "      <th>new_cases_per_million</th>\n",
       "      <th>new_cases_smoothed_per_million</th>\n",
       "      <th>total_deaths_per_million</th>\n",
       "      <th>...</th>\n",
       "      <th>aged_70_older</th>\n",
       "      <th>gdp_per_capita</th>\n",
       "      <th>extreme_poverty</th>\n",
       "      <th>cardiovasc_death_rate</th>\n",
       "      <th>diabetes_prevalence</th>\n",
       "      <th>female_smokers</th>\n",
       "      <th>male_smokers</th>\n",
       "      <th>hospital_beds_per_thousand</th>\n",
       "      <th>life_expectancy</th>\n",
       "      <th>human_development_index</th>\n",
       "    </tr>\n",
       "  </thead>\n",
       "  <tbody>\n",
       "    <tr>\n",
       "      <th>0</th>\n",
       "      <td>0.0</td>\n",
       "      <td>0.0</td>\n",
       "      <td>NaN</td>\n",
       "      <td>0.0</td>\n",
       "      <td>0.0</td>\n",
       "      <td>NaN</td>\n",
       "      <td>0.000</td>\n",
       "      <td>0.000</td>\n",
       "      <td>NaN</td>\n",
       "      <td>0.000</td>\n",
       "      <td>...</td>\n",
       "      <td>1.337</td>\n",
       "      <td>1803.987</td>\n",
       "      <td>NaN</td>\n",
       "      <td>597.029</td>\n",
       "      <td>9.59</td>\n",
       "      <td>NaN</td>\n",
       "      <td>NaN</td>\n",
       "      <td>0.5</td>\n",
       "      <td>64.83</td>\n",
       "      <td>0.498</td>\n",
       "    </tr>\n",
       "    <tr>\n",
       "      <th>1</th>\n",
       "      <td>0.0</td>\n",
       "      <td>0.0</td>\n",
       "      <td>NaN</td>\n",
       "      <td>0.0</td>\n",
       "      <td>0.0</td>\n",
       "      <td>NaN</td>\n",
       "      <td>0.000</td>\n",
       "      <td>0.000</td>\n",
       "      <td>NaN</td>\n",
       "      <td>0.000</td>\n",
       "      <td>...</td>\n",
       "      <td>1.337</td>\n",
       "      <td>1803.987</td>\n",
       "      <td>NaN</td>\n",
       "      <td>597.029</td>\n",
       "      <td>9.59</td>\n",
       "      <td>NaN</td>\n",
       "      <td>NaN</td>\n",
       "      <td>0.5</td>\n",
       "      <td>64.83</td>\n",
       "      <td>0.498</td>\n",
       "    </tr>\n",
       "    <tr>\n",
       "      <th>2</th>\n",
       "      <td>0.0</td>\n",
       "      <td>0.0</td>\n",
       "      <td>NaN</td>\n",
       "      <td>0.0</td>\n",
       "      <td>0.0</td>\n",
       "      <td>NaN</td>\n",
       "      <td>0.000</td>\n",
       "      <td>0.000</td>\n",
       "      <td>NaN</td>\n",
       "      <td>0.000</td>\n",
       "      <td>...</td>\n",
       "      <td>1.337</td>\n",
       "      <td>1803.987</td>\n",
       "      <td>NaN</td>\n",
       "      <td>597.029</td>\n",
       "      <td>9.59</td>\n",
       "      <td>NaN</td>\n",
       "      <td>NaN</td>\n",
       "      <td>0.5</td>\n",
       "      <td>64.83</td>\n",
       "      <td>0.498</td>\n",
       "    </tr>\n",
       "    <tr>\n",
       "      <th>3</th>\n",
       "      <td>0.0</td>\n",
       "      <td>0.0</td>\n",
       "      <td>NaN</td>\n",
       "      <td>0.0</td>\n",
       "      <td>0.0</td>\n",
       "      <td>NaN</td>\n",
       "      <td>0.000</td>\n",
       "      <td>0.000</td>\n",
       "      <td>NaN</td>\n",
       "      <td>0.000</td>\n",
       "      <td>...</td>\n",
       "      <td>1.337</td>\n",
       "      <td>1803.987</td>\n",
       "      <td>NaN</td>\n",
       "      <td>597.029</td>\n",
       "      <td>9.59</td>\n",
       "      <td>NaN</td>\n",
       "      <td>NaN</td>\n",
       "      <td>0.5</td>\n",
       "      <td>64.83</td>\n",
       "      <td>0.498</td>\n",
       "    </tr>\n",
       "    <tr>\n",
       "      <th>4</th>\n",
       "      <td>0.0</td>\n",
       "      <td>0.0</td>\n",
       "      <td>NaN</td>\n",
       "      <td>0.0</td>\n",
       "      <td>0.0</td>\n",
       "      <td>NaN</td>\n",
       "      <td>0.000</td>\n",
       "      <td>0.000</td>\n",
       "      <td>NaN</td>\n",
       "      <td>0.000</td>\n",
       "      <td>...</td>\n",
       "      <td>1.337</td>\n",
       "      <td>1803.987</td>\n",
       "      <td>NaN</td>\n",
       "      <td>597.029</td>\n",
       "      <td>9.59</td>\n",
       "      <td>NaN</td>\n",
       "      <td>NaN</td>\n",
       "      <td>0.5</td>\n",
       "      <td>64.83</td>\n",
       "      <td>0.498</td>\n",
       "    </tr>\n",
       "    <tr>\n",
       "      <th>...</th>\n",
       "      <td>...</td>\n",
       "      <td>...</td>\n",
       "      <td>...</td>\n",
       "      <td>...</td>\n",
       "      <td>...</td>\n",
       "      <td>...</td>\n",
       "      <td>...</td>\n",
       "      <td>...</td>\n",
       "      <td>...</td>\n",
       "      <td>...</td>\n",
       "      <td>...</td>\n",
       "      <td>...</td>\n",
       "      <td>...</td>\n",
       "      <td>...</td>\n",
       "      <td>...</td>\n",
       "      <td>...</td>\n",
       "      <td>...</td>\n",
       "      <td>...</td>\n",
       "      <td>...</td>\n",
       "      <td>...</td>\n",
       "      <td>...</td>\n",
       "    </tr>\n",
       "    <tr>\n",
       "      <th>44461</th>\n",
       "      <td>7576.0</td>\n",
       "      <td>45.0</td>\n",
       "      <td>26.857</td>\n",
       "      <td>224.0</td>\n",
       "      <td>0.0</td>\n",
       "      <td>0.857</td>\n",
       "      <td>509.725</td>\n",
       "      <td>3.028</td>\n",
       "      <td>1.807</td>\n",
       "      <td>15.071</td>\n",
       "      <td>...</td>\n",
       "      <td>1.882</td>\n",
       "      <td>1899.775</td>\n",
       "      <td>21.4</td>\n",
       "      <td>307.846</td>\n",
       "      <td>1.82</td>\n",
       "      <td>1.6</td>\n",
       "      <td>30.7</td>\n",
       "      <td>1.7</td>\n",
       "      <td>61.49</td>\n",
       "      <td>0.535</td>\n",
       "    </tr>\n",
       "    <tr>\n",
       "      <th>44462</th>\n",
       "      <td>7598.0</td>\n",
       "      <td>22.0</td>\n",
       "      <td>24.143</td>\n",
       "      <td>224.0</td>\n",
       "      <td>0.0</td>\n",
       "      <td>0.286</td>\n",
       "      <td>511.205</td>\n",
       "      <td>1.480</td>\n",
       "      <td>1.624</td>\n",
       "      <td>15.071</td>\n",
       "      <td>...</td>\n",
       "      <td>1.882</td>\n",
       "      <td>1899.775</td>\n",
       "      <td>21.4</td>\n",
       "      <td>307.846</td>\n",
       "      <td>1.82</td>\n",
       "      <td>1.6</td>\n",
       "      <td>30.7</td>\n",
       "      <td>1.7</td>\n",
       "      <td>61.49</td>\n",
       "      <td>0.535</td>\n",
       "    </tr>\n",
       "    <tr>\n",
       "      <th>44463</th>\n",
       "      <td>7633.0</td>\n",
       "      <td>35.0</td>\n",
       "      <td>25.714</td>\n",
       "      <td>224.0</td>\n",
       "      <td>0.0</td>\n",
       "      <td>0.286</td>\n",
       "      <td>513.560</td>\n",
       "      <td>2.355</td>\n",
       "      <td>1.730</td>\n",
       "      <td>15.071</td>\n",
       "      <td>...</td>\n",
       "      <td>1.882</td>\n",
       "      <td>1899.775</td>\n",
       "      <td>21.4</td>\n",
       "      <td>307.846</td>\n",
       "      <td>1.82</td>\n",
       "      <td>1.6</td>\n",
       "      <td>30.7</td>\n",
       "      <td>1.7</td>\n",
       "      <td>61.49</td>\n",
       "      <td>0.535</td>\n",
       "    </tr>\n",
       "    <tr>\n",
       "      <th>44464</th>\n",
       "      <td>7647.0</td>\n",
       "      <td>14.0</td>\n",
       "      <td>24.000</td>\n",
       "      <td>224.0</td>\n",
       "      <td>0.0</td>\n",
       "      <td>0.000</td>\n",
       "      <td>514.502</td>\n",
       "      <td>0.942</td>\n",
       "      <td>1.615</td>\n",
       "      <td>15.071</td>\n",
       "      <td>...</td>\n",
       "      <td>1.882</td>\n",
       "      <td>1899.775</td>\n",
       "      <td>21.4</td>\n",
       "      <td>307.846</td>\n",
       "      <td>1.82</td>\n",
       "      <td>1.6</td>\n",
       "      <td>30.7</td>\n",
       "      <td>1.7</td>\n",
       "      <td>61.49</td>\n",
       "      <td>0.535</td>\n",
       "    </tr>\n",
       "    <tr>\n",
       "      <th>44465</th>\n",
       "      <td>7672.0</td>\n",
       "      <td>25.0</td>\n",
       "      <td>23.429</td>\n",
       "      <td>225.0</td>\n",
       "      <td>1.0</td>\n",
       "      <td>0.143</td>\n",
       "      <td>516.184</td>\n",
       "      <td>1.682</td>\n",
       "      <td>1.576</td>\n",
       "      <td>15.138</td>\n",
       "      <td>...</td>\n",
       "      <td>1.882</td>\n",
       "      <td>1899.775</td>\n",
       "      <td>21.4</td>\n",
       "      <td>307.846</td>\n",
       "      <td>1.82</td>\n",
       "      <td>1.6</td>\n",
       "      <td>30.7</td>\n",
       "      <td>1.7</td>\n",
       "      <td>61.49</td>\n",
       "      <td>0.535</td>\n",
       "    </tr>\n",
       "  </tbody>\n",
       "</table>\n",
       "<p>44466 rows × 27 columns</p>\n",
       "</div>"
      ],
      "text/plain": [
       "       total_cases  new_cases  new_cases_smoothed  total_deaths  new_deaths  \\\n",
       "0              0.0        0.0                 NaN           0.0         0.0   \n",
       "1              0.0        0.0                 NaN           0.0         0.0   \n",
       "2              0.0        0.0                 NaN           0.0         0.0   \n",
       "3              0.0        0.0                 NaN           0.0         0.0   \n",
       "4              0.0        0.0                 NaN           0.0         0.0   \n",
       "...            ...        ...                 ...           ...         ...   \n",
       "44461       7576.0       45.0              26.857         224.0         0.0   \n",
       "44462       7598.0       22.0              24.143         224.0         0.0   \n",
       "44463       7633.0       35.0              25.714         224.0         0.0   \n",
       "44464       7647.0       14.0              24.000         224.0         0.0   \n",
       "44465       7672.0       25.0              23.429         225.0         1.0   \n",
       "\n",
       "       new_deaths_smoothed  total_cases_per_million  new_cases_per_million  \\\n",
       "0                      NaN                    0.000                  0.000   \n",
       "1                      NaN                    0.000                  0.000   \n",
       "2                      NaN                    0.000                  0.000   \n",
       "3                      NaN                    0.000                  0.000   \n",
       "4                      NaN                    0.000                  0.000   \n",
       "...                    ...                      ...                    ...   \n",
       "44461                0.857                  509.725                  3.028   \n",
       "44462                0.286                  511.205                  1.480   \n",
       "44463                0.286                  513.560                  2.355   \n",
       "44464                0.000                  514.502                  0.942   \n",
       "44465                0.143                  516.184                  1.682   \n",
       "\n",
       "       new_cases_smoothed_per_million  total_deaths_per_million  ...  \\\n",
       "0                                 NaN                     0.000  ...   \n",
       "1                                 NaN                     0.000  ...   \n",
       "2                                 NaN                     0.000  ...   \n",
       "3                                 NaN                     0.000  ...   \n",
       "4                                 NaN                     0.000  ...   \n",
       "...                               ...                       ...  ...   \n",
       "44461                           1.807                    15.071  ...   \n",
       "44462                           1.624                    15.071  ...   \n",
       "44463                           1.730                    15.071  ...   \n",
       "44464                           1.615                    15.071  ...   \n",
       "44465                           1.576                    15.138  ...   \n",
       "\n",
       "       aged_70_older  gdp_per_capita  extreme_poverty  cardiovasc_death_rate  \\\n",
       "0              1.337        1803.987              NaN                597.029   \n",
       "1              1.337        1803.987              NaN                597.029   \n",
       "2              1.337        1803.987              NaN                597.029   \n",
       "3              1.337        1803.987              NaN                597.029   \n",
       "4              1.337        1803.987              NaN                597.029   \n",
       "...              ...             ...              ...                    ...   \n",
       "44461          1.882        1899.775             21.4                307.846   \n",
       "44462          1.882        1899.775             21.4                307.846   \n",
       "44463          1.882        1899.775             21.4                307.846   \n",
       "44464          1.882        1899.775             21.4                307.846   \n",
       "44465          1.882        1899.775             21.4                307.846   \n",
       "\n",
       "       diabetes_prevalence  female_smokers  male_smokers  \\\n",
       "0                     9.59             NaN           NaN   \n",
       "1                     9.59             NaN           NaN   \n",
       "2                     9.59             NaN           NaN   \n",
       "3                     9.59             NaN           NaN   \n",
       "4                     9.59             NaN           NaN   \n",
       "...                    ...             ...           ...   \n",
       "44461                 1.82             1.6          30.7   \n",
       "44462                 1.82             1.6          30.7   \n",
       "44463                 1.82             1.6          30.7   \n",
       "44464                 1.82             1.6          30.7   \n",
       "44465                 1.82             1.6          30.7   \n",
       "\n",
       "       hospital_beds_per_thousand  life_expectancy  human_development_index  \n",
       "0                             0.5            64.83                    0.498  \n",
       "1                             0.5            64.83                    0.498  \n",
       "2                             0.5            64.83                    0.498  \n",
       "3                             0.5            64.83                    0.498  \n",
       "4                             0.5            64.83                    0.498  \n",
       "...                           ...              ...                      ...  \n",
       "44461                         1.7            61.49                    0.535  \n",
       "44462                         1.7            61.49                    0.535  \n",
       "44463                         1.7            61.49                    0.535  \n",
       "44464                         1.7            61.49                    0.535  \n",
       "44465                         1.7            61.49                    0.535  \n",
       "\n",
       "[44466 rows x 27 columns]"
      ]
     },
     "execution_count": 28,
     "metadata": {},
     "output_type": "execute_result"
    }
   ],
   "source": [
    "numerical = df.select_dtypes(include=['float64']).copy()\n",
    "numerical"
   ]
  },
  {
   "cell_type": "code",
   "execution_count": 29,
   "metadata": {
    "ExecuteTime": {
     "end_time": "2020-09-21T07:55:48.776354Z",
     "start_time": "2020-09-21T07:55:48.771428Z"
    }
   },
   "outputs": [
    {
     "data": {
      "text/plain": [
       "0           0.0\n",
       "1           0.0\n",
       "2           0.0\n",
       "3           0.0\n",
       "4           0.0\n",
       "          ...  \n",
       "44461    7576.0\n",
       "44462    7598.0\n",
       "44463    7633.0\n",
       "44464    7647.0\n",
       "44465    7672.0\n",
       "Name: total_cases, Length: 44466, dtype: float64"
      ]
     },
     "execution_count": 29,
     "metadata": {},
     "output_type": "execute_result"
    }
   ],
   "source": [
    "df.total_cases"
   ]
  },
  {
   "cell_type": "code",
   "execution_count": 30,
   "metadata": {
    "ExecuteTime": {
     "end_time": "2020-09-21T07:55:48.798540Z",
     "start_time": "2020-09-21T07:55:48.778373Z"
    }
   },
   "outputs": [],
   "source": [
    "for col in numerical:\n",
    "    df[col].fillna((df[col].mean()), inplace=True)"
   ]
  },
  {
   "cell_type": "code",
   "execution_count": 31,
   "metadata": {
    "ExecuteTime": {
     "end_time": "2020-09-21T07:55:48.808680Z",
     "start_time": "2020-09-21T07:55:48.800456Z"
    }
   },
   "outputs": [
    {
     "data": {
      "text/plain": [
       "True"
      ]
     },
     "execution_count": 31,
     "metadata": {},
     "output_type": "execute_result"
    }
   ],
   "source": [
    "df.isna().sum().sum() == 0"
   ]
  },
  {
   "cell_type": "markdown",
   "metadata": {},
   "source": [
    "Now the dataset has no Nans and is completely encoded."
   ]
  },
  {
   "cell_type": "markdown",
   "metadata": {},
   "source": [
    "## Split into train and test set"
   ]
  },
  {
   "cell_type": "code",
   "execution_count": 32,
   "metadata": {
    "ExecuteTime": {
     "end_time": "2020-09-21T07:55:48.832173Z",
     "start_time": "2020-09-21T07:55:48.812526Z"
    }
   },
   "outputs": [],
   "source": [
    "X = df.drop(columns=['new_cases'])\n",
    "y = df.new_cases\n",
    "X_train, X_test, y_train, y_test = train_test_split(X, y, test_size=0.30, random_state=0)"
   ]
  },
  {
   "cell_type": "code",
   "execution_count": 33,
   "metadata": {
    "ExecuteTime": {
     "end_time": "2020-09-21T07:55:48.889220Z",
     "start_time": "2020-09-21T07:55:48.835448Z"
    }
   },
   "outputs": [
    {
     "data": {
      "text/html": [
       "<div>\n",
       "<style scoped>\n",
       "    .dataframe tbody tr th:only-of-type {\n",
       "        vertical-align: middle;\n",
       "    }\n",
       "\n",
       "    .dataframe tbody tr th {\n",
       "        vertical-align: top;\n",
       "    }\n",
       "\n",
       "    .dataframe thead th {\n",
       "        text-align: right;\n",
       "    }\n",
       "</style>\n",
       "<table border=\"1\" class=\"dataframe\">\n",
       "  <thead>\n",
       "    <tr style=\"text-align: right;\">\n",
       "      <th></th>\n",
       "      <th>iso_code</th>\n",
       "      <th>continent</th>\n",
       "      <th>location</th>\n",
       "      <th>date</th>\n",
       "      <th>total_cases</th>\n",
       "      <th>new_cases_smoothed</th>\n",
       "      <th>total_deaths</th>\n",
       "      <th>new_deaths</th>\n",
       "      <th>new_deaths_smoothed</th>\n",
       "      <th>total_cases_per_million</th>\n",
       "      <th>...</th>\n",
       "      <th>aged_70_older</th>\n",
       "      <th>gdp_per_capita</th>\n",
       "      <th>extreme_poverty</th>\n",
       "      <th>cardiovasc_death_rate</th>\n",
       "      <th>diabetes_prevalence</th>\n",
       "      <th>female_smokers</th>\n",
       "      <th>male_smokers</th>\n",
       "      <th>hospital_beds_per_thousand</th>\n",
       "      <th>life_expectancy</th>\n",
       "      <th>human_development_index</th>\n",
       "    </tr>\n",
       "  </thead>\n",
       "  <tbody>\n",
       "    <tr>\n",
       "      <th>38410</th>\n",
       "      <td>176</td>\n",
       "      <td>5</td>\n",
       "      <td>180</td>\n",
       "      <td>180</td>\n",
       "      <td>391.0</td>\n",
       "      <td>12.714</td>\n",
       "      <td>10.0</td>\n",
       "      <td>0.0</td>\n",
       "      <td>0.286</td>\n",
       "      <td>666.514</td>\n",
       "      <td>...</td>\n",
       "      <td>4.229000</td>\n",
       "      <td>13767.119000</td>\n",
       "      <td>12.057951</td>\n",
       "      <td>258.314000</td>\n",
       "      <td>12.540000</td>\n",
       "      <td>7.400000</td>\n",
       "      <td>42.900000</td>\n",
       "      <td>3.100000</td>\n",
       "      <td>71.68</td>\n",
       "      <td>0.720000</td>\n",
       "    </tr>\n",
       "    <tr>\n",
       "      <th>33251</th>\n",
       "      <td>162</td>\n",
       "      <td>2</td>\n",
       "      <td>156</td>\n",
       "      <td>50</td>\n",
       "      <td>0.0</td>\n",
       "      <td>0.000</td>\n",
       "      <td>0.0</td>\n",
       "      <td>0.0</td>\n",
       "      <td>0.000</td>\n",
       "      <td>0.000</td>\n",
       "      <td>...</td>\n",
       "      <td>11.690000</td>\n",
       "      <td>23313.199000</td>\n",
       "      <td>5.700000</td>\n",
       "      <td>370.946000</td>\n",
       "      <td>9.740000</td>\n",
       "      <td>22.900000</td>\n",
       "      <td>37.100000</td>\n",
       "      <td>6.892000</td>\n",
       "      <td>76.05</td>\n",
       "      <td>0.811000</td>\n",
       "    </tr>\n",
       "    <tr>\n",
       "      <th>5376</th>\n",
       "      <td>16</td>\n",
       "      <td>3</td>\n",
       "      <td>24</td>\n",
       "      <td>219</td>\n",
       "      <td>13.0</td>\n",
       "      <td>0.286</td>\n",
       "      <td>0.0</td>\n",
       "      <td>0.0</td>\n",
       "      <td>0.000</td>\n",
       "      <td>495.786</td>\n",
       "      <td>...</td>\n",
       "      <td>5.873396</td>\n",
       "      <td>21009.068523</td>\n",
       "      <td>12.057951</td>\n",
       "      <td>251.490577</td>\n",
       "      <td>8.045981</td>\n",
       "      <td>10.869437</td>\n",
       "      <td>32.619875</td>\n",
       "      <td>3.117967</td>\n",
       "      <td>77.79</td>\n",
       "      <td>0.725508</td>\n",
       "    </tr>\n",
       "    <tr>\n",
       "      <th>33555</th>\n",
       "      <td>163</td>\n",
       "      <td>2</td>\n",
       "      <td>157</td>\n",
       "      <td>89</td>\n",
       "      <td>1264.0</td>\n",
       "      <td>136.857</td>\n",
       "      <td>5.0</td>\n",
       "      <td>1.0</td>\n",
       "      <td>0.714</td>\n",
       "      <td>8.661</td>\n",
       "      <td>...</td>\n",
       "      <td>9.393000</td>\n",
       "      <td>24765.954000</td>\n",
       "      <td>0.100000</td>\n",
       "      <td>431.297000</td>\n",
       "      <td>6.180000</td>\n",
       "      <td>23.400000</td>\n",
       "      <td>58.300000</td>\n",
       "      <td>8.050000</td>\n",
       "      <td>72.58</td>\n",
       "      <td>0.816000</td>\n",
       "    </tr>\n",
       "    <tr>\n",
       "      <th>30122</th>\n",
       "      <td>142</td>\n",
       "      <td>0</td>\n",
       "      <td>141</td>\n",
       "      <td>247</td>\n",
       "      <td>54463.0</td>\n",
       "      <td>206.000</td>\n",
       "      <td>1027.0</td>\n",
       "      <td>4.0</td>\n",
       "      <td>2.429</td>\n",
       "      <td>264.204</td>\n",
       "      <td>...</td>\n",
       "      <td>1.447000</td>\n",
       "      <td>5338.454000</td>\n",
       "      <td>12.057951</td>\n",
       "      <td>181.013000</td>\n",
       "      <td>2.420000</td>\n",
       "      <td>0.600000</td>\n",
       "      <td>10.800000</td>\n",
       "      <td>3.117967</td>\n",
       "      <td>54.69</td>\n",
       "      <td>0.532000</td>\n",
       "    </tr>\n",
       "    <tr>\n",
       "      <th>...</th>\n",
       "      <td>...</td>\n",
       "      <td>...</td>\n",
       "      <td>...</td>\n",
       "      <td>...</td>\n",
       "      <td>...</td>\n",
       "      <td>...</td>\n",
       "      <td>...</td>\n",
       "      <td>...</td>\n",
       "      <td>...</td>\n",
       "      <td>...</td>\n",
       "      <td>...</td>\n",
       "      <td>...</td>\n",
       "      <td>...</td>\n",
       "      <td>...</td>\n",
       "      <td>...</td>\n",
       "      <td>...</td>\n",
       "      <td>...</td>\n",
       "      <td>...</td>\n",
       "      <td>...</td>\n",
       "      <td>...</td>\n",
       "      <td>...</td>\n",
       "    </tr>\n",
       "    <tr>\n",
       "      <th>30403</th>\n",
       "      <td>145</td>\n",
       "      <td>2</td>\n",
       "      <td>143</td>\n",
       "      <td>89</td>\n",
       "      <td>3845.0</td>\n",
       "      <td>274.143</td>\n",
       "      <td>20.0</td>\n",
       "      <td>4.0</td>\n",
       "      <td>1.857</td>\n",
       "      <td>709.247</td>\n",
       "      <td>...</td>\n",
       "      <td>10.813000</td>\n",
       "      <td>64800.057000</td>\n",
       "      <td>0.200000</td>\n",
       "      <td>114.316000</td>\n",
       "      <td>5.310000</td>\n",
       "      <td>19.600000</td>\n",
       "      <td>20.700000</td>\n",
       "      <td>3.600000</td>\n",
       "      <td>82.40</td>\n",
       "      <td>0.953000</td>\n",
       "    </tr>\n",
       "    <tr>\n",
       "      <th>21243</th>\n",
       "      <td>101</td>\n",
       "      <td>1</td>\n",
       "      <td>99</td>\n",
       "      <td>227</td>\n",
       "      <td>51513.0</td>\n",
       "      <td>1099.714</td>\n",
       "      <td>1072.0</td>\n",
       "      <td>10.0</td>\n",
       "      <td>5.571</td>\n",
       "      <td>407.293</td>\n",
       "      <td>...</td>\n",
       "      <td>18.493000</td>\n",
       "      <td>39002.223000</td>\n",
       "      <td>12.057951</td>\n",
       "      <td>79.370000</td>\n",
       "      <td>5.720000</td>\n",
       "      <td>11.200000</td>\n",
       "      <td>33.700000</td>\n",
       "      <td>13.050000</td>\n",
       "      <td>84.63</td>\n",
       "      <td>0.909000</td>\n",
       "    </tr>\n",
       "    <tr>\n",
       "      <th>42613</th>\n",
       "      <td>204</td>\n",
       "      <td>3</td>\n",
       "      <td>200</td>\n",
       "      <td>121</td>\n",
       "      <td>66.0</td>\n",
       "      <td>1.714</td>\n",
       "      <td>4.0</td>\n",
       "      <td>0.0</td>\n",
       "      <td>0.143</td>\n",
       "      <td>632.045</td>\n",
       "      <td>...</td>\n",
       "      <td>10.799000</td>\n",
       "      <td>21009.068523</td>\n",
       "      <td>12.057951</td>\n",
       "      <td>273.670000</td>\n",
       "      <td>12.260000</td>\n",
       "      <td>10.869437</td>\n",
       "      <td>32.619875</td>\n",
       "      <td>3.117967</td>\n",
       "      <td>80.58</td>\n",
       "      <td>0.725508</td>\n",
       "    </tr>\n",
       "    <tr>\n",
       "      <th>43567</th>\n",
       "      <td>205</td>\n",
       "      <td>1</td>\n",
       "      <td>205</td>\n",
       "      <td>48</td>\n",
       "      <td>16.0</td>\n",
       "      <td>0.286</td>\n",
       "      <td>0.0</td>\n",
       "      <td>0.0</td>\n",
       "      <td>0.000</td>\n",
       "      <td>0.164</td>\n",
       "      <td>...</td>\n",
       "      <td>4.718000</td>\n",
       "      <td>6171.884000</td>\n",
       "      <td>2.000000</td>\n",
       "      <td>245.465000</td>\n",
       "      <td>6.000000</td>\n",
       "      <td>1.000000</td>\n",
       "      <td>45.900000</td>\n",
       "      <td>2.600000</td>\n",
       "      <td>75.40</td>\n",
       "      <td>0.694000</td>\n",
       "    </tr>\n",
       "    <tr>\n",
       "      <th>2732</th>\n",
       "      <td>12</td>\n",
       "      <td>1</td>\n",
       "      <td>12</td>\n",
       "      <td>58</td>\n",
       "      <td>0.0</td>\n",
       "      <td>0.000</td>\n",
       "      <td>0.0</td>\n",
       "      <td>0.0</td>\n",
       "      <td>0.000</td>\n",
       "      <td>0.000</td>\n",
       "      <td>...</td>\n",
       "      <td>3.871000</td>\n",
       "      <td>15847.419000</td>\n",
       "      <td>12.057951</td>\n",
       "      <td>559.812000</td>\n",
       "      <td>7.110000</td>\n",
       "      <td>0.300000</td>\n",
       "      <td>42.500000</td>\n",
       "      <td>4.700000</td>\n",
       "      <td>73.00</td>\n",
       "      <td>0.757000</td>\n",
       "    </tr>\n",
       "  </tbody>\n",
       "</table>\n",
       "<p>31126 rows × 30 columns</p>\n",
       "</div>"
      ],
      "text/plain": [
       "       iso_code  continent  location  date  total_cases  new_cases_smoothed  \\\n",
       "38410       176          5       180   180        391.0              12.714   \n",
       "33251       162          2       156    50          0.0               0.000   \n",
       "5376         16          3        24   219         13.0               0.286   \n",
       "33555       163          2       157    89       1264.0             136.857   \n",
       "30122       142          0       141   247      54463.0             206.000   \n",
       "...         ...        ...       ...   ...          ...                 ...   \n",
       "30403       145          2       143    89       3845.0             274.143   \n",
       "21243       101          1        99   227      51513.0            1099.714   \n",
       "42613       204          3       200   121         66.0               1.714   \n",
       "43567       205          1       205    48         16.0               0.286   \n",
       "2732         12          1        12    58          0.0               0.000   \n",
       "\n",
       "       total_deaths  new_deaths  new_deaths_smoothed  total_cases_per_million  \\\n",
       "38410          10.0         0.0                0.286                  666.514   \n",
       "33251           0.0         0.0                0.000                    0.000   \n",
       "5376            0.0         0.0                0.000                  495.786   \n",
       "33555           5.0         1.0                0.714                    8.661   \n",
       "30122        1027.0         4.0                2.429                  264.204   \n",
       "...             ...         ...                  ...                      ...   \n",
       "30403          20.0         4.0                1.857                  709.247   \n",
       "21243        1072.0        10.0                5.571                  407.293   \n",
       "42613           4.0         0.0                0.143                  632.045   \n",
       "43567           0.0         0.0                0.000                    0.164   \n",
       "2732            0.0         0.0                0.000                    0.000   \n",
       "\n",
       "       ...  aged_70_older  gdp_per_capita  extreme_poverty  \\\n",
       "38410  ...       4.229000    13767.119000        12.057951   \n",
       "33251  ...      11.690000    23313.199000         5.700000   \n",
       "5376   ...       5.873396    21009.068523        12.057951   \n",
       "33555  ...       9.393000    24765.954000         0.100000   \n",
       "30122  ...       1.447000     5338.454000        12.057951   \n",
       "...    ...            ...             ...              ...   \n",
       "30403  ...      10.813000    64800.057000         0.200000   \n",
       "21243  ...      18.493000    39002.223000        12.057951   \n",
       "42613  ...      10.799000    21009.068523        12.057951   \n",
       "43567  ...       4.718000     6171.884000         2.000000   \n",
       "2732   ...       3.871000    15847.419000        12.057951   \n",
       "\n",
       "       cardiovasc_death_rate  diabetes_prevalence  female_smokers  \\\n",
       "38410             258.314000            12.540000        7.400000   \n",
       "33251             370.946000             9.740000       22.900000   \n",
       "5376              251.490577             8.045981       10.869437   \n",
       "33555             431.297000             6.180000       23.400000   \n",
       "30122             181.013000             2.420000        0.600000   \n",
       "...                      ...                  ...             ...   \n",
       "30403             114.316000             5.310000       19.600000   \n",
       "21243              79.370000             5.720000       11.200000   \n",
       "42613             273.670000            12.260000       10.869437   \n",
       "43567             245.465000             6.000000        1.000000   \n",
       "2732              559.812000             7.110000        0.300000   \n",
       "\n",
       "       male_smokers  hospital_beds_per_thousand  life_expectancy  \\\n",
       "38410     42.900000                    3.100000            71.68   \n",
       "33251     37.100000                    6.892000            76.05   \n",
       "5376      32.619875                    3.117967            77.79   \n",
       "33555     58.300000                    8.050000            72.58   \n",
       "30122     10.800000                    3.117967            54.69   \n",
       "...             ...                         ...              ...   \n",
       "30403     20.700000                    3.600000            82.40   \n",
       "21243     33.700000                   13.050000            84.63   \n",
       "42613     32.619875                    3.117967            80.58   \n",
       "43567     45.900000                    2.600000            75.40   \n",
       "2732      42.500000                    4.700000            73.00   \n",
       "\n",
       "       human_development_index  \n",
       "38410                 0.720000  \n",
       "33251                 0.811000  \n",
       "5376                  0.725508  \n",
       "33555                 0.816000  \n",
       "30122                 0.532000  \n",
       "...                        ...  \n",
       "30403                 0.953000  \n",
       "21243                 0.909000  \n",
       "42613                 0.725508  \n",
       "43567                 0.694000  \n",
       "2732                  0.757000  \n",
       "\n",
       "[31126 rows x 30 columns]"
      ]
     },
     "execution_count": 33,
     "metadata": {},
     "output_type": "execute_result"
    }
   ],
   "source": [
    "X_train"
   ]
  },
  {
   "cell_type": "markdown",
   "metadata": {},
   "source": [
    "# Add ML"
   ]
  },
  {
   "cell_type": "code",
   "execution_count": 34,
   "metadata": {
    "ExecuteTime": {
     "end_time": "2020-09-21T07:55:49.155519Z",
     "start_time": "2020-09-21T07:55:48.892544Z"
    }
   },
   "outputs": [],
   "source": [
    "from sklearn.ensemble import RandomForestRegressor\n",
    "from sklearn.metrics import r2_score \n",
    "from sklearn.model_selection import RandomizedSearchCV\n",
    "from joblib import dump, load"
   ]
  },
  {
   "cell_type": "code",
   "execution_count": 35,
   "metadata": {
    "ExecuteTime": {
     "end_time": "2020-09-21T07:55:49.167666Z",
     "start_time": "2020-09-21T07:55:49.160974Z"
    }
   },
   "outputs": [],
   "source": [
    "rf = RandomForestRegressor(n_estimators = 100, random_state = 0, max_depth=len(df_orig.columns))"
   ]
  },
  {
   "cell_type": "code",
   "execution_count": 36,
   "metadata": {
    "ExecuteTime": {
     "end_time": "2020-09-21T07:56:27.577530Z",
     "start_time": "2020-09-21T07:55:49.171816Z"
    }
   },
   "outputs": [
    {
     "data": {
      "text/plain": [
       "RandomForestRegressor(max_depth=41, random_state=0)"
      ]
     },
     "execution_count": 36,
     "metadata": {},
     "output_type": "execute_result"
    }
   ],
   "source": [
    "rf.fit(X_train, y_train)"
   ]
  },
  {
   "cell_type": "code",
   "execution_count": 37,
   "metadata": {
    "ExecuteTime": {
     "end_time": "2020-09-21T07:56:27.853714Z",
     "start_time": "2020-09-21T07:56:27.579439Z"
    }
   },
   "outputs": [],
   "source": [
    "y_pred = rf.predict(X_test)"
   ]
  },
  {
   "cell_type": "code",
   "execution_count": 38,
   "metadata": {
    "ExecuteTime": {
     "end_time": "2020-09-21T07:56:27.860045Z",
     "start_time": "2020-09-21T07:56:27.855517Z"
    }
   },
   "outputs": [
    {
     "name": "stdout",
     "output_type": "stream",
     "text": [
      "99.35%\n"
     ]
    }
   ],
   "source": [
    "print(f'{r2_score(y_test, y_pred):.2%}')"
   ]
  },
  {
   "cell_type": "markdown",
   "metadata": {},
   "source": [
    "## Improve hyperparameters"
   ]
  },
  {
   "cell_type": "code",
   "execution_count": 68,
   "metadata": {
    "ExecuteTime": {
     "end_time": "2020-09-22T06:30:46.622056Z",
     "start_time": "2020-09-22T06:30:46.606469Z"
    }
   },
   "outputs": [],
   "source": [
    "random_grid = {'n_estimators': np.arange(200,600,100),\n",
    "#                'max_features': ['auto', 'sqrt'],\n",
    "               'max_depth': np.arange(10,60,5),\n",
    "               'min_samples_split': [2, 5],\n",
    "               'min_samples_leaf': [2,4]}#,\n",
    "#                'bootstrap': [True, False]}"
   ]
  },
  {
   "cell_type": "code",
   "execution_count": 69,
   "metadata": {
    "ExecuteTime": {
     "end_time": "2020-09-22T06:30:46.962774Z",
     "start_time": "2020-09-22T06:30:46.954993Z"
    }
   },
   "outputs": [],
   "source": [
    "rf_random = RandomizedSearchCV(\n",
    "    estimator = rf, \n",
    "    param_distributions = random_grid, \n",
    "    n_iter = 100, cv = 3, verbose=2, random_state=0)"
   ]
  },
  {
   "cell_type": "code",
   "execution_count": null,
   "metadata": {
    "ExecuteTime": {
     "start_time": "2020-09-22T06:30:47.356Z"
    }
   },
   "outputs": [
    {
     "name": "stdout",
     "output_type": "stream",
     "text": [
      "Fitting 3 folds for each of 100 candidates, totalling 300 fits\n",
      "[CV] n_estimators=400, min_samples_split=5, min_samples_leaf=4, max_depth=40 \n"
     ]
    },
    {
     "name": "stderr",
     "output_type": "stream",
     "text": [
      "[Parallel(n_jobs=1)]: Using backend SequentialBackend with 1 concurrent workers.\n"
     ]
    },
    {
     "name": "stdout",
     "output_type": "stream",
     "text": [
      "[CV]  n_estimators=400, min_samples_split=5, min_samples_leaf=4, max_depth=40, total= 1.6min\n",
      "[CV] n_estimators=400, min_samples_split=5, min_samples_leaf=4, max_depth=40 \n"
     ]
    },
    {
     "name": "stderr",
     "output_type": "stream",
     "text": [
      "[Parallel(n_jobs=1)]: Done   1 out of   1 | elapsed:  1.6min remaining:    0.0s\n"
     ]
    },
    {
     "name": "stdout",
     "output_type": "stream",
     "text": [
      "[CV]  n_estimators=400, min_samples_split=5, min_samples_leaf=4, max_depth=40, total= 1.4min\n",
      "[CV] n_estimators=400, min_samples_split=5, min_samples_leaf=4, max_depth=40 \n",
      "[CV]  n_estimators=400, min_samples_split=5, min_samples_leaf=4, max_depth=40, total= 1.5min\n",
      "[CV] n_estimators=200, min_samples_split=2, min_samples_leaf=2, max_depth=45 \n",
      "[CV]  n_estimators=200, min_samples_split=2, min_samples_leaf=2, max_depth=45, total=  51.5s\n",
      "[CV] n_estimators=200, min_samples_split=2, min_samples_leaf=2, max_depth=45 \n",
      "[CV]  n_estimators=200, min_samples_split=2, min_samples_leaf=2, max_depth=45, total= 1.0min\n",
      "[CV] n_estimators=200, min_samples_split=2, min_samples_leaf=2, max_depth=45 \n",
      "[CV]  n_estimators=200, min_samples_split=2, min_samples_leaf=2, max_depth=45, total=  52.5s\n",
      "[CV] n_estimators=500, min_samples_split=5, min_samples_leaf=4, max_depth=50 \n",
      "[CV]  n_estimators=500, min_samples_split=5, min_samples_leaf=4, max_depth=50, total= 2.3min\n",
      "[CV] n_estimators=500, min_samples_split=5, min_samples_leaf=4, max_depth=50 \n",
      "[CV]  n_estimators=500, min_samples_split=5, min_samples_leaf=4, max_depth=50, total= 2.2min\n",
      "[CV] n_estimators=500, min_samples_split=5, min_samples_leaf=4, max_depth=50 \n",
      "[CV]  n_estimators=500, min_samples_split=5, min_samples_leaf=4, max_depth=50, total= 2.1min\n",
      "[CV] n_estimators=500, min_samples_split=5, min_samples_leaf=2, max_depth=10 \n",
      "[CV]  n_estimators=500, min_samples_split=5, min_samples_leaf=2, max_depth=10, total= 1.4min\n",
      "[CV] n_estimators=500, min_samples_split=5, min_samples_leaf=2, max_depth=10 \n",
      "[CV]  n_estimators=500, min_samples_split=5, min_samples_leaf=2, max_depth=10, total= 1.4min\n",
      "[CV] n_estimators=500, min_samples_split=5, min_samples_leaf=2, max_depth=10 \n",
      "[CV]  n_estimators=500, min_samples_split=5, min_samples_leaf=2, max_depth=10, total= 1.3min\n",
      "[CV] n_estimators=200, min_samples_split=5, min_samples_leaf=4, max_depth=20 \n",
      "[CV]  n_estimators=200, min_samples_split=5, min_samples_leaf=4, max_depth=20, total=  51.0s\n",
      "[CV] n_estimators=200, min_samples_split=5, min_samples_leaf=4, max_depth=20 \n",
      "[CV]  n_estimators=200, min_samples_split=5, min_samples_leaf=4, max_depth=20, total=  52.8s\n",
      "[CV] n_estimators=200, min_samples_split=5, min_samples_leaf=4, max_depth=20 \n",
      "[CV]  n_estimators=200, min_samples_split=5, min_samples_leaf=4, max_depth=20, total=  48.4s\n",
      "[CV] n_estimators=300, min_samples_split=5, min_samples_leaf=2, max_depth=40 \n",
      "[CV]  n_estimators=300, min_samples_split=5, min_samples_leaf=2, max_depth=40, total= 1.3min\n",
      "[CV] n_estimators=300, min_samples_split=5, min_samples_leaf=2, max_depth=40 \n",
      "[CV]  n_estimators=300, min_samples_split=5, min_samples_leaf=2, max_depth=40, total= 1.3min\n",
      "[CV] n_estimators=300, min_samples_split=5, min_samples_leaf=2, max_depth=40 \n",
      "[CV]  n_estimators=300, min_samples_split=5, min_samples_leaf=2, max_depth=40, total= 1.3min\n",
      "[CV] n_estimators=400, min_samples_split=2, min_samples_leaf=4, max_depth=45 \n",
      "[CV]  n_estimators=400, min_samples_split=2, min_samples_leaf=4, max_depth=45, total= 1.8min\n",
      "[CV] n_estimators=400, min_samples_split=2, min_samples_leaf=4, max_depth=45 \n",
      "[CV]  n_estimators=400, min_samples_split=2, min_samples_leaf=4, max_depth=45, total= 1.5min\n",
      "[CV] n_estimators=400, min_samples_split=2, min_samples_leaf=4, max_depth=45 \n",
      "[CV]  n_estimators=400, min_samples_split=2, min_samples_leaf=4, max_depth=45, total= 1.5min\n",
      "[CV] n_estimators=400, min_samples_split=2, min_samples_leaf=2, max_depth=30 \n",
      "[CV]  n_estimators=400, min_samples_split=2, min_samples_leaf=2, max_depth=30, total= 1.7min\n",
      "[CV] n_estimators=400, min_samples_split=2, min_samples_leaf=2, max_depth=30 \n",
      "[CV]  n_estimators=400, min_samples_split=2, min_samples_leaf=2, max_depth=30, total= 1.7min\n",
      "[CV] n_estimators=400, min_samples_split=2, min_samples_leaf=2, max_depth=30 \n",
      "[CV]  n_estimators=400, min_samples_split=2, min_samples_leaf=2, max_depth=30, total= 1.6min\n",
      "[CV] n_estimators=300, min_samples_split=5, min_samples_leaf=2, max_depth=35 \n",
      "[CV]  n_estimators=300, min_samples_split=5, min_samples_leaf=2, max_depth=35, total= 1.2min\n",
      "[CV] n_estimators=300, min_samples_split=5, min_samples_leaf=2, max_depth=35 \n",
      "[CV]  n_estimators=300, min_samples_split=5, min_samples_leaf=2, max_depth=35, total= 1.2min\n",
      "[CV] n_estimators=300, min_samples_split=5, min_samples_leaf=2, max_depth=35 \n",
      "[CV]  n_estimators=300, min_samples_split=5, min_samples_leaf=2, max_depth=35, total= 1.2min\n",
      "[CV] n_estimators=400, min_samples_split=5, min_samples_leaf=2, max_depth=35 \n",
      "[CV]  n_estimators=400, min_samples_split=5, min_samples_leaf=2, max_depth=35, total= 1.7min\n",
      "[CV] n_estimators=400, min_samples_split=5, min_samples_leaf=2, max_depth=35 \n",
      "[CV]  n_estimators=400, min_samples_split=5, min_samples_leaf=2, max_depth=35, total= 1.6min\n",
      "[CV] n_estimators=400, min_samples_split=5, min_samples_leaf=2, max_depth=35 \n",
      "[CV]  n_estimators=400, min_samples_split=5, min_samples_leaf=2, max_depth=35, total= 1.6min\n",
      "[CV] n_estimators=300, min_samples_split=5, min_samples_leaf=2, max_depth=50 \n",
      "[CV]  n_estimators=300, min_samples_split=5, min_samples_leaf=2, max_depth=50, total= 1.2min\n",
      "[CV] n_estimators=300, min_samples_split=5, min_samples_leaf=2, max_depth=50 \n",
      "[CV]  n_estimators=300, min_samples_split=5, min_samples_leaf=2, max_depth=50, total= 1.2min\n",
      "[CV] n_estimators=300, min_samples_split=5, min_samples_leaf=2, max_depth=50 \n",
      "[CV]  n_estimators=300, min_samples_split=5, min_samples_leaf=2, max_depth=50, total= 1.3min\n",
      "[CV] n_estimators=200, min_samples_split=5, min_samples_leaf=4, max_depth=35 \n",
      "[CV]  n_estimators=200, min_samples_split=5, min_samples_leaf=4, max_depth=35, total=  53.2s\n",
      "[CV] n_estimators=200, min_samples_split=5, min_samples_leaf=4, max_depth=35 \n",
      "[CV]  n_estimators=200, min_samples_split=5, min_samples_leaf=4, max_depth=35, total=  46.9s\n",
      "[CV] n_estimators=200, min_samples_split=5, min_samples_leaf=4, max_depth=35 \n",
      "[CV]  n_estimators=200, min_samples_split=5, min_samples_leaf=4, max_depth=35, total=  53.8s\n",
      "[CV] n_estimators=400, min_samples_split=2, min_samples_leaf=4, max_depth=15 \n",
      "[CV]  n_estimators=400, min_samples_split=2, min_samples_leaf=4, max_depth=15, total= 1.4min\n",
      "[CV] n_estimators=400, min_samples_split=2, min_samples_leaf=4, max_depth=15 \n",
      "[CV]  n_estimators=400, min_samples_split=2, min_samples_leaf=4, max_depth=15, total= 1.4min\n",
      "[CV] n_estimators=400, min_samples_split=2, min_samples_leaf=4, max_depth=15 \n",
      "[CV]  n_estimators=400, min_samples_split=2, min_samples_leaf=4, max_depth=15, total= 1.3min\n",
      "[CV] n_estimators=400, min_samples_split=2, min_samples_leaf=2, max_depth=55 \n",
      "[CV]  n_estimators=400, min_samples_split=2, min_samples_leaf=2, max_depth=55, total= 1.6min\n",
      "[CV] n_estimators=400, min_samples_split=2, min_samples_leaf=2, max_depth=55 \n",
      "[CV]  n_estimators=400, min_samples_split=2, min_samples_leaf=2, max_depth=55, total= 1.5min\n",
      "[CV] n_estimators=400, min_samples_split=2, min_samples_leaf=2, max_depth=55 \n",
      "[CV]  n_estimators=400, min_samples_split=2, min_samples_leaf=2, max_depth=55, total= 1.5min\n",
      "[CV] n_estimators=500, min_samples_split=5, min_samples_leaf=2, max_depth=45 \n",
      "[CV]  n_estimators=500, min_samples_split=5, min_samples_leaf=2, max_depth=45, total= 1.9min\n",
      "[CV] n_estimators=500, min_samples_split=5, min_samples_leaf=2, max_depth=45 \n",
      "[CV]  n_estimators=500, min_samples_split=5, min_samples_leaf=2, max_depth=45, total= 1.8min\n",
      "[CV] n_estimators=500, min_samples_split=5, min_samples_leaf=2, max_depth=45 \n",
      "[CV]  n_estimators=500, min_samples_split=5, min_samples_leaf=2, max_depth=45, total= 1.8min\n",
      "[CV] n_estimators=400, min_samples_split=5, min_samples_leaf=4, max_depth=25 \n",
      "[CV]  n_estimators=400, min_samples_split=5, min_samples_leaf=4, max_depth=25, total= 1.3min\n",
      "[CV] n_estimators=400, min_samples_split=5, min_samples_leaf=4, max_depth=25 \n",
      "[CV]  n_estimators=400, min_samples_split=5, min_samples_leaf=4, max_depth=25, total= 1.3min\n",
      "[CV] n_estimators=400, min_samples_split=5, min_samples_leaf=4, max_depth=25 \n",
      "[CV]  n_estimators=400, min_samples_split=5, min_samples_leaf=4, max_depth=25, total= 1.4min\n",
      "[CV] n_estimators=500, min_samples_split=2, min_samples_leaf=2, max_depth=25 \n",
      "[CV]  n_estimators=500, min_samples_split=2, min_samples_leaf=2, max_depth=25, total= 1.9min\n",
      "[CV] n_estimators=500, min_samples_split=2, min_samples_leaf=2, max_depth=25 \n"
     ]
    },
    {
     "name": "stdout",
     "output_type": "stream",
     "text": [
      "[CV]  n_estimators=500, min_samples_split=2, min_samples_leaf=2, max_depth=25, total= 1.9min\n",
      "[CV] n_estimators=500, min_samples_split=2, min_samples_leaf=2, max_depth=25 \n",
      "[CV]  n_estimators=500, min_samples_split=2, min_samples_leaf=2, max_depth=25, total= 1.8min\n",
      "[CV] n_estimators=300, min_samples_split=2, min_samples_leaf=2, max_depth=40 \n",
      "[CV]  n_estimators=300, min_samples_split=2, min_samples_leaf=2, max_depth=40, total= 1.2min\n",
      "[CV] n_estimators=300, min_samples_split=2, min_samples_leaf=2, max_depth=40 \n"
     ]
    }
   ],
   "source": [
    "rf_random.fit(X_train, y_train)"
   ]
  },
  {
   "cell_type": "code",
   "execution_count": null,
   "metadata": {
    "ExecuteTime": {
     "start_time": "2020-09-22T07:38:41.908Z"
    }
   },
   "outputs": [],
   "source": [
    "rf_random.best_params_"
   ]
  },
  {
   "cell_type": "markdown",
   "metadata": {},
   "source": [
    "## Re-run "
   ]
  },
  {
   "cell_type": "code",
   "execution_count": 44,
   "metadata": {
    "ExecuteTime": {
     "end_time": "2020-09-21T07:57:21.449819Z",
     "start_time": "2020-09-21T07:57:21.446652Z"
    }
   },
   "outputs": [],
   "source": [
    "# rf = RandomForestRegressor(**rf_random.best_params_, random_state = 1)"
   ]
  },
  {
   "cell_type": "code",
   "execution_count": 45,
   "metadata": {
    "ExecuteTime": {
     "end_time": "2020-09-21T07:57:21.457559Z",
     "start_time": "2020-09-21T07:57:21.453531Z"
    }
   },
   "outputs": [],
   "source": [
    "# y_pred = rf.predict(X_test)"
   ]
  },
  {
   "cell_type": "code",
   "execution_count": 46,
   "metadata": {
    "ExecuteTime": {
     "end_time": "2020-09-21T07:57:21.465621Z",
     "start_time": "2020-09-21T07:57:21.462612Z"
    }
   },
   "outputs": [],
   "source": [
    "# print(f'{r2_score(y_test, y_pred):.2%}')"
   ]
  },
  {
   "cell_type": "markdown",
   "metadata": {},
   "source": [
    "# Save model"
   ]
  },
  {
   "cell_type": "code",
   "execution_count": 55,
   "metadata": {
    "ExecuteTime": {
     "end_time": "2020-09-21T07:59:33.437116Z",
     "start_time": "2020-09-21T07:59:31.625838Z"
    }
   },
   "outputs": [
    {
     "data": {
      "text/plain": [
       "['rf_model.joblib']"
      ]
     },
     "execution_count": 55,
     "metadata": {},
     "output_type": "execute_result"
    }
   ],
   "source": [
    "# dump(rf, 'rf_model.joblib') \n",
    "dump(rf, 'rf_model.joblib',compress=3)"
   ]
  },
  {
   "cell_type": "markdown",
   "metadata": {},
   "source": [
    "# Predict on country"
   ]
  },
  {
   "cell_type": "code",
   "execution_count": 48,
   "metadata": {
    "ExecuteTime": {
     "end_time": "2020-09-21T07:57:23.414757Z",
     "start_time": "2020-09-21T07:57:23.408950Z"
    }
   },
   "outputs": [],
   "source": [
    "input_val = 'Germany'"
   ]
  },
  {
   "cell_type": "code",
   "execution_count": 49,
   "metadata": {
    "ExecuteTime": {
     "end_time": "2020-09-21T07:57:23.438015Z",
     "start_time": "2020-09-21T07:57:23.420489Z"
    }
   },
   "outputs": [
    {
     "data": {
      "text/plain": [
       "array([ 0,  0,  0, ..., 92, 92, 92])"
      ]
     },
     "execution_count": 49,
     "metadata": {},
     "output_type": "execute_result"
    }
   ],
   "source": [
    "encoder.fit_transform(df_orig['location'])"
   ]
  },
  {
   "cell_type": "code",
   "execution_count": 50,
   "metadata": {
    "ExecuteTime": {
     "end_time": "2020-09-21T07:57:23.444702Z",
     "start_time": "2020-09-21T07:57:23.440620Z"
    }
   },
   "outputs": [],
   "source": [
    "encode_ind = (encoder.classes_).tolist().index(input_val)"
   ]
  },
  {
   "cell_type": "code",
   "execution_count": 51,
   "metadata": {
    "ExecuteTime": {
     "end_time": "2020-09-21T07:57:23.510774Z",
     "start_time": "2020-09-21T07:57:23.449155Z"
    }
   },
   "outputs": [
    {
     "data": {
      "text/html": [
       "<div>\n",
       "<style scoped>\n",
       "    .dataframe tbody tr th:only-of-type {\n",
       "        vertical-align: middle;\n",
       "    }\n",
       "\n",
       "    .dataframe tbody tr th {\n",
       "        vertical-align: top;\n",
       "    }\n",
       "\n",
       "    .dataframe thead th {\n",
       "        text-align: right;\n",
       "    }\n",
       "</style>\n",
       "<table border=\"1\" class=\"dataframe\">\n",
       "  <thead>\n",
       "    <tr style=\"text-align: right;\">\n",
       "      <th></th>\n",
       "      <th>iso_code</th>\n",
       "      <th>continent</th>\n",
       "      <th>location</th>\n",
       "      <th>date</th>\n",
       "      <th>total_cases</th>\n",
       "      <th>new_cases</th>\n",
       "      <th>new_cases_smoothed</th>\n",
       "      <th>total_deaths</th>\n",
       "      <th>new_deaths</th>\n",
       "      <th>new_deaths_smoothed</th>\n",
       "      <th>...</th>\n",
       "      <th>gdp_per_capita</th>\n",
       "      <th>extreme_poverty</th>\n",
       "      <th>cardiovasc_death_rate</th>\n",
       "      <th>diabetes_prevalence</th>\n",
       "      <th>female_smokers</th>\n",
       "      <th>male_smokers</th>\n",
       "      <th>handwashing_facilities</th>\n",
       "      <th>hospital_beds_per_thousand</th>\n",
       "      <th>life_expectancy</th>\n",
       "      <th>human_development_index</th>\n",
       "    </tr>\n",
       "  </thead>\n",
       "  <tbody>\n",
       "    <tr>\n",
       "      <th>15535</th>\n",
       "      <td>DEU</td>\n",
       "      <td>Europe</td>\n",
       "      <td>Germany</td>\n",
       "      <td>2019-12-31</td>\n",
       "      <td>0.0</td>\n",
       "      <td>0.0</td>\n",
       "      <td>NaN</td>\n",
       "      <td>0.0</td>\n",
       "      <td>0.0</td>\n",
       "      <td>NaN</td>\n",
       "      <td>...</td>\n",
       "      <td>45229.245</td>\n",
       "      <td>NaN</td>\n",
       "      <td>156.139</td>\n",
       "      <td>8.31</td>\n",
       "      <td>28.2</td>\n",
       "      <td>33.1</td>\n",
       "      <td>NaN</td>\n",
       "      <td>8.0</td>\n",
       "      <td>81.33</td>\n",
       "      <td>0.936</td>\n",
       "    </tr>\n",
       "    <tr>\n",
       "      <th>15536</th>\n",
       "      <td>DEU</td>\n",
       "      <td>Europe</td>\n",
       "      <td>Germany</td>\n",
       "      <td>2020-01-01</td>\n",
       "      <td>0.0</td>\n",
       "      <td>0.0</td>\n",
       "      <td>NaN</td>\n",
       "      <td>0.0</td>\n",
       "      <td>0.0</td>\n",
       "      <td>NaN</td>\n",
       "      <td>...</td>\n",
       "      <td>45229.245</td>\n",
       "      <td>NaN</td>\n",
       "      <td>156.139</td>\n",
       "      <td>8.31</td>\n",
       "      <td>28.2</td>\n",
       "      <td>33.1</td>\n",
       "      <td>NaN</td>\n",
       "      <td>8.0</td>\n",
       "      <td>81.33</td>\n",
       "      <td>0.936</td>\n",
       "    </tr>\n",
       "    <tr>\n",
       "      <th>15537</th>\n",
       "      <td>DEU</td>\n",
       "      <td>Europe</td>\n",
       "      <td>Germany</td>\n",
       "      <td>2020-01-02</td>\n",
       "      <td>0.0</td>\n",
       "      <td>0.0</td>\n",
       "      <td>NaN</td>\n",
       "      <td>0.0</td>\n",
       "      <td>0.0</td>\n",
       "      <td>NaN</td>\n",
       "      <td>...</td>\n",
       "      <td>45229.245</td>\n",
       "      <td>NaN</td>\n",
       "      <td>156.139</td>\n",
       "      <td>8.31</td>\n",
       "      <td>28.2</td>\n",
       "      <td>33.1</td>\n",
       "      <td>NaN</td>\n",
       "      <td>8.0</td>\n",
       "      <td>81.33</td>\n",
       "      <td>0.936</td>\n",
       "    </tr>\n",
       "    <tr>\n",
       "      <th>15538</th>\n",
       "      <td>DEU</td>\n",
       "      <td>Europe</td>\n",
       "      <td>Germany</td>\n",
       "      <td>2020-01-03</td>\n",
       "      <td>0.0</td>\n",
       "      <td>0.0</td>\n",
       "      <td>NaN</td>\n",
       "      <td>0.0</td>\n",
       "      <td>0.0</td>\n",
       "      <td>NaN</td>\n",
       "      <td>...</td>\n",
       "      <td>45229.245</td>\n",
       "      <td>NaN</td>\n",
       "      <td>156.139</td>\n",
       "      <td>8.31</td>\n",
       "      <td>28.2</td>\n",
       "      <td>33.1</td>\n",
       "      <td>NaN</td>\n",
       "      <td>8.0</td>\n",
       "      <td>81.33</td>\n",
       "      <td>0.936</td>\n",
       "    </tr>\n",
       "    <tr>\n",
       "      <th>15539</th>\n",
       "      <td>DEU</td>\n",
       "      <td>Europe</td>\n",
       "      <td>Germany</td>\n",
       "      <td>2020-01-04</td>\n",
       "      <td>0.0</td>\n",
       "      <td>0.0</td>\n",
       "      <td>NaN</td>\n",
       "      <td>0.0</td>\n",
       "      <td>0.0</td>\n",
       "      <td>NaN</td>\n",
       "      <td>...</td>\n",
       "      <td>45229.245</td>\n",
       "      <td>NaN</td>\n",
       "      <td>156.139</td>\n",
       "      <td>8.31</td>\n",
       "      <td>28.2</td>\n",
       "      <td>33.1</td>\n",
       "      <td>NaN</td>\n",
       "      <td>8.0</td>\n",
       "      <td>81.33</td>\n",
       "      <td>0.936</td>\n",
       "    </tr>\n",
       "    <tr>\n",
       "      <th>...</th>\n",
       "      <td>...</td>\n",
       "      <td>...</td>\n",
       "      <td>...</td>\n",
       "      <td>...</td>\n",
       "      <td>...</td>\n",
       "      <td>...</td>\n",
       "      <td>...</td>\n",
       "      <td>...</td>\n",
       "      <td>...</td>\n",
       "      <td>...</td>\n",
       "      <td>...</td>\n",
       "      <td>...</td>\n",
       "      <td>...</td>\n",
       "      <td>...</td>\n",
       "      <td>...</td>\n",
       "      <td>...</td>\n",
       "      <td>...</td>\n",
       "      <td>...</td>\n",
       "      <td>...</td>\n",
       "      <td>...</td>\n",
       "      <td>...</td>\n",
       "    </tr>\n",
       "    <tr>\n",
       "      <th>15795</th>\n",
       "      <td>DEU</td>\n",
       "      <td>Europe</td>\n",
       "      <td>Germany</td>\n",
       "      <td>2020-09-16</td>\n",
       "      <td>263663.0</td>\n",
       "      <td>1901.0</td>\n",
       "      <td>1455.571</td>\n",
       "      <td>9368.0</td>\n",
       "      <td>6.0</td>\n",
       "      <td>4.286</td>\n",
       "      <td>...</td>\n",
       "      <td>45229.245</td>\n",
       "      <td>NaN</td>\n",
       "      <td>156.139</td>\n",
       "      <td>8.31</td>\n",
       "      <td>28.2</td>\n",
       "      <td>33.1</td>\n",
       "      <td>NaN</td>\n",
       "      <td>8.0</td>\n",
       "      <td>81.33</td>\n",
       "      <td>0.936</td>\n",
       "    </tr>\n",
       "    <tr>\n",
       "      <th>15796</th>\n",
       "      <td>DEU</td>\n",
       "      <td>Europe</td>\n",
       "      <td>Germany</td>\n",
       "      <td>2020-09-17</td>\n",
       "      <td>265857.0</td>\n",
       "      <td>2194.0</td>\n",
       "      <td>1498.714</td>\n",
       "      <td>9371.0</td>\n",
       "      <td>3.0</td>\n",
       "      <td>4.286</td>\n",
       "      <td>...</td>\n",
       "      <td>45229.245</td>\n",
       "      <td>NaN</td>\n",
       "      <td>156.139</td>\n",
       "      <td>8.31</td>\n",
       "      <td>28.2</td>\n",
       "      <td>33.1</td>\n",
       "      <td>NaN</td>\n",
       "      <td>8.0</td>\n",
       "      <td>81.33</td>\n",
       "      <td>0.936</td>\n",
       "    </tr>\n",
       "    <tr>\n",
       "      <th>15797</th>\n",
       "      <td>DEU</td>\n",
       "      <td>Europe</td>\n",
       "      <td>Germany</td>\n",
       "      <td>2020-09-18</td>\n",
       "      <td>267773.0</td>\n",
       "      <td>1916.0</td>\n",
       "      <td>1560.429</td>\n",
       "      <td>9378.0</td>\n",
       "      <td>7.0</td>\n",
       "      <td>5.143</td>\n",
       "      <td>...</td>\n",
       "      <td>45229.245</td>\n",
       "      <td>NaN</td>\n",
       "      <td>156.139</td>\n",
       "      <td>8.31</td>\n",
       "      <td>28.2</td>\n",
       "      <td>33.1</td>\n",
       "      <td>NaN</td>\n",
       "      <td>8.0</td>\n",
       "      <td>81.33</td>\n",
       "      <td>0.936</td>\n",
       "    </tr>\n",
       "    <tr>\n",
       "      <th>15798</th>\n",
       "      <td>DEU</td>\n",
       "      <td>Europe</td>\n",
       "      <td>Germany</td>\n",
       "      <td>2020-09-19</td>\n",
       "      <td>270070.0</td>\n",
       "      <td>2297.0</td>\n",
       "      <td>1655.714</td>\n",
       "      <td>9384.0</td>\n",
       "      <td>6.0</td>\n",
       "      <td>5.286</td>\n",
       "      <td>...</td>\n",
       "      <td>45229.245</td>\n",
       "      <td>NaN</td>\n",
       "      <td>156.139</td>\n",
       "      <td>8.31</td>\n",
       "      <td>28.2</td>\n",
       "      <td>33.1</td>\n",
       "      <td>NaN</td>\n",
       "      <td>8.0</td>\n",
       "      <td>81.33</td>\n",
       "      <td>0.936</td>\n",
       "    </tr>\n",
       "    <tr>\n",
       "      <th>15799</th>\n",
       "      <td>DEU</td>\n",
       "      <td>Europe</td>\n",
       "      <td>Germany</td>\n",
       "      <td>2020-09-20</td>\n",
       "      <td>271415.0</td>\n",
       "      <td>1345.0</td>\n",
       "      <td>1712.429</td>\n",
       "      <td>9386.0</td>\n",
       "      <td>2.0</td>\n",
       "      <td>5.286</td>\n",
       "      <td>...</td>\n",
       "      <td>45229.245</td>\n",
       "      <td>NaN</td>\n",
       "      <td>156.139</td>\n",
       "      <td>8.31</td>\n",
       "      <td>28.2</td>\n",
       "      <td>33.1</td>\n",
       "      <td>NaN</td>\n",
       "      <td>8.0</td>\n",
       "      <td>81.33</td>\n",
       "      <td>0.936</td>\n",
       "    </tr>\n",
       "  </tbody>\n",
       "</table>\n",
       "<p>265 rows × 41 columns</p>\n",
       "</div>"
      ],
      "text/plain": [
       "      iso_code continent location        date  total_cases  new_cases  \\\n",
       "15535      DEU    Europe  Germany  2019-12-31          0.0        0.0   \n",
       "15536      DEU    Europe  Germany  2020-01-01          0.0        0.0   \n",
       "15537      DEU    Europe  Germany  2020-01-02          0.0        0.0   \n",
       "15538      DEU    Europe  Germany  2020-01-03          0.0        0.0   \n",
       "15539      DEU    Europe  Germany  2020-01-04          0.0        0.0   \n",
       "...        ...       ...      ...         ...          ...        ...   \n",
       "15795      DEU    Europe  Germany  2020-09-16     263663.0     1901.0   \n",
       "15796      DEU    Europe  Germany  2020-09-17     265857.0     2194.0   \n",
       "15797      DEU    Europe  Germany  2020-09-18     267773.0     1916.0   \n",
       "15798      DEU    Europe  Germany  2020-09-19     270070.0     2297.0   \n",
       "15799      DEU    Europe  Germany  2020-09-20     271415.0     1345.0   \n",
       "\n",
       "       new_cases_smoothed  total_deaths  new_deaths  new_deaths_smoothed  ...  \\\n",
       "15535                 NaN           0.0         0.0                  NaN  ...   \n",
       "15536                 NaN           0.0         0.0                  NaN  ...   \n",
       "15537                 NaN           0.0         0.0                  NaN  ...   \n",
       "15538                 NaN           0.0         0.0                  NaN  ...   \n",
       "15539                 NaN           0.0         0.0                  NaN  ...   \n",
       "...                   ...           ...         ...                  ...  ...   \n",
       "15795            1455.571        9368.0         6.0                4.286  ...   \n",
       "15796            1498.714        9371.0         3.0                4.286  ...   \n",
       "15797            1560.429        9378.0         7.0                5.143  ...   \n",
       "15798            1655.714        9384.0         6.0                5.286  ...   \n",
       "15799            1712.429        9386.0         2.0                5.286  ...   \n",
       "\n",
       "       gdp_per_capita  extreme_poverty  cardiovasc_death_rate  \\\n",
       "15535       45229.245              NaN                156.139   \n",
       "15536       45229.245              NaN                156.139   \n",
       "15537       45229.245              NaN                156.139   \n",
       "15538       45229.245              NaN                156.139   \n",
       "15539       45229.245              NaN                156.139   \n",
       "...               ...              ...                    ...   \n",
       "15795       45229.245              NaN                156.139   \n",
       "15796       45229.245              NaN                156.139   \n",
       "15797       45229.245              NaN                156.139   \n",
       "15798       45229.245              NaN                156.139   \n",
       "15799       45229.245              NaN                156.139   \n",
       "\n",
       "       diabetes_prevalence  female_smokers  male_smokers  \\\n",
       "15535                 8.31            28.2          33.1   \n",
       "15536                 8.31            28.2          33.1   \n",
       "15537                 8.31            28.2          33.1   \n",
       "15538                 8.31            28.2          33.1   \n",
       "15539                 8.31            28.2          33.1   \n",
       "...                    ...             ...           ...   \n",
       "15795                 8.31            28.2          33.1   \n",
       "15796                 8.31            28.2          33.1   \n",
       "15797                 8.31            28.2          33.1   \n",
       "15798                 8.31            28.2          33.1   \n",
       "15799                 8.31            28.2          33.1   \n",
       "\n",
       "       handwashing_facilities  hospital_beds_per_thousand  life_expectancy  \\\n",
       "15535                     NaN                         8.0            81.33   \n",
       "15536                     NaN                         8.0            81.33   \n",
       "15537                     NaN                         8.0            81.33   \n",
       "15538                     NaN                         8.0            81.33   \n",
       "15539                     NaN                         8.0            81.33   \n",
       "...                       ...                         ...              ...   \n",
       "15795                     NaN                         8.0            81.33   \n",
       "15796                     NaN                         8.0            81.33   \n",
       "15797                     NaN                         8.0            81.33   \n",
       "15798                     NaN                         8.0            81.33   \n",
       "15799                     NaN                         8.0            81.33   \n",
       "\n",
       "       human_development_index  \n",
       "15535                    0.936  \n",
       "15536                    0.936  \n",
       "15537                    0.936  \n",
       "15538                    0.936  \n",
       "15539                    0.936  \n",
       "...                        ...  \n",
       "15795                    0.936  \n",
       "15796                    0.936  \n",
       "15797                    0.936  \n",
       "15798                    0.936  \n",
       "15799                    0.936  \n",
       "\n",
       "[265 rows x 41 columns]"
      ]
     },
     "execution_count": 51,
     "metadata": {},
     "output_type": "execute_result"
    }
   ],
   "source": [
    "df_orig[df_orig.location == input_val]"
   ]
  },
  {
   "cell_type": "code",
   "execution_count": 52,
   "metadata": {
    "ExecuteTime": {
     "end_time": "2020-09-21T07:57:23.522582Z",
     "start_time": "2020-09-21T07:57:23.512950Z"
    }
   },
   "outputs": [],
   "source": [
    "to_pred = X[X.location == encode_ind].iloc[-1].values.reshape(1,-1)"
   ]
  },
  {
   "cell_type": "code",
   "execution_count": 53,
   "metadata": {
    "ExecuteTime": {
     "end_time": "2020-09-21T07:57:23.543155Z",
     "start_time": "2020-09-21T07:57:23.525128Z"
    }
   },
   "outputs": [
    {
     "data": {
      "text/plain": [
       "1838.76"
      ]
     },
     "execution_count": 53,
     "metadata": {},
     "output_type": "execute_result"
    }
   ],
   "source": [
    "rf.predict(to_pred)[0] "
   ]
  },
  {
   "cell_type": "code",
   "execution_count": null,
   "metadata": {},
   "outputs": [],
   "source": []
  }
 ],
 "metadata": {
  "hide_input": false,
  "kernelspec": {
   "display_name": "ml_api_covid",
   "language": "python",
   "name": "ml_api_covid"
  },
  "language_info": {
   "codemirror_mode": {
    "name": "ipython",
    "version": 3
   },
   "file_extension": ".py",
   "mimetype": "text/x-python",
   "name": "python",
   "nbconvert_exporter": "python",
   "pygments_lexer": "ipython3",
   "version": "3.7.7"
  },
  "toc": {
   "base_numbering": 1,
   "nav_menu": {},
   "number_sections": true,
   "sideBar": true,
   "skip_h1_title": false,
   "title_cell": "Table of Contents",
   "title_sidebar": "Contents",
   "toc_cell": false,
   "toc_position": {
    "height": "calc(100% - 180px)",
    "left": "10px",
    "top": "150px",
    "width": "336px"
   },
   "toc_section_display": true,
   "toc_window_display": true
  }
 },
 "nbformat": 4,
 "nbformat_minor": 4
}
