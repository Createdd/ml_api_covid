{
 "cells": [
  {
   "cell_type": "code",
   "execution_count": 55,
   "metadata": {
    "ExecuteTime": {
     "end_time": "2020-09-19T10:18:11.217049Z",
     "start_time": "2020-09-19T10:18:11.213518Z"
    }
   },
   "outputs": [],
   "source": [
    "import os\n",
    "# import requests\n",
    "# from urllib.request import urlopen\n",
    "# import json\n",
    "import matplotlib.pyplot as plt\n",
    "import pandas as pd\n",
    "import seaborn as sns\n",
    "\n",
    "from IPython.core.interactiveshell import InteractiveShell\n",
    "InteractiveShell.ast_node_interactivity = \"all\""
   ]
  },
  {
   "cell_type": "markdown",
   "metadata": {},
   "source": [
    "# Load data"
   ]
  },
  {
   "cell_type": "code",
   "execution_count": 21,
   "metadata": {
    "ExecuteTime": {
     "end_time": "2020-09-19T09:58:29.565757Z",
     "start_time": "2020-09-19T09:58:29.563460Z"
    }
   },
   "outputs": [],
   "source": [
    "url_to_covid = 'https://covid.ourworldindata.org/data/owid-covid-data.csv'"
   ]
  },
  {
   "cell_type": "code",
   "execution_count": 44,
   "metadata": {
    "ExecuteTime": {
     "end_time": "2020-09-19T10:15:11.684356Z",
     "start_time": "2020-09-19T10:15:00.665938Z"
    }
   },
   "outputs": [],
   "source": [
    "df_orig = pd.read_csv(url_to_covid)"
   ]
  },
  {
   "cell_type": "markdown",
   "metadata": {},
   "source": [
    "# Understand structure"
   ]
  },
  {
   "cell_type": "code",
   "execution_count": 45,
   "metadata": {
    "ExecuteTime": {
     "end_time": "2020-09-19T10:15:11.696366Z",
     "start_time": "2020-09-19T10:15:11.687949Z"
    },
    "scrolled": true
   },
   "outputs": [
    {
     "data": {
      "text/plain": [
       "array(['Afghanistan', 'Albania', 'Algeria', 'Andorra', 'Angola',\n",
       "       'Anguilla', 'Antigua and Barbuda', 'Argentina', 'Armenia', 'Aruba',\n",
       "       'Australia', 'Austria', 'Azerbaijan', 'Bahamas', 'Bahrain',\n",
       "       'Bangladesh', 'Barbados', 'Belarus', 'Belgium', 'Belize', 'Benin',\n",
       "       'Bermuda', 'Bhutan', 'Bolivia', 'Bonaire Sint Eustatius and Saba',\n",
       "       'Bosnia and Herzegovina', 'Botswana', 'Brazil',\n",
       "       'British Virgin Islands', 'Brunei', 'Bulgaria', 'Burkina Faso',\n",
       "       'Burundi', 'Cambodia', 'Cameroon', 'Canada', 'Cape Verde',\n",
       "       'Cayman Islands', 'Central African Republic', 'Chad', 'Chile',\n",
       "       'China', 'Colombia', 'Comoros', 'Congo', 'Costa Rica',\n",
       "       \"Cote d'Ivoire\", 'Croatia', 'Cuba', 'Curacao', 'Cyprus',\n",
       "       'Czech Republic', 'Democratic Republic of Congo', 'Denmark',\n",
       "       'Djibouti', 'Dominica', 'Dominican Republic', 'Ecuador', 'Egypt',\n",
       "       'El Salvador', 'Equatorial Guinea', 'Eritrea', 'Estonia',\n",
       "       'Ethiopia', 'Faeroe Islands', 'Falkland Islands', 'Fiji',\n",
       "       'Finland', 'France', 'French Polynesia', 'Gabon', 'Gambia',\n",
       "       'Georgia', 'Germany', 'Ghana', 'Gibraltar', 'Greece', 'Greenland',\n",
       "       'Grenada', 'Guam', 'Guatemala', 'Guernsey', 'Guinea',\n",
       "       'Guinea-Bissau', 'Guyana', 'Haiti', 'Honduras', 'Hong Kong',\n",
       "       'Hungary', 'Iceland', 'India', 'Indonesia', 'Iran', 'Iraq',\n",
       "       'Ireland', 'Isle of Man', 'Israel', 'Italy', 'Jamaica', 'Japan',\n",
       "       'Jersey', 'Jordan', 'Kazakhstan', 'Kenya', 'Kosovo', 'Kuwait',\n",
       "       'Kyrgyzstan', 'Laos', 'Latvia', 'Lebanon', 'Lesotho', 'Liberia',\n",
       "       'Libya', 'Liechtenstein', 'Lithuania', 'Luxembourg', 'Macedonia',\n",
       "       'Madagascar', 'Malawi', 'Malaysia', 'Maldives', 'Mali', 'Malta',\n",
       "       'Mauritania', 'Mauritius', 'Mexico', 'Moldova', 'Monaco',\n",
       "       'Mongolia', 'Montenegro', 'Montserrat', 'Morocco', 'Mozambique',\n",
       "       'Myanmar', 'Namibia', 'Nepal', 'Netherlands', 'New Caledonia',\n",
       "       'New Zealand', 'Nicaragua', 'Niger', 'Nigeria',\n",
       "       'Northern Mariana Islands', 'Norway', 'Oman', 'Pakistan',\n",
       "       'Palestine', 'Panama', 'Papua New Guinea', 'Paraguay', 'Peru',\n",
       "       'Philippines', 'Poland', 'Portugal', 'Puerto Rico', 'Qatar',\n",
       "       'Romania', 'Russia', 'Rwanda', 'Saint Kitts and Nevis',\n",
       "       'Saint Lucia', 'Saint Vincent and the Grenadines', 'San Marino',\n",
       "       'Sao Tome and Principe', 'Saudi Arabia', 'Senegal', 'Serbia',\n",
       "       'Seychelles', 'Sierra Leone', 'Singapore',\n",
       "       'Sint Maarten (Dutch part)', 'Slovakia', 'Slovenia', 'Somalia',\n",
       "       'South Africa', 'South Korea', 'South Sudan', 'Spain', 'Sri Lanka',\n",
       "       'Sudan', 'Suriname', 'Swaziland', 'Sweden', 'Switzerland', 'Syria',\n",
       "       'Taiwan', 'Tajikistan', 'Tanzania', 'Thailand', 'Timor', 'Togo',\n",
       "       'Trinidad and Tobago', 'Tunisia', 'Turkey',\n",
       "       'Turks and Caicos Islands', 'Uganda', 'Ukraine',\n",
       "       'United Arab Emirates', 'United Kingdom', 'United States',\n",
       "       'United States Virgin Islands', 'Uruguay', 'Uzbekistan', 'Vatican',\n",
       "       'Venezuela', 'Vietnam', 'Western Sahara', 'Yemen', 'Zambia',\n",
       "       'Zimbabwe', 'World', 'International'], dtype=object)"
      ]
     },
     "execution_count": 45,
     "metadata": {},
     "output_type": "execute_result"
    }
   ],
   "source": [
    "df_orig.location.unique()"
   ]
  },
  {
   "cell_type": "code",
   "execution_count": 46,
   "metadata": {
    "ExecuteTime": {
     "end_time": "2020-09-19T10:15:14.388599Z",
     "start_time": "2020-09-19T10:15:14.382252Z"
    }
   },
   "outputs": [],
   "source": [
    "df = df_orig[df_orig.location == 'Austria']"
   ]
  },
  {
   "cell_type": "code",
   "execution_count": 47,
   "metadata": {
    "ExecuteTime": {
     "end_time": "2020-09-19T10:15:14.876069Z",
     "start_time": "2020-09-19T10:15:14.843218Z"
    }
   },
   "outputs": [
    {
     "data": {
      "text/html": [
       "<div>\n",
       "<style scoped>\n",
       "    .dataframe tbody tr th:only-of-type {\n",
       "        vertical-align: middle;\n",
       "    }\n",
       "\n",
       "    .dataframe tbody tr th {\n",
       "        vertical-align: top;\n",
       "    }\n",
       "\n",
       "    .dataframe thead th {\n",
       "        text-align: right;\n",
       "    }\n",
       "</style>\n",
       "<table border=\"1\" class=\"dataframe\">\n",
       "  <thead>\n",
       "    <tr style=\"text-align: right;\">\n",
       "      <th></th>\n",
       "      <th>iso_code</th>\n",
       "      <th>continent</th>\n",
       "      <th>location</th>\n",
       "      <th>date</th>\n",
       "      <th>total_cases</th>\n",
       "      <th>new_cases</th>\n",
       "      <th>new_cases_smoothed</th>\n",
       "      <th>total_deaths</th>\n",
       "      <th>new_deaths</th>\n",
       "      <th>new_deaths_smoothed</th>\n",
       "      <th>...</th>\n",
       "      <th>gdp_per_capita</th>\n",
       "      <th>extreme_poverty</th>\n",
       "      <th>cardiovasc_death_rate</th>\n",
       "      <th>diabetes_prevalence</th>\n",
       "      <th>female_smokers</th>\n",
       "      <th>male_smokers</th>\n",
       "      <th>handwashing_facilities</th>\n",
       "      <th>hospital_beds_per_thousand</th>\n",
       "      <th>life_expectancy</th>\n",
       "      <th>human_development_index</th>\n",
       "    </tr>\n",
       "  </thead>\n",
       "  <tbody>\n",
       "    <tr>\n",
       "      <th>2398</th>\n",
       "      <td>AUT</td>\n",
       "      <td>Europe</td>\n",
       "      <td>Austria</td>\n",
       "      <td>2019-12-31</td>\n",
       "      <td>0.0</td>\n",
       "      <td>0.0</td>\n",
       "      <td>NaN</td>\n",
       "      <td>0.0</td>\n",
       "      <td>0.0</td>\n",
       "      <td>NaN</td>\n",
       "      <td>...</td>\n",
       "      <td>45436.686</td>\n",
       "      <td>0.7</td>\n",
       "      <td>145.183</td>\n",
       "      <td>6.35</td>\n",
       "      <td>28.4</td>\n",
       "      <td>30.9</td>\n",
       "      <td>NaN</td>\n",
       "      <td>7.37</td>\n",
       "      <td>81.54</td>\n",
       "      <td>0.908</td>\n",
       "    </tr>\n",
       "    <tr>\n",
       "      <th>2399</th>\n",
       "      <td>AUT</td>\n",
       "      <td>Europe</td>\n",
       "      <td>Austria</td>\n",
       "      <td>2020-01-01</td>\n",
       "      <td>0.0</td>\n",
       "      <td>0.0</td>\n",
       "      <td>NaN</td>\n",
       "      <td>0.0</td>\n",
       "      <td>0.0</td>\n",
       "      <td>NaN</td>\n",
       "      <td>...</td>\n",
       "      <td>45436.686</td>\n",
       "      <td>0.7</td>\n",
       "      <td>145.183</td>\n",
       "      <td>6.35</td>\n",
       "      <td>28.4</td>\n",
       "      <td>30.9</td>\n",
       "      <td>NaN</td>\n",
       "      <td>7.37</td>\n",
       "      <td>81.54</td>\n",
       "      <td>0.908</td>\n",
       "    </tr>\n",
       "    <tr>\n",
       "      <th>2400</th>\n",
       "      <td>AUT</td>\n",
       "      <td>Europe</td>\n",
       "      <td>Austria</td>\n",
       "      <td>2020-01-02</td>\n",
       "      <td>0.0</td>\n",
       "      <td>0.0</td>\n",
       "      <td>NaN</td>\n",
       "      <td>0.0</td>\n",
       "      <td>0.0</td>\n",
       "      <td>NaN</td>\n",
       "      <td>...</td>\n",
       "      <td>45436.686</td>\n",
       "      <td>0.7</td>\n",
       "      <td>145.183</td>\n",
       "      <td>6.35</td>\n",
       "      <td>28.4</td>\n",
       "      <td>30.9</td>\n",
       "      <td>NaN</td>\n",
       "      <td>7.37</td>\n",
       "      <td>81.54</td>\n",
       "      <td>0.908</td>\n",
       "    </tr>\n",
       "    <tr>\n",
       "      <th>2401</th>\n",
       "      <td>AUT</td>\n",
       "      <td>Europe</td>\n",
       "      <td>Austria</td>\n",
       "      <td>2020-01-03</td>\n",
       "      <td>0.0</td>\n",
       "      <td>0.0</td>\n",
       "      <td>NaN</td>\n",
       "      <td>0.0</td>\n",
       "      <td>0.0</td>\n",
       "      <td>NaN</td>\n",
       "      <td>...</td>\n",
       "      <td>45436.686</td>\n",
       "      <td>0.7</td>\n",
       "      <td>145.183</td>\n",
       "      <td>6.35</td>\n",
       "      <td>28.4</td>\n",
       "      <td>30.9</td>\n",
       "      <td>NaN</td>\n",
       "      <td>7.37</td>\n",
       "      <td>81.54</td>\n",
       "      <td>0.908</td>\n",
       "    </tr>\n",
       "    <tr>\n",
       "      <th>2402</th>\n",
       "      <td>AUT</td>\n",
       "      <td>Europe</td>\n",
       "      <td>Austria</td>\n",
       "      <td>2020-01-04</td>\n",
       "      <td>0.0</td>\n",
       "      <td>0.0</td>\n",
       "      <td>NaN</td>\n",
       "      <td>0.0</td>\n",
       "      <td>0.0</td>\n",
       "      <td>NaN</td>\n",
       "      <td>...</td>\n",
       "      <td>45436.686</td>\n",
       "      <td>0.7</td>\n",
       "      <td>145.183</td>\n",
       "      <td>6.35</td>\n",
       "      <td>28.4</td>\n",
       "      <td>30.9</td>\n",
       "      <td>NaN</td>\n",
       "      <td>7.37</td>\n",
       "      <td>81.54</td>\n",
       "      <td>0.908</td>\n",
       "    </tr>\n",
       "    <tr>\n",
       "      <th>...</th>\n",
       "      <td>...</td>\n",
       "      <td>...</td>\n",
       "      <td>...</td>\n",
       "      <td>...</td>\n",
       "      <td>...</td>\n",
       "      <td>...</td>\n",
       "      <td>...</td>\n",
       "      <td>...</td>\n",
       "      <td>...</td>\n",
       "      <td>...</td>\n",
       "      <td>...</td>\n",
       "      <td>...</td>\n",
       "      <td>...</td>\n",
       "      <td>...</td>\n",
       "      <td>...</td>\n",
       "      <td>...</td>\n",
       "      <td>...</td>\n",
       "      <td>...</td>\n",
       "      <td>...</td>\n",
       "      <td>...</td>\n",
       "      <td>...</td>\n",
       "    </tr>\n",
       "    <tr>\n",
       "      <th>2657</th>\n",
       "      <td>AUT</td>\n",
       "      <td>Europe</td>\n",
       "      <td>Austria</td>\n",
       "      <td>2020-09-15</td>\n",
       "      <td>33884.0</td>\n",
       "      <td>549.0</td>\n",
       "      <td>597.000</td>\n",
       "      <td>757.0</td>\n",
       "      <td>1.0</td>\n",
       "      <td>1.571</td>\n",
       "      <td>...</td>\n",
       "      <td>45436.686</td>\n",
       "      <td>0.7</td>\n",
       "      <td>145.183</td>\n",
       "      <td>6.35</td>\n",
       "      <td>28.4</td>\n",
       "      <td>30.9</td>\n",
       "      <td>NaN</td>\n",
       "      <td>7.37</td>\n",
       "      <td>81.54</td>\n",
       "      <td>0.908</td>\n",
       "    </tr>\n",
       "    <tr>\n",
       "      <th>2658</th>\n",
       "      <td>AUT</td>\n",
       "      <td>Europe</td>\n",
       "      <td>Austria</td>\n",
       "      <td>2020-09-16</td>\n",
       "      <td>34744.0</td>\n",
       "      <td>860.0</td>\n",
       "      <td>649.143</td>\n",
       "      <td>757.0</td>\n",
       "      <td>0.0</td>\n",
       "      <td>1.429</td>\n",
       "      <td>...</td>\n",
       "      <td>45436.686</td>\n",
       "      <td>0.7</td>\n",
       "      <td>145.183</td>\n",
       "      <td>6.35</td>\n",
       "      <td>28.4</td>\n",
       "      <td>30.9</td>\n",
       "      <td>NaN</td>\n",
       "      <td>7.37</td>\n",
       "      <td>81.54</td>\n",
       "      <td>0.908</td>\n",
       "    </tr>\n",
       "    <tr>\n",
       "      <th>2659</th>\n",
       "      <td>AUT</td>\n",
       "      <td>Europe</td>\n",
       "      <td>Austria</td>\n",
       "      <td>2020-09-17</td>\n",
       "      <td>35448.0</td>\n",
       "      <td>704.0</td>\n",
       "      <td>642.000</td>\n",
       "      <td>758.0</td>\n",
       "      <td>1.0</td>\n",
       "      <td>1.571</td>\n",
       "      <td>...</td>\n",
       "      <td>45436.686</td>\n",
       "      <td>0.7</td>\n",
       "      <td>145.183</td>\n",
       "      <td>6.35</td>\n",
       "      <td>28.4</td>\n",
       "      <td>30.9</td>\n",
       "      <td>NaN</td>\n",
       "      <td>7.37</td>\n",
       "      <td>81.54</td>\n",
       "      <td>0.908</td>\n",
       "    </tr>\n",
       "    <tr>\n",
       "      <th>2660</th>\n",
       "      <td>AUT</td>\n",
       "      <td>Europe</td>\n",
       "      <td>Austria</td>\n",
       "      <td>2020-09-18</td>\n",
       "      <td>36370.0</td>\n",
       "      <td>922.0</td>\n",
       "      <td>702.714</td>\n",
       "      <td>758.0</td>\n",
       "      <td>0.0</td>\n",
       "      <td>1.429</td>\n",
       "      <td>...</td>\n",
       "      <td>45436.686</td>\n",
       "      <td>0.7</td>\n",
       "      <td>145.183</td>\n",
       "      <td>6.35</td>\n",
       "      <td>28.4</td>\n",
       "      <td>30.9</td>\n",
       "      <td>NaN</td>\n",
       "      <td>7.37</td>\n",
       "      <td>81.54</td>\n",
       "      <td>0.908</td>\n",
       "    </tr>\n",
       "    <tr>\n",
       "      <th>2661</th>\n",
       "      <td>AUT</td>\n",
       "      <td>Europe</td>\n",
       "      <td>Austria</td>\n",
       "      <td>2020-09-19</td>\n",
       "      <td>37191.0</td>\n",
       "      <td>821.0</td>\n",
       "      <td>676.429</td>\n",
       "      <td>763.0</td>\n",
       "      <td>5.0</td>\n",
       "      <td>1.857</td>\n",
       "      <td>...</td>\n",
       "      <td>45436.686</td>\n",
       "      <td>0.7</td>\n",
       "      <td>145.183</td>\n",
       "      <td>6.35</td>\n",
       "      <td>28.4</td>\n",
       "      <td>30.9</td>\n",
       "      <td>NaN</td>\n",
       "      <td>7.37</td>\n",
       "      <td>81.54</td>\n",
       "      <td>0.908</td>\n",
       "    </tr>\n",
       "  </tbody>\n",
       "</table>\n",
       "<p>264 rows × 41 columns</p>\n",
       "</div>"
      ],
      "text/plain": [
       "     iso_code continent location        date  total_cases  new_cases  \\\n",
       "2398      AUT    Europe  Austria  2019-12-31          0.0        0.0   \n",
       "2399      AUT    Europe  Austria  2020-01-01          0.0        0.0   \n",
       "2400      AUT    Europe  Austria  2020-01-02          0.0        0.0   \n",
       "2401      AUT    Europe  Austria  2020-01-03          0.0        0.0   \n",
       "2402      AUT    Europe  Austria  2020-01-04          0.0        0.0   \n",
       "...       ...       ...      ...         ...          ...        ...   \n",
       "2657      AUT    Europe  Austria  2020-09-15      33884.0      549.0   \n",
       "2658      AUT    Europe  Austria  2020-09-16      34744.0      860.0   \n",
       "2659      AUT    Europe  Austria  2020-09-17      35448.0      704.0   \n",
       "2660      AUT    Europe  Austria  2020-09-18      36370.0      922.0   \n",
       "2661      AUT    Europe  Austria  2020-09-19      37191.0      821.0   \n",
       "\n",
       "      new_cases_smoothed  total_deaths  new_deaths  new_deaths_smoothed  ...  \\\n",
       "2398                 NaN           0.0         0.0                  NaN  ...   \n",
       "2399                 NaN           0.0         0.0                  NaN  ...   \n",
       "2400                 NaN           0.0         0.0                  NaN  ...   \n",
       "2401                 NaN           0.0         0.0                  NaN  ...   \n",
       "2402                 NaN           0.0         0.0                  NaN  ...   \n",
       "...                  ...           ...         ...                  ...  ...   \n",
       "2657             597.000         757.0         1.0                1.571  ...   \n",
       "2658             649.143         757.0         0.0                1.429  ...   \n",
       "2659             642.000         758.0         1.0                1.571  ...   \n",
       "2660             702.714         758.0         0.0                1.429  ...   \n",
       "2661             676.429         763.0         5.0                1.857  ...   \n",
       "\n",
       "      gdp_per_capita  extreme_poverty  cardiovasc_death_rate  \\\n",
       "2398       45436.686              0.7                145.183   \n",
       "2399       45436.686              0.7                145.183   \n",
       "2400       45436.686              0.7                145.183   \n",
       "2401       45436.686              0.7                145.183   \n",
       "2402       45436.686              0.7                145.183   \n",
       "...              ...              ...                    ...   \n",
       "2657       45436.686              0.7                145.183   \n",
       "2658       45436.686              0.7                145.183   \n",
       "2659       45436.686              0.7                145.183   \n",
       "2660       45436.686              0.7                145.183   \n",
       "2661       45436.686              0.7                145.183   \n",
       "\n",
       "      diabetes_prevalence  female_smokers  male_smokers  \\\n",
       "2398                 6.35            28.4          30.9   \n",
       "2399                 6.35            28.4          30.9   \n",
       "2400                 6.35            28.4          30.9   \n",
       "2401                 6.35            28.4          30.9   \n",
       "2402                 6.35            28.4          30.9   \n",
       "...                   ...             ...           ...   \n",
       "2657                 6.35            28.4          30.9   \n",
       "2658                 6.35            28.4          30.9   \n",
       "2659                 6.35            28.4          30.9   \n",
       "2660                 6.35            28.4          30.9   \n",
       "2661                 6.35            28.4          30.9   \n",
       "\n",
       "      handwashing_facilities  hospital_beds_per_thousand  life_expectancy  \\\n",
       "2398                     NaN                        7.37            81.54   \n",
       "2399                     NaN                        7.37            81.54   \n",
       "2400                     NaN                        7.37            81.54   \n",
       "2401                     NaN                        7.37            81.54   \n",
       "2402                     NaN                        7.37            81.54   \n",
       "...                      ...                         ...              ...   \n",
       "2657                     NaN                        7.37            81.54   \n",
       "2658                     NaN                        7.37            81.54   \n",
       "2659                     NaN                        7.37            81.54   \n",
       "2660                     NaN                        7.37            81.54   \n",
       "2661                     NaN                        7.37            81.54   \n",
       "\n",
       "      human_development_index  \n",
       "2398                    0.908  \n",
       "2399                    0.908  \n",
       "2400                    0.908  \n",
       "2401                    0.908  \n",
       "2402                    0.908  \n",
       "...                       ...  \n",
       "2657                    0.908  \n",
       "2658                    0.908  \n",
       "2659                    0.908  \n",
       "2660                    0.908  \n",
       "2661                    0.908  \n",
       "\n",
       "[264 rows x 41 columns]"
      ]
     },
     "execution_count": 47,
     "metadata": {},
     "output_type": "execute_result"
    }
   ],
   "source": [
    "df"
   ]
  },
  {
   "cell_type": "code",
   "execution_count": 61,
   "metadata": {
    "ExecuteTime": {
     "end_time": "2020-09-19T13:09:42.481412Z",
     "start_time": "2020-09-19T13:09:37.674608Z"
    }
   },
   "outputs": [
    {
     "name": "stderr",
     "output_type": "stream",
     "text": [
      "/Users/danieldeutsch/opt/anaconda3/envs/ml_api_covid/lib/python3.7/site-packages/seaborn/_decorators.py:43: FutureWarning: Pass the following variables as keyword args: x, y. From version 0.12, the only valid positional argument will be `data`, and passing other arguments without an explicit keyword will result in an error or misinterpretation.\n",
      "  FutureWarning\n"
     ]
    },
    {
     "data": {
      "image/png": "[encoded data removed]",
      "text/plain": [
       "<Figure size 2160x1080 with 1 Axes>"
      ]
     },
     "metadata": {
      "needs_background": "light"
     },
     "output_type": "display_data"
    }
   ],
   "source": [
    "_ = plt.figure(figsize=(30, 15))\n",
    "sns.scatterplot(sorted(df.date), df.new_cases);"
   ]
  },
  {
   "cell_type": "markdown",
   "metadata": {},
   "source": [
    "## Check missing"
   ]
  },
  {
   "cell_type": "code",
   "execution_count": 142,
   "metadata": {
    "ExecuteTime": {
     "end_time": "2020-09-19T14:12:15.463926Z",
     "start_time": "2020-09-19T14:12:15.452160Z"
    }
   },
   "outputs": [],
   "source": [
    "df = df_orig.copy()"
   ]
  },
  {
   "cell_type": "code",
   "execution_count": 143,
   "metadata": {
    "ExecuteTime": {
     "end_time": "2020-09-19T14:12:15.655285Z",
     "start_time": "2020-09-19T14:12:15.629012Z"
    }
   },
   "outputs": [
    {
     "name": "stdout",
     "output_type": "stream",
     "text": [
      "<class 'pandas.core.frame.DataFrame'>\n",
      "RangeIndex: 44785 entries, 0 to 44784\n",
      "Data columns (total 41 columns):\n",
      " #   Column                           Non-Null Count  Dtype  \n",
      "---  ------                           --------------  -----  \n",
      " 0   iso_code                         44521 non-null  object \n",
      " 1   continent                        44257 non-null  object \n",
      " 2   location                         44785 non-null  object \n",
      " 3   date                             44785 non-null  object \n",
      " 4   total_cases                      44182 non-null  float64\n",
      " 5   new_cases                        43982 non-null  float64\n",
      " 6   new_cases_smoothed               43200 non-null  float64\n",
      " 7   total_deaths                     44182 non-null  float64\n",
      " 8   new_deaths                       43982 non-null  float64\n",
      " 9   new_deaths_smoothed              43200 non-null  float64\n",
      " 10  total_cases_per_million          43918 non-null  float64\n",
      " 11  new_cases_per_million            43918 non-null  float64\n",
      " 12  new_cases_smoothed_per_million   43135 non-null  float64\n",
      " 13  total_deaths_per_million         43918 non-null  float64\n",
      " 14  new_deaths_per_million           43918 non-null  float64\n",
      " 15  new_deaths_smoothed_per_million  43135 non-null  float64\n",
      " 16  new_tests                        15647 non-null  float64\n",
      " 17  total_tests                      16022 non-null  float64\n",
      " 18  total_tests_per_thousand         16022 non-null  float64\n",
      " 19  new_tests_per_thousand           15647 non-null  float64\n",
      " 20  new_tests_smoothed               17568 non-null  float64\n",
      " 21  new_tests_smoothed_per_thousand  17568 non-null  float64\n",
      " 22  tests_per_case                   16149 non-null  float64\n",
      " 23  positive_rate                    16533 non-null  float64\n",
      " 24  tests_units                      18374 non-null  object \n",
      " 25  stringency_index                 37057 non-null  float64\n",
      " 26  population                       44521 non-null  float64\n",
      " 27  population_density               42502 non-null  float64\n",
      " 28  median_age                       39952 non-null  float64\n",
      " 29  aged_65_older                    39360 non-null  float64\n",
      " 30  aged_70_older                    39745 non-null  float64\n",
      " 31  gdp_per_capita                   39442 non-null  float64\n",
      " 32  extreme_poverty                  26322 non-null  float64\n",
      " 33  cardiovasc_death_rate            39967 non-null  float64\n",
      " 34  diabetes_prevalence              41366 non-null  float64\n",
      " 35  female_smokers                   31358 non-null  float64\n",
      " 36  male_smokers                     30963 non-null  float64\n",
      " 37  handwashing_facilities           18658 non-null  float64\n",
      " 38  hospital_beds_per_thousand       36139 non-null  float64\n",
      " 39  life_expectancy                  43963 non-null  float64\n",
      " 40  human_development_index          38558 non-null  float64\n",
      "dtypes: float64(36), object(5)\n",
      "memory usage: 14.0+ MB\n"
     ]
    }
   ],
   "source": [
    "df.info()"
   ]
  },
  {
   "cell_type": "code",
   "execution_count": 128,
   "metadata": {
    "ExecuteTime": {
     "end_time": "2020-09-19T14:11:02.869817Z",
     "start_time": "2020-09-19T14:11:02.842339Z"
    }
   },
   "outputs": [
    {
     "data": {
      "text/html": [
       "<div>\n",
       "<style scoped>\n",
       "    .dataframe tbody tr th:only-of-type {\n",
       "        vertical-align: middle;\n",
       "    }\n",
       "\n",
       "    .dataframe tbody tr th {\n",
       "        vertical-align: top;\n",
       "    }\n",
       "\n",
       "    .dataframe thead th {\n",
       "        text-align: right;\n",
       "    }\n",
       "</style>\n",
       "<table border=\"1\" class=\"dataframe\">\n",
       "  <thead>\n",
       "    <tr style=\"text-align: right;\">\n",
       "      <th></th>\n",
       "      <th>column_name</th>\n",
       "      <th>percent_missing</th>\n",
       "    </tr>\n",
       "  </thead>\n",
       "  <tbody>\n",
       "    <tr>\n",
       "      <th>new_tests</th>\n",
       "      <td>new_tests</td>\n",
       "      <td>65.061963</td>\n",
       "    </tr>\n",
       "    <tr>\n",
       "      <th>new_tests_per_thousand</th>\n",
       "      <td>new_tests_per_thousand</td>\n",
       "      <td>65.061963</td>\n",
       "    </tr>\n",
       "    <tr>\n",
       "      <th>total_tests_per_thousand</th>\n",
       "      <td>total_tests_per_thousand</td>\n",
       "      <td>64.224629</td>\n",
       "    </tr>\n",
       "    <tr>\n",
       "      <th>total_tests</th>\n",
       "      <td>total_tests</td>\n",
       "      <td>64.224629</td>\n",
       "    </tr>\n",
       "    <tr>\n",
       "      <th>tests_per_case</th>\n",
       "      <td>tests_per_case</td>\n",
       "      <td>63.941052</td>\n",
       "    </tr>\n",
       "    <tr>\n",
       "      <th>positive_rate</th>\n",
       "      <td>positive_rate</td>\n",
       "      <td>63.083622</td>\n",
       "    </tr>\n",
       "    <tr>\n",
       "      <th>new_tests_smoothed</th>\n",
       "      <td>new_tests_smoothed</td>\n",
       "      <td>60.772580</td>\n",
       "    </tr>\n",
       "    <tr>\n",
       "      <th>new_tests_smoothed_per_thousand</th>\n",
       "      <td>new_tests_smoothed_per_thousand</td>\n",
       "      <td>60.772580</td>\n",
       "    </tr>\n",
       "    <tr>\n",
       "      <th>tests_units</th>\n",
       "      <td>tests_units</td>\n",
       "      <td>58.972870</td>\n",
       "    </tr>\n",
       "    <tr>\n",
       "      <th>handwashing_facilities</th>\n",
       "      <td>handwashing_facilities</td>\n",
       "      <td>58.338729</td>\n",
       "    </tr>\n",
       "    <tr>\n",
       "      <th>extreme_poverty</th>\n",
       "      <td>extreme_poverty</td>\n",
       "      <td>41.225857</td>\n",
       "    </tr>\n",
       "    <tr>\n",
       "      <th>male_smokers</th>\n",
       "      <td>male_smokers</td>\n",
       "      <td>30.863012</td>\n",
       "    </tr>\n",
       "    <tr>\n",
       "      <th>female_smokers</th>\n",
       "      <td>female_smokers</td>\n",
       "      <td>29.981020</td>\n",
       "    </tr>\n",
       "    <tr>\n",
       "      <th>hospital_beds_per_thousand</th>\n",
       "      <td>hospital_beds_per_thousand</td>\n",
       "      <td>19.305571</td>\n",
       "    </tr>\n",
       "    <tr>\n",
       "      <th>stringency_index</th>\n",
       "      <td>stringency_index</td>\n",
       "      <td>17.255778</td>\n",
       "    </tr>\n",
       "    <tr>\n",
       "      <th>human_development_index</th>\n",
       "      <td>human_development_index</td>\n",
       "      <td>13.904209</td>\n",
       "    </tr>\n",
       "    <tr>\n",
       "      <th>aged_65_older</th>\n",
       "      <td>aged_65_older</td>\n",
       "      <td>12.113431</td>\n",
       "    </tr>\n",
       "    <tr>\n",
       "      <th>gdp_per_capita</th>\n",
       "      <td>gdp_per_capita</td>\n",
       "      <td>11.930334</td>\n",
       "    </tr>\n",
       "    <tr>\n",
       "      <th>aged_70_older</th>\n",
       "      <td>aged_70_older</td>\n",
       "      <td>11.253768</td>\n",
       "    </tr>\n",
       "    <tr>\n",
       "      <th>median_age</th>\n",
       "      <td>median_age</td>\n",
       "      <td>10.791560</td>\n",
       "    </tr>\n",
       "    <tr>\n",
       "      <th>cardiovasc_death_rate</th>\n",
       "      <td>cardiovasc_death_rate</td>\n",
       "      <td>10.758066</td>\n",
       "    </tr>\n",
       "    <tr>\n",
       "      <th>diabetes_prevalence</th>\n",
       "      <td>diabetes_prevalence</td>\n",
       "      <td>7.634253</td>\n",
       "    </tr>\n",
       "    <tr>\n",
       "      <th>population_density</th>\n",
       "      <td>population_density</td>\n",
       "      <td>5.097689</td>\n",
       "    </tr>\n",
       "    <tr>\n",
       "      <th>new_deaths_smoothed_per_million</th>\n",
       "      <td>new_deaths_smoothed_per_million</td>\n",
       "      <td>3.684269</td>\n",
       "    </tr>\n",
       "    <tr>\n",
       "      <th>new_cases_smoothed_per_million</th>\n",
       "      <td>new_cases_smoothed_per_million</td>\n",
       "      <td>3.684269</td>\n",
       "    </tr>\n",
       "    <tr>\n",
       "      <th>new_cases_smoothed</th>\n",
       "      <td>new_cases_smoothed</td>\n",
       "      <td>3.539131</td>\n",
       "    </tr>\n",
       "    <tr>\n",
       "      <th>new_deaths_smoothed</th>\n",
       "      <td>new_deaths_smoothed</td>\n",
       "      <td>3.539131</td>\n",
       "    </tr>\n",
       "    <tr>\n",
       "      <th>new_deaths_per_million</th>\n",
       "      <td>new_deaths_per_million</td>\n",
       "      <td>1.935916</td>\n",
       "    </tr>\n",
       "    <tr>\n",
       "      <th>total_cases_per_million</th>\n",
       "      <td>total_cases_per_million</td>\n",
       "      <td>1.935916</td>\n",
       "    </tr>\n",
       "    <tr>\n",
       "      <th>new_cases_per_million</th>\n",
       "      <td>new_cases_per_million</td>\n",
       "      <td>1.935916</td>\n",
       "    </tr>\n",
       "    <tr>\n",
       "      <th>total_deaths_per_million</th>\n",
       "      <td>total_deaths_per_million</td>\n",
       "      <td>1.935916</td>\n",
       "    </tr>\n",
       "    <tr>\n",
       "      <th>life_expectancy</th>\n",
       "      <td>life_expectancy</td>\n",
       "      <td>1.835436</td>\n",
       "    </tr>\n",
       "    <tr>\n",
       "      <th>new_cases</th>\n",
       "      <td>new_cases</td>\n",
       "      <td>1.793011</td>\n",
       "    </tr>\n",
       "    <tr>\n",
       "      <th>new_deaths</th>\n",
       "      <td>new_deaths</td>\n",
       "      <td>1.793011</td>\n",
       "    </tr>\n",
       "    <tr>\n",
       "      <th>total_deaths</th>\n",
       "      <td>total_deaths</td>\n",
       "      <td>1.346433</td>\n",
       "    </tr>\n",
       "    <tr>\n",
       "      <th>total_cases</th>\n",
       "      <td>total_cases</td>\n",
       "      <td>1.346433</td>\n",
       "    </tr>\n",
       "    <tr>\n",
       "      <th>continent</th>\n",
       "      <td>continent</td>\n",
       "      <td>1.178966</td>\n",
       "    </tr>\n",
       "    <tr>\n",
       "      <th>population</th>\n",
       "      <td>population</td>\n",
       "      <td>0.589483</td>\n",
       "    </tr>\n",
       "    <tr>\n",
       "      <th>iso_code</th>\n",
       "      <td>iso_code</td>\n",
       "      <td>0.589483</td>\n",
       "    </tr>\n",
       "    <tr>\n",
       "      <th>date</th>\n",
       "      <td>date</td>\n",
       "      <td>0.000000</td>\n",
       "    </tr>\n",
       "    <tr>\n",
       "      <th>location</th>\n",
       "      <td>location</td>\n",
       "      <td>0.000000</td>\n",
       "    </tr>\n",
       "  </tbody>\n",
       "</table>\n",
       "</div>"
      ],
      "text/plain": [
       "                                                     column_name  \\\n",
       "new_tests                                              new_tests   \n",
       "new_tests_per_thousand                    new_tests_per_thousand   \n",
       "total_tests_per_thousand                total_tests_per_thousand   \n",
       "total_tests                                          total_tests   \n",
       "tests_per_case                                    tests_per_case   \n",
       "positive_rate                                      positive_rate   \n",
       "new_tests_smoothed                            new_tests_smoothed   \n",
       "new_tests_smoothed_per_thousand  new_tests_smoothed_per_thousand   \n",
       "tests_units                                          tests_units   \n",
       "handwashing_facilities                    handwashing_facilities   \n",
       "extreme_poverty                                  extreme_poverty   \n",
       "male_smokers                                        male_smokers   \n",
       "female_smokers                                    female_smokers   \n",
       "hospital_beds_per_thousand            hospital_beds_per_thousand   \n",
       "stringency_index                                stringency_index   \n",
       "human_development_index                  human_development_index   \n",
       "aged_65_older                                      aged_65_older   \n",
       "gdp_per_capita                                    gdp_per_capita   \n",
       "aged_70_older                                      aged_70_older   \n",
       "median_age                                            median_age   \n",
       "cardiovasc_death_rate                      cardiovasc_death_rate   \n",
       "diabetes_prevalence                          diabetes_prevalence   \n",
       "population_density                            population_density   \n",
       "new_deaths_smoothed_per_million  new_deaths_smoothed_per_million   \n",
       "new_cases_smoothed_per_million    new_cases_smoothed_per_million   \n",
       "new_cases_smoothed                            new_cases_smoothed   \n",
       "new_deaths_smoothed                          new_deaths_smoothed   \n",
       "new_deaths_per_million                    new_deaths_per_million   \n",
       "total_cases_per_million                  total_cases_per_million   \n",
       "new_cases_per_million                      new_cases_per_million   \n",
       "total_deaths_per_million                total_deaths_per_million   \n",
       "life_expectancy                                  life_expectancy   \n",
       "new_cases                                              new_cases   \n",
       "new_deaths                                            new_deaths   \n",
       "total_deaths                                        total_deaths   \n",
       "total_cases                                          total_cases   \n",
       "continent                                              continent   \n",
       "population                                            population   \n",
       "iso_code                                                iso_code   \n",
       "date                                                        date   \n",
       "location                                                location   \n",
       "\n",
       "                                 percent_missing  \n",
       "new_tests                              65.061963  \n",
       "new_tests_per_thousand                 65.061963  \n",
       "total_tests_per_thousand               64.224629  \n",
       "total_tests                            64.224629  \n",
       "tests_per_case                         63.941052  \n",
       "positive_rate                          63.083622  \n",
       "new_tests_smoothed                     60.772580  \n",
       "new_tests_smoothed_per_thousand        60.772580  \n",
       "tests_units                            58.972870  \n",
       "handwashing_facilities                 58.338729  \n",
       "extreme_poverty                        41.225857  \n",
       "male_smokers                           30.863012  \n",
       "female_smokers                         29.981020  \n",
       "hospital_beds_per_thousand             19.305571  \n",
       "stringency_index                       17.255778  \n",
       "human_development_index                13.904209  \n",
       "aged_65_older                          12.113431  \n",
       "gdp_per_capita                         11.930334  \n",
       "aged_70_older                          11.253768  \n",
       "median_age                             10.791560  \n",
       "cardiovasc_death_rate                  10.758066  \n",
       "diabetes_prevalence                     7.634253  \n",
       "population_density                      5.097689  \n",
       "new_deaths_smoothed_per_million         3.684269  \n",
       "new_cases_smoothed_per_million          3.684269  \n",
       "new_cases_smoothed                      3.539131  \n",
       "new_deaths_smoothed                     3.539131  \n",
       "new_deaths_per_million                  1.935916  \n",
       "total_cases_per_million                 1.935916  \n",
       "new_cases_per_million                   1.935916  \n",
       "total_deaths_per_million                1.935916  \n",
       "life_expectancy                         1.835436  \n",
       "new_cases                               1.793011  \n",
       "new_deaths                              1.793011  \n",
       "total_deaths                            1.346433  \n",
       "total_cases                             1.346433  \n",
       "continent                               1.178966  \n",
       "population                              0.589483  \n",
       "iso_code                                0.589483  \n",
       "date                                    0.000000  \n",
       "location                                0.000000  "
      ]
     },
     "execution_count": 128,
     "metadata": {},
     "output_type": "execute_result"
    }
   ],
   "source": [
    "percent_missing = df.isnull().sum() * 100 / len(df)\n",
    "missing_value_df = pd.DataFrame({'column_name': df.columns,\n",
    "                                 'percent_missing': percent_missing})\n",
    "\n",
    "missing_value_df.sort_values('percent_missing', inplace=True, ascending=False)\n",
    "missing_value_df"
   ]
  },
  {
   "cell_type": "code",
   "execution_count": 129,
   "metadata": {
    "ExecuteTime": {
     "end_time": "2020-09-19T14:11:02.878269Z",
     "start_time": "2020-09-19T14:11:02.872146Z"
    }
   },
   "outputs": [
    {
     "data": {
      "text/plain": [
       "10"
      ]
     },
     "execution_count": 129,
     "metadata": {},
     "output_type": "execute_result"
    },
    {
     "data": {
      "text/plain": [
       "['new_tests',\n",
       " 'new_tests_per_thousand',\n",
       " 'total_tests_per_thousand',\n",
       " 'total_tests',\n",
       " 'tests_per_case',\n",
       " 'positive_rate',\n",
       " 'new_tests_smoothed',\n",
       " 'new_tests_smoothed_per_thousand',\n",
       " 'tests_units',\n",
       " 'handwashing_facilities']"
      ]
     },
     "execution_count": 129,
     "metadata": {},
     "output_type": "execute_result"
    }
   ],
   "source": [
    "cols_too_many_missing = missing_value_df[missing_value_df.percent_missing > 50].index.tolist()\n",
    "len(cols_too_many_missing)\n",
    "cols_too_many_missing"
   ]
  },
  {
   "cell_type": "code",
   "execution_count": 130,
   "metadata": {
    "ExecuteTime": {
     "end_time": "2020-09-19T14:11:02.883344Z",
     "start_time": "2020-09-19T14:11:02.879974Z"
    }
   },
   "outputs": [
    {
     "data": {
      "text/plain": [
       "41"
      ]
     },
     "execution_count": 130,
     "metadata": {},
     "output_type": "execute_result"
    }
   ],
   "source": [
    "len(df.columns)"
   ]
  },
  {
   "cell_type": "code",
   "execution_count": 131,
   "metadata": {
    "ExecuteTime": {
     "end_time": "2020-09-19T14:11:02.890621Z",
     "start_time": "2020-09-19T14:11:02.885162Z"
    }
   },
   "outputs": [],
   "source": [
    "df_reduced = df.drop(columns=cols_too_many_missing)"
   ]
  },
  {
   "cell_type": "code",
   "execution_count": 132,
   "metadata": {
    "ExecuteTime": {
     "end_time": "2020-09-19T14:11:02.896038Z",
     "start_time": "2020-09-19T14:11:02.892373Z"
    }
   },
   "outputs": [
    {
     "data": {
      "text/plain": [
       "31"
      ]
     },
     "execution_count": 132,
     "metadata": {},
     "output_type": "execute_result"
    }
   ],
   "source": [
    "len(df_reduced.columns)"
   ]
  },
  {
   "cell_type": "code",
   "execution_count": 133,
   "metadata": {
    "ExecuteTime": {
     "end_time": "2020-09-19T14:11:02.931183Z",
     "start_time": "2020-09-19T14:11:02.899373Z"
    }
   },
   "outputs": [
    {
     "data": {
      "text/html": [
       "<div>\n",
       "<style scoped>\n",
       "    .dataframe tbody tr th:only-of-type {\n",
       "        vertical-align: middle;\n",
       "    }\n",
       "\n",
       "    .dataframe tbody tr th {\n",
       "        vertical-align: top;\n",
       "    }\n",
       "\n",
       "    .dataframe thead th {\n",
       "        text-align: right;\n",
       "    }\n",
       "</style>\n",
       "<table border=\"1\" class=\"dataframe\">\n",
       "  <thead>\n",
       "    <tr style=\"text-align: right;\">\n",
       "      <th></th>\n",
       "      <th>iso_code</th>\n",
       "      <th>continent</th>\n",
       "      <th>location</th>\n",
       "      <th>date</th>\n",
       "      <th>total_cases</th>\n",
       "      <th>new_cases</th>\n",
       "      <th>new_cases_smoothed</th>\n",
       "      <th>total_deaths</th>\n",
       "      <th>new_deaths</th>\n",
       "      <th>new_deaths_smoothed</th>\n",
       "      <th>total_cases_per_million</th>\n",
       "      <th>new_cases_per_million</th>\n",
       "      <th>new_cases_smoothed_per_million</th>\n",
       "      <th>total_deaths_per_million</th>\n",
       "      <th>new_deaths_per_million</th>\n",
       "      <th>new_deaths_smoothed_per_million</th>\n",
       "      <th>stringency_index</th>\n",
       "      <th>population</th>\n",
       "      <th>population_density</th>\n",
       "      <th>median_age</th>\n",
       "      <th>aged_65_older</th>\n",
       "      <th>aged_70_older</th>\n",
       "      <th>gdp_per_capita</th>\n",
       "      <th>extreme_poverty</th>\n",
       "      <th>cardiovasc_death_rate</th>\n",
       "      <th>diabetes_prevalence</th>\n",
       "      <th>female_smokers</th>\n",
       "      <th>male_smokers</th>\n",
       "      <th>hospital_beds_per_thousand</th>\n",
       "      <th>life_expectancy</th>\n",
       "      <th>human_development_index</th>\n",
       "    </tr>\n",
       "  </thead>\n",
       "  <tbody>\n",
       "    <tr>\n",
       "      <th>0</th>\n",
       "      <td>AFG</td>\n",
       "      <td>Asia</td>\n",
       "      <td>Afghanistan</td>\n",
       "      <td>2019-12-31</td>\n",
       "      <td>0.0</td>\n",
       "      <td>0.0</td>\n",
       "      <td>NaN</td>\n",
       "      <td>0.0</td>\n",
       "      <td>0.0</td>\n",
       "      <td>NaN</td>\n",
       "      <td>0.0</td>\n",
       "      <td>0.0</td>\n",
       "      <td>NaN</td>\n",
       "      <td>0.0</td>\n",
       "      <td>0.0</td>\n",
       "      <td>NaN</td>\n",
       "      <td>NaN</td>\n",
       "      <td>38928341.0</td>\n",
       "      <td>54.422</td>\n",
       "      <td>18.6</td>\n",
       "      <td>2.581</td>\n",
       "      <td>1.337</td>\n",
       "      <td>1803.987</td>\n",
       "      <td>NaN</td>\n",
       "      <td>597.029</td>\n",
       "      <td>9.59</td>\n",
       "      <td>NaN</td>\n",
       "      <td>NaN</td>\n",
       "      <td>0.5</td>\n",
       "      <td>64.83</td>\n",
       "      <td>0.498</td>\n",
       "    </tr>\n",
       "    <tr>\n",
       "      <th>1</th>\n",
       "      <td>AFG</td>\n",
       "      <td>Asia</td>\n",
       "      <td>Afghanistan</td>\n",
       "      <td>2020-01-01</td>\n",
       "      <td>0.0</td>\n",
       "      <td>0.0</td>\n",
       "      <td>NaN</td>\n",
       "      <td>0.0</td>\n",
       "      <td>0.0</td>\n",
       "      <td>NaN</td>\n",
       "      <td>0.0</td>\n",
       "      <td>0.0</td>\n",
       "      <td>NaN</td>\n",
       "      <td>0.0</td>\n",
       "      <td>0.0</td>\n",
       "      <td>NaN</td>\n",
       "      <td>0.0</td>\n",
       "      <td>38928341.0</td>\n",
       "      <td>54.422</td>\n",
       "      <td>18.6</td>\n",
       "      <td>2.581</td>\n",
       "      <td>1.337</td>\n",
       "      <td>1803.987</td>\n",
       "      <td>NaN</td>\n",
       "      <td>597.029</td>\n",
       "      <td>9.59</td>\n",
       "      <td>NaN</td>\n",
       "      <td>NaN</td>\n",
       "      <td>0.5</td>\n",
       "      <td>64.83</td>\n",
       "      <td>0.498</td>\n",
       "    </tr>\n",
       "    <tr>\n",
       "      <th>2</th>\n",
       "      <td>AFG</td>\n",
       "      <td>Asia</td>\n",
       "      <td>Afghanistan</td>\n",
       "      <td>2020-01-02</td>\n",
       "      <td>0.0</td>\n",
       "      <td>0.0</td>\n",
       "      <td>NaN</td>\n",
       "      <td>0.0</td>\n",
       "      <td>0.0</td>\n",
       "      <td>NaN</td>\n",
       "      <td>0.0</td>\n",
       "      <td>0.0</td>\n",
       "      <td>NaN</td>\n",
       "      <td>0.0</td>\n",
       "      <td>0.0</td>\n",
       "      <td>NaN</td>\n",
       "      <td>0.0</td>\n",
       "      <td>38928341.0</td>\n",
       "      <td>54.422</td>\n",
       "      <td>18.6</td>\n",
       "      <td>2.581</td>\n",
       "      <td>1.337</td>\n",
       "      <td>1803.987</td>\n",
       "      <td>NaN</td>\n",
       "      <td>597.029</td>\n",
       "      <td>9.59</td>\n",
       "      <td>NaN</td>\n",
       "      <td>NaN</td>\n",
       "      <td>0.5</td>\n",
       "      <td>64.83</td>\n",
       "      <td>0.498</td>\n",
       "    </tr>\n",
       "    <tr>\n",
       "      <th>3</th>\n",
       "      <td>AFG</td>\n",
       "      <td>Asia</td>\n",
       "      <td>Afghanistan</td>\n",
       "      <td>2020-01-03</td>\n",
       "      <td>0.0</td>\n",
       "      <td>0.0</td>\n",
       "      <td>NaN</td>\n",
       "      <td>0.0</td>\n",
       "      <td>0.0</td>\n",
       "      <td>NaN</td>\n",
       "      <td>0.0</td>\n",
       "      <td>0.0</td>\n",
       "      <td>NaN</td>\n",
       "      <td>0.0</td>\n",
       "      <td>0.0</td>\n",
       "      <td>NaN</td>\n",
       "      <td>0.0</td>\n",
       "      <td>38928341.0</td>\n",
       "      <td>54.422</td>\n",
       "      <td>18.6</td>\n",
       "      <td>2.581</td>\n",
       "      <td>1.337</td>\n",
       "      <td>1803.987</td>\n",
       "      <td>NaN</td>\n",
       "      <td>597.029</td>\n",
       "      <td>9.59</td>\n",
       "      <td>NaN</td>\n",
       "      <td>NaN</td>\n",
       "      <td>0.5</td>\n",
       "      <td>64.83</td>\n",
       "      <td>0.498</td>\n",
       "    </tr>\n",
       "    <tr>\n",
       "      <th>4</th>\n",
       "      <td>AFG</td>\n",
       "      <td>Asia</td>\n",
       "      <td>Afghanistan</td>\n",
       "      <td>2020-01-04</td>\n",
       "      <td>0.0</td>\n",
       "      <td>0.0</td>\n",
       "      <td>NaN</td>\n",
       "      <td>0.0</td>\n",
       "      <td>0.0</td>\n",
       "      <td>NaN</td>\n",
       "      <td>0.0</td>\n",
       "      <td>0.0</td>\n",
       "      <td>NaN</td>\n",
       "      <td>0.0</td>\n",
       "      <td>0.0</td>\n",
       "      <td>NaN</td>\n",
       "      <td>0.0</td>\n",
       "      <td>38928341.0</td>\n",
       "      <td>54.422</td>\n",
       "      <td>18.6</td>\n",
       "      <td>2.581</td>\n",
       "      <td>1.337</td>\n",
       "      <td>1803.987</td>\n",
       "      <td>NaN</td>\n",
       "      <td>597.029</td>\n",
       "      <td>9.59</td>\n",
       "      <td>NaN</td>\n",
       "      <td>NaN</td>\n",
       "      <td>0.5</td>\n",
       "      <td>64.83</td>\n",
       "      <td>0.498</td>\n",
       "    </tr>\n",
       "    <tr>\n",
       "      <th>...</th>\n",
       "      <td>...</td>\n",
       "      <td>...</td>\n",
       "      <td>...</td>\n",
       "      <td>...</td>\n",
       "      <td>...</td>\n",
       "      <td>...</td>\n",
       "      <td>...</td>\n",
       "      <td>...</td>\n",
       "      <td>...</td>\n",
       "      <td>...</td>\n",
       "      <td>...</td>\n",
       "      <td>...</td>\n",
       "      <td>...</td>\n",
       "      <td>...</td>\n",
       "      <td>...</td>\n",
       "      <td>...</td>\n",
       "      <td>...</td>\n",
       "      <td>...</td>\n",
       "      <td>...</td>\n",
       "      <td>...</td>\n",
       "      <td>...</td>\n",
       "      <td>...</td>\n",
       "      <td>...</td>\n",
       "      <td>...</td>\n",
       "      <td>...</td>\n",
       "      <td>...</td>\n",
       "      <td>...</td>\n",
       "      <td>...</td>\n",
       "      <td>...</td>\n",
       "      <td>...</td>\n",
       "      <td>...</td>\n",
       "    </tr>\n",
       "    <tr>\n",
       "      <th>44780</th>\n",
       "      <td>NaN</td>\n",
       "      <td>NaN</td>\n",
       "      <td>International</td>\n",
       "      <td>2020-09-15</td>\n",
       "      <td>696.0</td>\n",
       "      <td>NaN</td>\n",
       "      <td>NaN</td>\n",
       "      <td>7.0</td>\n",
       "      <td>NaN</td>\n",
       "      <td>NaN</td>\n",
       "      <td>NaN</td>\n",
       "      <td>NaN</td>\n",
       "      <td>NaN</td>\n",
       "      <td>NaN</td>\n",
       "      <td>NaN</td>\n",
       "      <td>NaN</td>\n",
       "      <td>NaN</td>\n",
       "      <td>NaN</td>\n",
       "      <td>NaN</td>\n",
       "      <td>NaN</td>\n",
       "      <td>NaN</td>\n",
       "      <td>NaN</td>\n",
       "      <td>NaN</td>\n",
       "      <td>NaN</td>\n",
       "      <td>NaN</td>\n",
       "      <td>NaN</td>\n",
       "      <td>NaN</td>\n",
       "      <td>NaN</td>\n",
       "      <td>NaN</td>\n",
       "      <td>NaN</td>\n",
       "      <td>NaN</td>\n",
       "    </tr>\n",
       "    <tr>\n",
       "      <th>44781</th>\n",
       "      <td>NaN</td>\n",
       "      <td>NaN</td>\n",
       "      <td>International</td>\n",
       "      <td>2020-09-16</td>\n",
       "      <td>696.0</td>\n",
       "      <td>NaN</td>\n",
       "      <td>NaN</td>\n",
       "      <td>7.0</td>\n",
       "      <td>NaN</td>\n",
       "      <td>NaN</td>\n",
       "      <td>NaN</td>\n",
       "      <td>NaN</td>\n",
       "      <td>NaN</td>\n",
       "      <td>NaN</td>\n",
       "      <td>NaN</td>\n",
       "      <td>NaN</td>\n",
       "      <td>NaN</td>\n",
       "      <td>NaN</td>\n",
       "      <td>NaN</td>\n",
       "      <td>NaN</td>\n",
       "      <td>NaN</td>\n",
       "      <td>NaN</td>\n",
       "      <td>NaN</td>\n",
       "      <td>NaN</td>\n",
       "      <td>NaN</td>\n",
       "      <td>NaN</td>\n",
       "      <td>NaN</td>\n",
       "      <td>NaN</td>\n",
       "      <td>NaN</td>\n",
       "      <td>NaN</td>\n",
       "      <td>NaN</td>\n",
       "    </tr>\n",
       "    <tr>\n",
       "      <th>44782</th>\n",
       "      <td>NaN</td>\n",
       "      <td>NaN</td>\n",
       "      <td>International</td>\n",
       "      <td>2020-09-17</td>\n",
       "      <td>696.0</td>\n",
       "      <td>NaN</td>\n",
       "      <td>NaN</td>\n",
       "      <td>7.0</td>\n",
       "      <td>NaN</td>\n",
       "      <td>NaN</td>\n",
       "      <td>NaN</td>\n",
       "      <td>NaN</td>\n",
       "      <td>NaN</td>\n",
       "      <td>NaN</td>\n",
       "      <td>NaN</td>\n",
       "      <td>NaN</td>\n",
       "      <td>NaN</td>\n",
       "      <td>NaN</td>\n",
       "      <td>NaN</td>\n",
       "      <td>NaN</td>\n",
       "      <td>NaN</td>\n",
       "      <td>NaN</td>\n",
       "      <td>NaN</td>\n",
       "      <td>NaN</td>\n",
       "      <td>NaN</td>\n",
       "      <td>NaN</td>\n",
       "      <td>NaN</td>\n",
       "      <td>NaN</td>\n",
       "      <td>NaN</td>\n",
       "      <td>NaN</td>\n",
       "      <td>NaN</td>\n",
       "    </tr>\n",
       "    <tr>\n",
       "      <th>44783</th>\n",
       "      <td>NaN</td>\n",
       "      <td>NaN</td>\n",
       "      <td>International</td>\n",
       "      <td>2020-09-18</td>\n",
       "      <td>696.0</td>\n",
       "      <td>NaN</td>\n",
       "      <td>NaN</td>\n",
       "      <td>7.0</td>\n",
       "      <td>NaN</td>\n",
       "      <td>NaN</td>\n",
       "      <td>NaN</td>\n",
       "      <td>NaN</td>\n",
       "      <td>NaN</td>\n",
       "      <td>NaN</td>\n",
       "      <td>NaN</td>\n",
       "      <td>NaN</td>\n",
       "      <td>NaN</td>\n",
       "      <td>NaN</td>\n",
       "      <td>NaN</td>\n",
       "      <td>NaN</td>\n",
       "      <td>NaN</td>\n",
       "      <td>NaN</td>\n",
       "      <td>NaN</td>\n",
       "      <td>NaN</td>\n",
       "      <td>NaN</td>\n",
       "      <td>NaN</td>\n",
       "      <td>NaN</td>\n",
       "      <td>NaN</td>\n",
       "      <td>NaN</td>\n",
       "      <td>NaN</td>\n",
       "      <td>NaN</td>\n",
       "    </tr>\n",
       "    <tr>\n",
       "      <th>44784</th>\n",
       "      <td>NaN</td>\n",
       "      <td>NaN</td>\n",
       "      <td>International</td>\n",
       "      <td>2020-09-19</td>\n",
       "      <td>696.0</td>\n",
       "      <td>NaN</td>\n",
       "      <td>NaN</td>\n",
       "      <td>7.0</td>\n",
       "      <td>NaN</td>\n",
       "      <td>NaN</td>\n",
       "      <td>NaN</td>\n",
       "      <td>NaN</td>\n",
       "      <td>NaN</td>\n",
       "      <td>NaN</td>\n",
       "      <td>NaN</td>\n",
       "      <td>NaN</td>\n",
       "      <td>NaN</td>\n",
       "      <td>NaN</td>\n",
       "      <td>NaN</td>\n",
       "      <td>NaN</td>\n",
       "      <td>NaN</td>\n",
       "      <td>NaN</td>\n",
       "      <td>NaN</td>\n",
       "      <td>NaN</td>\n",
       "      <td>NaN</td>\n",
       "      <td>NaN</td>\n",
       "      <td>NaN</td>\n",
       "      <td>NaN</td>\n",
       "      <td>NaN</td>\n",
       "      <td>NaN</td>\n",
       "      <td>NaN</td>\n",
       "    </tr>\n",
       "  </tbody>\n",
       "</table>\n",
       "<p>44785 rows × 31 columns</p>\n",
       "</div>"
      ],
      "text/plain": [
       "      iso_code continent       location        date  total_cases  new_cases  \\\n",
       "0          AFG      Asia    Afghanistan  2019-12-31          0.0        0.0   \n",
       "1          AFG      Asia    Afghanistan  2020-01-01          0.0        0.0   \n",
       "2          AFG      Asia    Afghanistan  2020-01-02          0.0        0.0   \n",
       "3          AFG      Asia    Afghanistan  2020-01-03          0.0        0.0   \n",
       "4          AFG      Asia    Afghanistan  2020-01-04          0.0        0.0   \n",
       "...        ...       ...            ...         ...          ...        ...   \n",
       "44780      NaN       NaN  International  2020-09-15        696.0        NaN   \n",
       "44781      NaN       NaN  International  2020-09-16        696.0        NaN   \n",
       "44782      NaN       NaN  International  2020-09-17        696.0        NaN   \n",
       "44783      NaN       NaN  International  2020-09-18        696.0        NaN   \n",
       "44784      NaN       NaN  International  2020-09-19        696.0        NaN   \n",
       "\n",
       "       new_cases_smoothed  total_deaths  new_deaths  new_deaths_smoothed  \\\n",
       "0                     NaN           0.0         0.0                  NaN   \n",
       "1                     NaN           0.0         0.0                  NaN   \n",
       "2                     NaN           0.0         0.0                  NaN   \n",
       "3                     NaN           0.0         0.0                  NaN   \n",
       "4                     NaN           0.0         0.0                  NaN   \n",
       "...                   ...           ...         ...                  ...   \n",
       "44780                 NaN           7.0         NaN                  NaN   \n",
       "44781                 NaN           7.0         NaN                  NaN   \n",
       "44782                 NaN           7.0         NaN                  NaN   \n",
       "44783                 NaN           7.0         NaN                  NaN   \n",
       "44784                 NaN           7.0         NaN                  NaN   \n",
       "\n",
       "       total_cases_per_million  new_cases_per_million  \\\n",
       "0                          0.0                    0.0   \n",
       "1                          0.0                    0.0   \n",
       "2                          0.0                    0.0   \n",
       "3                          0.0                    0.0   \n",
       "4                          0.0                    0.0   \n",
       "...                        ...                    ...   \n",
       "44780                      NaN                    NaN   \n",
       "44781                      NaN                    NaN   \n",
       "44782                      NaN                    NaN   \n",
       "44783                      NaN                    NaN   \n",
       "44784                      NaN                    NaN   \n",
       "\n",
       "       new_cases_smoothed_per_million  total_deaths_per_million  \\\n",
       "0                                 NaN                       0.0   \n",
       "1                                 NaN                       0.0   \n",
       "2                                 NaN                       0.0   \n",
       "3                                 NaN                       0.0   \n",
       "4                                 NaN                       0.0   \n",
       "...                               ...                       ...   \n",
       "44780                             NaN                       NaN   \n",
       "44781                             NaN                       NaN   \n",
       "44782                             NaN                       NaN   \n",
       "44783                             NaN                       NaN   \n",
       "44784                             NaN                       NaN   \n",
       "\n",
       "       new_deaths_per_million  new_deaths_smoothed_per_million  \\\n",
       "0                         0.0                              NaN   \n",
       "1                         0.0                              NaN   \n",
       "2                         0.0                              NaN   \n",
       "3                         0.0                              NaN   \n",
       "4                         0.0                              NaN   \n",
       "...                       ...                              ...   \n",
       "44780                     NaN                              NaN   \n",
       "44781                     NaN                              NaN   \n",
       "44782                     NaN                              NaN   \n",
       "44783                     NaN                              NaN   \n",
       "44784                     NaN                              NaN   \n",
       "\n",
       "       stringency_index  population  population_density  median_age  \\\n",
       "0                   NaN  38928341.0              54.422        18.6   \n",
       "1                   0.0  38928341.0              54.422        18.6   \n",
       "2                   0.0  38928341.0              54.422        18.6   \n",
       "3                   0.0  38928341.0              54.422        18.6   \n",
       "4                   0.0  38928341.0              54.422        18.6   \n",
       "...                 ...         ...                 ...         ...   \n",
       "44780               NaN         NaN                 NaN         NaN   \n",
       "44781               NaN         NaN                 NaN         NaN   \n",
       "44782               NaN         NaN                 NaN         NaN   \n",
       "44783               NaN         NaN                 NaN         NaN   \n",
       "44784               NaN         NaN                 NaN         NaN   \n",
       "\n",
       "       aged_65_older  aged_70_older  gdp_per_capita  extreme_poverty  \\\n",
       "0              2.581          1.337        1803.987              NaN   \n",
       "1              2.581          1.337        1803.987              NaN   \n",
       "2              2.581          1.337        1803.987              NaN   \n",
       "3              2.581          1.337        1803.987              NaN   \n",
       "4              2.581          1.337        1803.987              NaN   \n",
       "...              ...            ...             ...              ...   \n",
       "44780            NaN            NaN             NaN              NaN   \n",
       "44781            NaN            NaN             NaN              NaN   \n",
       "44782            NaN            NaN             NaN              NaN   \n",
       "44783            NaN            NaN             NaN              NaN   \n",
       "44784            NaN            NaN             NaN              NaN   \n",
       "\n",
       "       cardiovasc_death_rate  diabetes_prevalence  female_smokers  \\\n",
       "0                    597.029                 9.59             NaN   \n",
       "1                    597.029                 9.59             NaN   \n",
       "2                    597.029                 9.59             NaN   \n",
       "3                    597.029                 9.59             NaN   \n",
       "4                    597.029                 9.59             NaN   \n",
       "...                      ...                  ...             ...   \n",
       "44780                    NaN                  NaN             NaN   \n",
       "44781                    NaN                  NaN             NaN   \n",
       "44782                    NaN                  NaN             NaN   \n",
       "44783                    NaN                  NaN             NaN   \n",
       "44784                    NaN                  NaN             NaN   \n",
       "\n",
       "       male_smokers  hospital_beds_per_thousand  life_expectancy  \\\n",
       "0               NaN                         0.5            64.83   \n",
       "1               NaN                         0.5            64.83   \n",
       "2               NaN                         0.5            64.83   \n",
       "3               NaN                         0.5            64.83   \n",
       "4               NaN                         0.5            64.83   \n",
       "...             ...                         ...              ...   \n",
       "44780           NaN                         NaN              NaN   \n",
       "44781           NaN                         NaN              NaN   \n",
       "44782           NaN                         NaN              NaN   \n",
       "44783           NaN                         NaN              NaN   \n",
       "44784           NaN                         NaN              NaN   \n",
       "\n",
       "       human_development_index  \n",
       "0                        0.498  \n",
       "1                        0.498  \n",
       "2                        0.498  \n",
       "3                        0.498  \n",
       "4                        0.498  \n",
       "...                        ...  \n",
       "44780                      NaN  \n",
       "44781                      NaN  \n",
       "44782                      NaN  \n",
       "44783                      NaN  \n",
       "44784                      NaN  \n",
       "\n",
       "[44785 rows x 31 columns]"
      ]
     },
     "execution_count": 133,
     "metadata": {},
     "output_type": "execute_result"
    }
   ],
   "source": [
    "df_reduced"
   ]
  },
  {
   "cell_type": "code",
   "execution_count": 134,
   "metadata": {
    "ExecuteTime": {
     "end_time": "2020-09-19T14:11:02.940846Z",
     "start_time": "2020-09-19T14:11:02.935180Z"
    }
   },
   "outputs": [],
   "source": [
    "df = df_reduced"
   ]
  },
  {
   "cell_type": "code",
   "execution_count": 135,
   "metadata": {
    "ExecuteTime": {
     "end_time": "2020-09-19T14:11:02.969931Z",
     "start_time": "2020-09-19T14:11:02.944501Z"
    }
   },
   "outputs": [
    {
     "name": "stdout",
     "output_type": "stream",
     "text": [
      "<class 'pandas.core.frame.DataFrame'>\n",
      "RangeIndex: 44785 entries, 0 to 44784\n",
      "Data columns (total 31 columns):\n",
      " #   Column                           Non-Null Count  Dtype  \n",
      "---  ------                           --------------  -----  \n",
      " 0   iso_code                         44521 non-null  object \n",
      " 1   continent                        44257 non-null  object \n",
      " 2   location                         44785 non-null  object \n",
      " 3   date                             44785 non-null  object \n",
      " 4   total_cases                      44182 non-null  float64\n",
      " 5   new_cases                        43982 non-null  float64\n",
      " 6   new_cases_smoothed               43200 non-null  float64\n",
      " 7   total_deaths                     44182 non-null  float64\n",
      " 8   new_deaths                       43982 non-null  float64\n",
      " 9   new_deaths_smoothed              43200 non-null  float64\n",
      " 10  total_cases_per_million          43918 non-null  float64\n",
      " 11  new_cases_per_million            43918 non-null  float64\n",
      " 12  new_cases_smoothed_per_million   43135 non-null  float64\n",
      " 13  total_deaths_per_million         43918 non-null  float64\n",
      " 14  new_deaths_per_million           43918 non-null  float64\n",
      " 15  new_deaths_smoothed_per_million  43135 non-null  float64\n",
      " 16  stringency_index                 37057 non-null  float64\n",
      " 17  population                       44521 non-null  float64\n",
      " 18  population_density               42502 non-null  float64\n",
      " 19  median_age                       39952 non-null  float64\n",
      " 20  aged_65_older                    39360 non-null  float64\n",
      " 21  aged_70_older                    39745 non-null  float64\n",
      " 22  gdp_per_capita                   39442 non-null  float64\n",
      " 23  extreme_poverty                  26322 non-null  float64\n",
      " 24  cardiovasc_death_rate            39967 non-null  float64\n",
      " 25  diabetes_prevalence              41366 non-null  float64\n",
      " 26  female_smokers                   31358 non-null  float64\n",
      " 27  male_smokers                     30963 non-null  float64\n",
      " 28  hospital_beds_per_thousand       36139 non-null  float64\n",
      " 29  life_expectancy                  43963 non-null  float64\n",
      " 30  human_development_index          38558 non-null  float64\n",
      "dtypes: float64(27), object(4)\n",
      "memory usage: 10.6+ MB\n"
     ]
    }
   ],
   "source": [
    "df.info()"
   ]
  },
  {
   "cell_type": "code",
   "execution_count": 136,
   "metadata": {
    "ExecuteTime": {
     "end_time": "2020-09-19T14:11:02.983535Z",
     "start_time": "2020-09-19T14:11:02.972929Z"
    }
   },
   "outputs": [],
   "source": [
    "missing_iso_code = df[df.iso_code.isna()]\n",
    "df = df.drop(index=missing_iso_code.index)"
   ]
  },
  {
   "cell_type": "code",
   "execution_count": 148,
   "metadata": {
    "ExecuteTime": {
     "end_time": "2020-09-19T14:13:27.218700Z",
     "start_time": "2020-09-19T14:13:27.203624Z"
    }
   },
   "outputs": [],
   "source": [
    "missing_continent = df[df.continent.isna()]\n",
    "df = df.drop(index=missing_continent.index)"
   ]
  },
  {
   "cell_type": "code",
   "execution_count": 149,
   "metadata": {
    "ExecuteTime": {
     "end_time": "2020-09-19T14:13:29.411899Z",
     "start_time": "2020-09-19T14:13:29.339808Z"
    },
    "collapsed": true
   },
   "outputs": [
    {
     "data": {
      "text/plain": [
       "('iso_code', 0)"
      ]
     },
     "execution_count": 149,
     "metadata": {},
     "output_type": "execute_result"
    },
    {
     "data": {
      "text/plain": [
       "('continent', 0)"
      ]
     },
     "execution_count": 149,
     "metadata": {},
     "output_type": "execute_result"
    },
    {
     "data": {
      "text/plain": [
       "('location', 0)"
      ]
     },
     "execution_count": 149,
     "metadata": {},
     "output_type": "execute_result"
    },
    {
     "data": {
      "text/plain": [
       "('date', 0)"
      ]
     },
     "execution_count": 149,
     "metadata": {},
     "output_type": "execute_result"
    },
    {
     "data": {
      "text/plain": [
       "('total_cases', 603)"
      ]
     },
     "execution_count": 149,
     "metadata": {},
     "output_type": "execute_result"
    },
    {
     "data": {
      "text/plain": [
       "('new_cases', 603)"
      ]
     },
     "execution_count": 149,
     "metadata": {},
     "output_type": "execute_result"
    },
    {
     "data": {
      "text/plain": [
       "('new_cases_smoothed', 1380)"
      ]
     },
     "execution_count": 149,
     "metadata": {},
     "output_type": "execute_result"
    },
    {
     "data": {
      "text/plain": [
       "('total_deaths', 603)"
      ]
     },
     "execution_count": 149,
     "metadata": {},
     "output_type": "execute_result"
    },
    {
     "data": {
      "text/plain": [
       "('new_deaths', 603)"
      ]
     },
     "execution_count": 149,
     "metadata": {},
     "output_type": "execute_result"
    },
    {
     "data": {
      "text/plain": [
       "('new_deaths_smoothed', 1380)"
      ]
     },
     "execution_count": 149,
     "metadata": {},
     "output_type": "execute_result"
    },
    {
     "data": {
      "text/plain": [
       "('total_cases_per_million', 603)"
      ]
     },
     "execution_count": 149,
     "metadata": {},
     "output_type": "execute_result"
    },
    {
     "data": {
      "text/plain": [
       "('new_cases_per_million', 603)"
      ]
     },
     "execution_count": 149,
     "metadata": {},
     "output_type": "execute_result"
    },
    {
     "data": {
      "text/plain": [
       "('new_cases_smoothed_per_million', 1380)"
      ]
     },
     "execution_count": 149,
     "metadata": {},
     "output_type": "execute_result"
    },
    {
     "data": {
      "text/plain": [
       "('total_deaths_per_million', 603)"
      ]
     },
     "execution_count": 149,
     "metadata": {},
     "output_type": "execute_result"
    },
    {
     "data": {
      "text/plain": [
       "('new_deaths_per_million', 603)"
      ]
     },
     "execution_count": 149,
     "metadata": {},
     "output_type": "execute_result"
    },
    {
     "data": {
      "text/plain": [
       "('new_deaths_smoothed_per_million', 1380)"
      ]
     },
     "execution_count": 149,
     "metadata": {},
     "output_type": "execute_result"
    },
    {
     "data": {
      "text/plain": [
       "('new_tests', 28610)"
      ]
     },
     "execution_count": 149,
     "metadata": {},
     "output_type": "execute_result"
    },
    {
     "data": {
      "text/plain": [
       "('total_tests', 28235)"
      ]
     },
     "execution_count": 149,
     "metadata": {},
     "output_type": "execute_result"
    },
    {
     "data": {
      "text/plain": [
       "('total_tests_per_thousand', 28235)"
      ]
     },
     "execution_count": 149,
     "metadata": {},
     "output_type": "execute_result"
    },
    {
     "data": {
      "text/plain": [
       "('new_tests_per_thousand', 28610)"
      ]
     },
     "execution_count": 149,
     "metadata": {},
     "output_type": "execute_result"
    },
    {
     "data": {
      "text/plain": [
       "('new_tests_smoothed', 26689)"
      ]
     },
     "execution_count": 149,
     "metadata": {},
     "output_type": "execute_result"
    },
    {
     "data": {
      "text/plain": [
       "('new_tests_smoothed_per_thousand', 26689)"
      ]
     },
     "execution_count": 149,
     "metadata": {},
     "output_type": "execute_result"
    },
    {
     "data": {
      "text/plain": [
       "('tests_per_case', 28108)"
      ]
     },
     "execution_count": 149,
     "metadata": {},
     "output_type": "execute_result"
    },
    {
     "data": {
      "text/plain": [
       "('positive_rate', 27724)"
      ]
     },
     "execution_count": 149,
     "metadata": {},
     "output_type": "execute_result"
    },
    {
     "data": {
      "text/plain": [
       "('tests_units', 25883)"
      ]
     },
     "execution_count": 149,
     "metadata": {},
     "output_type": "execute_result"
    },
    {
     "data": {
      "text/plain": [
       "('stringency_index', 7200)"
      ]
     },
     "execution_count": 149,
     "metadata": {},
     "output_type": "execute_result"
    },
    {
     "data": {
      "text/plain": [
       "('population', 0)"
      ]
     },
     "execution_count": 149,
     "metadata": {},
     "output_type": "execute_result"
    },
    {
     "data": {
      "text/plain": [
       "('population_density', 2019)"
      ]
     },
     "execution_count": 149,
     "metadata": {},
     "output_type": "execute_result"
    },
    {
     "data": {
      "text/plain": [
       "('median_age', 4569)"
      ]
     },
     "execution_count": 149,
     "metadata": {},
     "output_type": "execute_result"
    },
    {
     "data": {
      "text/plain": [
       "('aged_65_older', 5161)"
      ]
     },
     "execution_count": 149,
     "metadata": {},
     "output_type": "execute_result"
    },
    {
     "data": {
      "text/plain": [
       "('aged_70_older', 4776)"
      ]
     },
     "execution_count": 149,
     "metadata": {},
     "output_type": "execute_result"
    },
    {
     "data": {
      "text/plain": [
       "('gdp_per_capita', 5079)"
      ]
     },
     "execution_count": 149,
     "metadata": {},
     "output_type": "execute_result"
    },
    {
     "data": {
      "text/plain": [
       "('extreme_poverty', 18199)"
      ]
     },
     "execution_count": 149,
     "metadata": {},
     "output_type": "execute_result"
    },
    {
     "data": {
      "text/plain": [
       "('cardiovasc_death_rate', 4554)"
      ]
     },
     "execution_count": 149,
     "metadata": {},
     "output_type": "execute_result"
    },
    {
     "data": {
      "text/plain": [
       "('diabetes_prevalence', 3155)"
      ]
     },
     "execution_count": 149,
     "metadata": {},
     "output_type": "execute_result"
    },
    {
     "data": {
      "text/plain": [
       "('female_smokers', 13163)"
      ]
     },
     "execution_count": 149,
     "metadata": {},
     "output_type": "execute_result"
    },
    {
     "data": {
      "text/plain": [
       "('male_smokers', 13558)"
      ]
     },
     "execution_count": 149,
     "metadata": {},
     "output_type": "execute_result"
    },
    {
     "data": {
      "text/plain": [
       "('handwashing_facilities', 25863)"
      ]
     },
     "execution_count": 149,
     "metadata": {},
     "output_type": "execute_result"
    },
    {
     "data": {
      "text/plain": [
       "('hospital_beds_per_thousand', 8382)"
      ]
     },
     "execution_count": 149,
     "metadata": {},
     "output_type": "execute_result"
    },
    {
     "data": {
      "text/plain": [
       "('life_expectancy', 558)"
      ]
     },
     "execution_count": 149,
     "metadata": {},
     "output_type": "execute_result"
    },
    {
     "data": {
      "text/plain": [
       "('human_development_index', 5699)"
      ]
     },
     "execution_count": 149,
     "metadata": {},
     "output_type": "execute_result"
    }
   ],
   "source": [
    "for col in df.columns: \n",
    "    col, df[col].isna().sum()"
   ]
  },
  {
   "cell_type": "markdown",
   "metadata": {},
   "source": [
    "Now we have removed the rows and columns that contained too many Nans."
   ]
  },
  {
   "cell_type": "markdown",
   "metadata": {},
   "source": [
    "# Preprocess for ML\n",
    "\n",
    "Now we need to encode the nominal variables and impute nans of the numerical variables."
   ]
  },
  {
   "cell_type": "code",
   "execution_count": 170,
   "metadata": {
    "ExecuteTime": {
     "end_time": "2020-09-19T14:25:41.696138Z",
     "start_time": "2020-09-19T14:25:41.684807Z"
    }
   },
   "outputs": [],
   "source": [
    "from sklearn.preprocessing import LabelEncoder"
   ]
  },
  {
   "cell_type": "markdown",
   "metadata": {},
   "source": [
    "## Encode categorical"
   ]
  },
  {
   "cell_type": "code",
   "execution_count": 159,
   "metadata": {
    "ExecuteTime": {
     "end_time": "2020-09-19T14:20:00.212420Z",
     "start_time": "2020-09-19T14:20:00.203466Z"
    }
   },
   "outputs": [
    {
     "data": {
      "text/plain": [
       "['iso_code', 'continent', 'location', 'date', 'tests_units']"
      ]
     },
     "execution_count": 159,
     "metadata": {},
     "output_type": "execute_result"
    }
   ],
   "source": [
    "nominal = df.select_dtypes(include=['object']).copy()\n",
    "nominal_cols = nominal.columns.tolist()\n",
    "nominal_cols"
   ]
  },
  {
   "cell_type": "code",
   "execution_count": 163,
   "metadata": {
    "ExecuteTime": {
     "end_time": "2020-09-19T14:21:22.232233Z",
     "start_time": "2020-09-19T14:21:22.222827Z"
    }
   },
   "outputs": [
    {
     "data": {
      "text/plain": [
       "NaN                              25883\n",
       "tests performed                   9548\n",
       "people tested                     4504\n",
       "samples tested                    3699\n",
       "units unclear                      435\n",
       "people tested (incl. non-PCR)      188\n",
       "Name: tests_units, dtype: int64"
      ]
     },
     "execution_count": 163,
     "metadata": {},
     "output_type": "execute_result"
    }
   ],
   "source": [
    "df.tests_units.value_counts(dropna=False)"
   ]
  },
  {
   "cell_type": "code",
   "execution_count": 164,
   "metadata": {
    "ExecuteTime": {
     "end_time": "2020-09-19T14:22:37.033459Z",
     "start_time": "2020-09-19T14:22:37.004346Z"
    }
   },
   "outputs": [
    {
     "data": {
      "text/plain": [
       "'iso_code'"
      ]
     },
     "execution_count": 164,
     "metadata": {},
     "output_type": "execute_result"
    },
    {
     "data": {
      "text/plain": [
       "'continent'"
      ]
     },
     "execution_count": 164,
     "metadata": {},
     "output_type": "execute_result"
    },
    {
     "data": {
      "text/plain": [
       "'location'"
      ]
     },
     "execution_count": 164,
     "metadata": {},
     "output_type": "execute_result"
    },
    {
     "data": {
      "text/plain": [
       "'date'"
      ]
     },
     "execution_count": 164,
     "metadata": {},
     "output_type": "execute_result"
    },
    {
     "data": {
      "text/plain": [
       "'tests_units'"
      ]
     },
     "execution_count": 164,
     "metadata": {},
     "output_type": "execute_result"
    }
   ],
   "source": [
    "encoder = LabelEncoder()\n",
    "for col in nominal_cols:\n",
    "    col\n",
    "    if df[col].isna().sum() > 0:\n",
    "        df[col].fillna('MISSING', inplace=True)\n",
    "    df[col] = encoder.fit_transform(df[col])"
   ]
  },
  {
   "cell_type": "code",
   "execution_count": 167,
   "metadata": {
    "ExecuteTime": {
     "end_time": "2020-09-19T14:23:20.166267Z",
     "start_time": "2020-09-19T14:23:20.152395Z"
    }
   },
   "outputs": [
    {
     "data": {
      "text/plain": [
       "array([  1,   4,  55,   5,   2,   3,   9,   7,   8,   0,  10,  11,  12,\n",
       "        21,  20,  18,  28,  23,  14,  24,  15,  25,  30,  26,  16,  22,\n",
       "        31,  27, 203,  29,  19,  17,  13, 105,  38,  33,  43,  47,  32,\n",
       "       185,  35,  36,  41,  42,  40,  44,  37,  86,  45,  46,  48,  49,\n",
       "        39,  53,  51,  52,  54,  56,  57, 170,  77,  58,  61,  62,  67,\n",
       "        65,  64,  63,  66, 160,  68,  75,  70,  50,  72,  73,  78,  80,\n",
       "        79,  82,  81,  71,  74,  76,  83,  87,  85,  84,  88,  95,  91,\n",
       "        89,  93,  94,  92,  90,  96,  97,  98, 101,  99, 100, 102, 103,\n",
       "       149, 108, 104, 109, 119, 110, 116, 111, 112, 114, 117, 118, 126,\n",
       "       123, 137, 138, 124, 127, 128, 134, 136, 125, 122, 121, 131, 130,\n",
       "       135, 120, 133, 129, 139, 146, 144, 140, 147, 143, 141, 142, 132,\n",
       "       145, 148, 150, 159, 151, 154, 158, 152, 153, 155, 157, 156, 161,\n",
       "       162, 163, 164, 106, 113, 201, 171, 175, 165, 167, 173, 182, 169,\n",
       "       168, 181, 177, 178, 172, 207, 107, 174,  60, 115, 166, 176, 180,\n",
       "       179,  34, 183, 193, 188, 194, 187, 189, 186, 190, 191, 192, 184,\n",
       "       195, 196,   6,  69, 198, 204, 197, 199, 200, 202, 205,  59, 206,\n",
       "       208, 209])"
      ]
     },
     "execution_count": 167,
     "metadata": {},
     "output_type": "execute_result"
    },
    {
     "data": {
      "text/plain": [
       "array([1, 2, 0, 3, 5, 4])"
      ]
     },
     "execution_count": 167,
     "metadata": {},
     "output_type": "execute_result"
    },
    {
     "data": {
      "text/plain": [
       "array([  0,   1,   2,   3,   4,   5,   6,   7,   8,   9,  10,  11,  12,\n",
       "        13,  14,  15,  16,  17,  18,  19,  20,  21,  22,  23,  24,  25,\n",
       "        26,  27,  28,  29,  30,  31,  32,  33,  34,  35,  36,  37,  38,\n",
       "        39,  40,  41,  42,  43,  44,  45,  46,  47,  48,  49,  50,  51,\n",
       "        52,  53,  54,  55,  56,  57,  58,  59,  60,  61,  62,  63,  64,\n",
       "        65,  66,  67,  68,  69,  70,  71,  72,  73,  74,  75,  76,  77,\n",
       "        78,  79,  80,  81,  82,  83,  84,  85,  86,  87,  88,  89,  90,\n",
       "        91,  92,  93,  94,  95,  96,  97,  98,  99, 100, 101, 102, 103,\n",
       "       104, 105, 106, 107, 108, 109, 110, 111, 112, 113, 114, 115, 116,\n",
       "       117, 118, 119, 120, 121, 122, 123, 124, 125, 126, 127, 128, 129,\n",
       "       130, 131, 132, 133, 134, 135, 136, 137, 138, 139, 140, 141, 142,\n",
       "       143, 144, 145, 146, 147, 148, 149, 150, 151, 152, 153, 154, 155,\n",
       "       156, 157, 158, 159, 160, 161, 162, 163, 164, 165, 166, 167, 168,\n",
       "       169, 170, 171, 172, 173, 174, 175, 176, 177, 178, 179, 180, 181,\n",
       "       182, 183, 184, 185, 186, 187, 188, 189, 190, 191, 192, 193, 194,\n",
       "       195, 196, 197, 198, 199, 200, 201, 202, 203, 204, 205, 206, 207,\n",
       "       208, 209])"
      ]
     },
     "execution_count": 167,
     "metadata": {},
     "output_type": "execute_result"
    },
    {
     "data": {
      "text/plain": [
       "array([  0,   1,   2,   3,   4,   5,   6,   7,   8,   9,  10,  11,  12,\n",
       "        13,  14,  15,  16,  17,  18,  19,  20,  21,  22,  23,  24,  25,\n",
       "        26,  27,  28,  29,  30,  31,  32,  33,  34,  35,  36,  37,  38,\n",
       "        39,  40,  41,  42,  43,  44,  45,  46,  47,  48,  49,  50,  51,\n",
       "        52,  53,  54,  55,  56,  57,  58,  59,  60,  61,  62,  63,  64,\n",
       "        65,  66,  67,  68,  69,  70,  71,  72,  73,  74,  75,  76,  77,\n",
       "        78,  79,  80,  81,  82,  83,  84,  85,  86,  87,  88,  89,  90,\n",
       "        91,  92,  93,  94,  95,  96,  97,  98,  99, 100, 101, 102, 103,\n",
       "       104, 105, 106, 107, 108, 109, 110, 111, 112, 113, 114, 115, 116,\n",
       "       117, 118, 119, 120, 121, 122, 123, 124, 125, 126, 127, 128, 129,\n",
       "       130, 131, 132, 133, 134, 135, 136, 137, 138, 139, 140, 141, 142,\n",
       "       143, 144, 145, 146, 147, 148, 149, 150, 151, 152, 153, 154, 155,\n",
       "       156, 157, 158, 159, 160, 161, 162, 163, 164, 165, 166, 167, 168,\n",
       "       169, 170, 171, 172, 173, 174, 175, 176, 177, 178, 179, 180, 181,\n",
       "       182, 183, 184, 185, 186, 187, 188, 189, 190, 191, 192, 193, 194,\n",
       "       195, 196, 197, 198, 199, 200, 201, 202, 203, 204, 205, 206, 207,\n",
       "       208, 209, 210, 211, 212, 213, 214, 215, 216, 217, 218, 219, 220,\n",
       "       221, 222, 223, 224, 225, 226, 227, 228, 229, 230, 231, 232, 233,\n",
       "       234, 235, 236, 237, 238, 239, 240, 241, 242, 243, 244, 245, 246,\n",
       "       247, 248, 249, 250, 251, 252, 253, 254, 255, 256, 257, 258, 259,\n",
       "       260, 261, 262, 263])"
      ]
     },
     "execution_count": 167,
     "metadata": {},
     "output_type": "execute_result"
    },
    {
     "data": {
      "text/plain": [
       "array([0, 1, 4, 5, 3, 2])"
      ]
     },
     "execution_count": 167,
     "metadata": {},
     "output_type": "execute_result"
    }
   ],
   "source": [
    "for col in nominal_cols:\n",
    "    df[col].unique()"
   ]
  },
  {
   "cell_type": "markdown",
   "metadata": {},
   "source": [
    "## Impute missing values of numerical"
   ]
  },
  {
   "cell_type": "code",
   "execution_count": 169,
   "metadata": {
    "ExecuteTime": {
     "end_time": "2020-09-19T14:24:12.576678Z",
     "start_time": "2020-09-19T14:24:12.525494Z"
    }
   },
   "outputs": [
    {
     "data": {
      "text/html": [
       "<div>\n",
       "<style scoped>\n",
       "    .dataframe tbody tr th:only-of-type {\n",
       "        vertical-align: middle;\n",
       "    }\n",
       "\n",
       "    .dataframe tbody tr th {\n",
       "        vertical-align: top;\n",
       "    }\n",
       "\n",
       "    .dataframe thead th {\n",
       "        text-align: right;\n",
       "    }\n",
       "</style>\n",
       "<table border=\"1\" class=\"dataframe\">\n",
       "  <thead>\n",
       "    <tr style=\"text-align: right;\">\n",
       "      <th></th>\n",
       "      <th>total_cases</th>\n",
       "      <th>new_cases</th>\n",
       "      <th>new_cases_smoothed</th>\n",
       "      <th>total_deaths</th>\n",
       "      <th>new_deaths</th>\n",
       "      <th>new_deaths_smoothed</th>\n",
       "      <th>total_cases_per_million</th>\n",
       "      <th>new_cases_per_million</th>\n",
       "      <th>new_cases_smoothed_per_million</th>\n",
       "      <th>total_deaths_per_million</th>\n",
       "      <th>new_deaths_per_million</th>\n",
       "      <th>new_deaths_smoothed_per_million</th>\n",
       "      <th>new_tests</th>\n",
       "      <th>total_tests</th>\n",
       "      <th>total_tests_per_thousand</th>\n",
       "      <th>new_tests_per_thousand</th>\n",
       "      <th>new_tests_smoothed</th>\n",
       "      <th>new_tests_smoothed_per_thousand</th>\n",
       "      <th>tests_per_case</th>\n",
       "      <th>positive_rate</th>\n",
       "      <th>stringency_index</th>\n",
       "      <th>population</th>\n",
       "      <th>population_density</th>\n",
       "      <th>median_age</th>\n",
       "      <th>aged_65_older</th>\n",
       "      <th>aged_70_older</th>\n",
       "      <th>gdp_per_capita</th>\n",
       "      <th>extreme_poverty</th>\n",
       "      <th>cardiovasc_death_rate</th>\n",
       "      <th>diabetes_prevalence</th>\n",
       "      <th>female_smokers</th>\n",
       "      <th>male_smokers</th>\n",
       "      <th>handwashing_facilities</th>\n",
       "      <th>hospital_beds_per_thousand</th>\n",
       "      <th>life_expectancy</th>\n",
       "      <th>human_development_index</th>\n",
       "    </tr>\n",
       "  </thead>\n",
       "  <tbody>\n",
       "    <tr>\n",
       "      <th>0</th>\n",
       "      <td>0.0</td>\n",
       "      <td>0.0</td>\n",
       "      <td>NaN</td>\n",
       "      <td>0.0</td>\n",
       "      <td>0.0</td>\n",
       "      <td>NaN</td>\n",
       "      <td>0.000</td>\n",
       "      <td>0.000</td>\n",
       "      <td>NaN</td>\n",
       "      <td>0.000</td>\n",
       "      <td>0.0</td>\n",
       "      <td>NaN</td>\n",
       "      <td>NaN</td>\n",
       "      <td>NaN</td>\n",
       "      <td>NaN</td>\n",
       "      <td>NaN</td>\n",
       "      <td>NaN</td>\n",
       "      <td>NaN</td>\n",
       "      <td>NaN</td>\n",
       "      <td>NaN</td>\n",
       "      <td>NaN</td>\n",
       "      <td>38928341.0</td>\n",
       "      <td>54.422</td>\n",
       "      <td>18.6</td>\n",
       "      <td>2.581</td>\n",
       "      <td>1.337</td>\n",
       "      <td>1803.987</td>\n",
       "      <td>NaN</td>\n",
       "      <td>597.029</td>\n",
       "      <td>9.59</td>\n",
       "      <td>NaN</td>\n",
       "      <td>NaN</td>\n",
       "      <td>37.746</td>\n",
       "      <td>0.5</td>\n",
       "      <td>64.83</td>\n",
       "      <td>0.498</td>\n",
       "    </tr>\n",
       "    <tr>\n",
       "      <th>1</th>\n",
       "      <td>0.0</td>\n",
       "      <td>0.0</td>\n",
       "      <td>NaN</td>\n",
       "      <td>0.0</td>\n",
       "      <td>0.0</td>\n",
       "      <td>NaN</td>\n",
       "      <td>0.000</td>\n",
       "      <td>0.000</td>\n",
       "      <td>NaN</td>\n",
       "      <td>0.000</td>\n",
       "      <td>0.0</td>\n",
       "      <td>NaN</td>\n",
       "      <td>NaN</td>\n",
       "      <td>NaN</td>\n",
       "      <td>NaN</td>\n",
       "      <td>NaN</td>\n",
       "      <td>NaN</td>\n",
       "      <td>NaN</td>\n",
       "      <td>NaN</td>\n",
       "      <td>NaN</td>\n",
       "      <td>0.00</td>\n",
       "      <td>38928341.0</td>\n",
       "      <td>54.422</td>\n",
       "      <td>18.6</td>\n",
       "      <td>2.581</td>\n",
       "      <td>1.337</td>\n",
       "      <td>1803.987</td>\n",
       "      <td>NaN</td>\n",
       "      <td>597.029</td>\n",
       "      <td>9.59</td>\n",
       "      <td>NaN</td>\n",
       "      <td>NaN</td>\n",
       "      <td>37.746</td>\n",
       "      <td>0.5</td>\n",
       "      <td>64.83</td>\n",
       "      <td>0.498</td>\n",
       "    </tr>\n",
       "    <tr>\n",
       "      <th>2</th>\n",
       "      <td>0.0</td>\n",
       "      <td>0.0</td>\n",
       "      <td>NaN</td>\n",
       "      <td>0.0</td>\n",
       "      <td>0.0</td>\n",
       "      <td>NaN</td>\n",
       "      <td>0.000</td>\n",
       "      <td>0.000</td>\n",
       "      <td>NaN</td>\n",
       "      <td>0.000</td>\n",
       "      <td>0.0</td>\n",
       "      <td>NaN</td>\n",
       "      <td>NaN</td>\n",
       "      <td>NaN</td>\n",
       "      <td>NaN</td>\n",
       "      <td>NaN</td>\n",
       "      <td>NaN</td>\n",
       "      <td>NaN</td>\n",
       "      <td>NaN</td>\n",
       "      <td>NaN</td>\n",
       "      <td>0.00</td>\n",
       "      <td>38928341.0</td>\n",
       "      <td>54.422</td>\n",
       "      <td>18.6</td>\n",
       "      <td>2.581</td>\n",
       "      <td>1.337</td>\n",
       "      <td>1803.987</td>\n",
       "      <td>NaN</td>\n",
       "      <td>597.029</td>\n",
       "      <td>9.59</td>\n",
       "      <td>NaN</td>\n",
       "      <td>NaN</td>\n",
       "      <td>37.746</td>\n",
       "      <td>0.5</td>\n",
       "      <td>64.83</td>\n",
       "      <td>0.498</td>\n",
       "    </tr>\n",
       "    <tr>\n",
       "      <th>3</th>\n",
       "      <td>0.0</td>\n",
       "      <td>0.0</td>\n",
       "      <td>NaN</td>\n",
       "      <td>0.0</td>\n",
       "      <td>0.0</td>\n",
       "      <td>NaN</td>\n",
       "      <td>0.000</td>\n",
       "      <td>0.000</td>\n",
       "      <td>NaN</td>\n",
       "      <td>0.000</td>\n",
       "      <td>0.0</td>\n",
       "      <td>NaN</td>\n",
       "      <td>NaN</td>\n",
       "      <td>NaN</td>\n",
       "      <td>NaN</td>\n",
       "      <td>NaN</td>\n",
       "      <td>NaN</td>\n",
       "      <td>NaN</td>\n",
       "      <td>NaN</td>\n",
       "      <td>NaN</td>\n",
       "      <td>0.00</td>\n",
       "      <td>38928341.0</td>\n",
       "      <td>54.422</td>\n",
       "      <td>18.6</td>\n",
       "      <td>2.581</td>\n",
       "      <td>1.337</td>\n",
       "      <td>1803.987</td>\n",
       "      <td>NaN</td>\n",
       "      <td>597.029</td>\n",
       "      <td>9.59</td>\n",
       "      <td>NaN</td>\n",
       "      <td>NaN</td>\n",
       "      <td>37.746</td>\n",
       "      <td>0.5</td>\n",
       "      <td>64.83</td>\n",
       "      <td>0.498</td>\n",
       "    </tr>\n",
       "    <tr>\n",
       "      <th>4</th>\n",
       "      <td>0.0</td>\n",
       "      <td>0.0</td>\n",
       "      <td>NaN</td>\n",
       "      <td>0.0</td>\n",
       "      <td>0.0</td>\n",
       "      <td>NaN</td>\n",
       "      <td>0.000</td>\n",
       "      <td>0.000</td>\n",
       "      <td>NaN</td>\n",
       "      <td>0.000</td>\n",
       "      <td>0.0</td>\n",
       "      <td>NaN</td>\n",
       "      <td>NaN</td>\n",
       "      <td>NaN</td>\n",
       "      <td>NaN</td>\n",
       "      <td>NaN</td>\n",
       "      <td>NaN</td>\n",
       "      <td>NaN</td>\n",
       "      <td>NaN</td>\n",
       "      <td>NaN</td>\n",
       "      <td>0.00</td>\n",
       "      <td>38928341.0</td>\n",
       "      <td>54.422</td>\n",
       "      <td>18.6</td>\n",
       "      <td>2.581</td>\n",
       "      <td>1.337</td>\n",
       "      <td>1803.987</td>\n",
       "      <td>NaN</td>\n",
       "      <td>597.029</td>\n",
       "      <td>9.59</td>\n",
       "      <td>NaN</td>\n",
       "      <td>NaN</td>\n",
       "      <td>37.746</td>\n",
       "      <td>0.5</td>\n",
       "      <td>64.83</td>\n",
       "      <td>0.498</td>\n",
       "    </tr>\n",
       "    <tr>\n",
       "      <th>...</th>\n",
       "      <td>...</td>\n",
       "      <td>...</td>\n",
       "      <td>...</td>\n",
       "      <td>...</td>\n",
       "      <td>...</td>\n",
       "      <td>...</td>\n",
       "      <td>...</td>\n",
       "      <td>...</td>\n",
       "      <td>...</td>\n",
       "      <td>...</td>\n",
       "      <td>...</td>\n",
       "      <td>...</td>\n",
       "      <td>...</td>\n",
       "      <td>...</td>\n",
       "      <td>...</td>\n",
       "      <td>...</td>\n",
       "      <td>...</td>\n",
       "      <td>...</td>\n",
       "      <td>...</td>\n",
       "      <td>...</td>\n",
       "      <td>...</td>\n",
       "      <td>...</td>\n",
       "      <td>...</td>\n",
       "      <td>...</td>\n",
       "      <td>...</td>\n",
       "      <td>...</td>\n",
       "      <td>...</td>\n",
       "      <td>...</td>\n",
       "      <td>...</td>\n",
       "      <td>...</td>\n",
       "      <td>...</td>\n",
       "      <td>...</td>\n",
       "      <td>...</td>\n",
       "      <td>...</td>\n",
       "      <td>...</td>\n",
       "      <td>...</td>\n",
       "    </tr>\n",
       "    <tr>\n",
       "      <th>44252</th>\n",
       "      <td>7531.0</td>\n",
       "      <td>5.0</td>\n",
       "      <td>33.286</td>\n",
       "      <td>224.0</td>\n",
       "      <td>0.0</td>\n",
       "      <td>2.000</td>\n",
       "      <td>506.697</td>\n",
       "      <td>0.336</td>\n",
       "      <td>2.240</td>\n",
       "      <td>15.071</td>\n",
       "      <td>0.0</td>\n",
       "      <td>0.135</td>\n",
       "      <td>404.0</td>\n",
       "      <td>110774.0</td>\n",
       "      <td>7.453</td>\n",
       "      <td>0.027</td>\n",
       "      <td>769.0</td>\n",
       "      <td>0.052</td>\n",
       "      <td>23.103</td>\n",
       "      <td>0.043</td>\n",
       "      <td>76.85</td>\n",
       "      <td>14862927.0</td>\n",
       "      <td>42.729</td>\n",
       "      <td>19.6</td>\n",
       "      <td>2.822</td>\n",
       "      <td>1.882</td>\n",
       "      <td>1899.775</td>\n",
       "      <td>21.4</td>\n",
       "      <td>307.846</td>\n",
       "      <td>1.82</td>\n",
       "      <td>1.6</td>\n",
       "      <td>30.7</td>\n",
       "      <td>36.791</td>\n",
       "      <td>1.7</td>\n",
       "      <td>61.49</td>\n",
       "      <td>0.535</td>\n",
       "    </tr>\n",
       "    <tr>\n",
       "      <th>44253</th>\n",
       "      <td>7576.0</td>\n",
       "      <td>45.0</td>\n",
       "      <td>26.857</td>\n",
       "      <td>224.0</td>\n",
       "      <td>0.0</td>\n",
       "      <td>0.857</td>\n",
       "      <td>509.725</td>\n",
       "      <td>3.028</td>\n",
       "      <td>1.807</td>\n",
       "      <td>15.071</td>\n",
       "      <td>0.0</td>\n",
       "      <td>0.058</td>\n",
       "      <td>647.0</td>\n",
       "      <td>111421.0</td>\n",
       "      <td>7.497</td>\n",
       "      <td>0.044</td>\n",
       "      <td>711.0</td>\n",
       "      <td>0.048</td>\n",
       "      <td>26.473</td>\n",
       "      <td>0.038</td>\n",
       "      <td>NaN</td>\n",
       "      <td>14862927.0</td>\n",
       "      <td>42.729</td>\n",
       "      <td>19.6</td>\n",
       "      <td>2.822</td>\n",
       "      <td>1.882</td>\n",
       "      <td>1899.775</td>\n",
       "      <td>21.4</td>\n",
       "      <td>307.846</td>\n",
       "      <td>1.82</td>\n",
       "      <td>1.6</td>\n",
       "      <td>30.7</td>\n",
       "      <td>36.791</td>\n",
       "      <td>1.7</td>\n",
       "      <td>61.49</td>\n",
       "      <td>0.535</td>\n",
       "    </tr>\n",
       "    <tr>\n",
       "      <th>44254</th>\n",
       "      <td>7598.0</td>\n",
       "      <td>22.0</td>\n",
       "      <td>24.143</td>\n",
       "      <td>224.0</td>\n",
       "      <td>0.0</td>\n",
       "      <td>0.286</td>\n",
       "      <td>511.205</td>\n",
       "      <td>1.480</td>\n",
       "      <td>1.624</td>\n",
       "      <td>15.071</td>\n",
       "      <td>0.0</td>\n",
       "      <td>0.019</td>\n",
       "      <td>1011.0</td>\n",
       "      <td>112432.0</td>\n",
       "      <td>7.565</td>\n",
       "      <td>0.068</td>\n",
       "      <td>717.0</td>\n",
       "      <td>0.048</td>\n",
       "      <td>29.698</td>\n",
       "      <td>0.034</td>\n",
       "      <td>NaN</td>\n",
       "      <td>14862927.0</td>\n",
       "      <td>42.729</td>\n",
       "      <td>19.6</td>\n",
       "      <td>2.822</td>\n",
       "      <td>1.882</td>\n",
       "      <td>1899.775</td>\n",
       "      <td>21.4</td>\n",
       "      <td>307.846</td>\n",
       "      <td>1.82</td>\n",
       "      <td>1.6</td>\n",
       "      <td>30.7</td>\n",
       "      <td>36.791</td>\n",
       "      <td>1.7</td>\n",
       "      <td>61.49</td>\n",
       "      <td>0.535</td>\n",
       "    </tr>\n",
       "    <tr>\n",
       "      <th>44255</th>\n",
       "      <td>7633.0</td>\n",
       "      <td>35.0</td>\n",
       "      <td>25.714</td>\n",
       "      <td>224.0</td>\n",
       "      <td>0.0</td>\n",
       "      <td>0.286</td>\n",
       "      <td>513.560</td>\n",
       "      <td>2.355</td>\n",
       "      <td>1.730</td>\n",
       "      <td>15.071</td>\n",
       "      <td>0.0</td>\n",
       "      <td>0.019</td>\n",
       "      <td>NaN</td>\n",
       "      <td>NaN</td>\n",
       "      <td>NaN</td>\n",
       "      <td>NaN</td>\n",
       "      <td>NaN</td>\n",
       "      <td>NaN</td>\n",
       "      <td>NaN</td>\n",
       "      <td>NaN</td>\n",
       "      <td>NaN</td>\n",
       "      <td>14862927.0</td>\n",
       "      <td>42.729</td>\n",
       "      <td>19.6</td>\n",
       "      <td>2.822</td>\n",
       "      <td>1.882</td>\n",
       "      <td>1899.775</td>\n",
       "      <td>21.4</td>\n",
       "      <td>307.846</td>\n",
       "      <td>1.82</td>\n",
       "      <td>1.6</td>\n",
       "      <td>30.7</td>\n",
       "      <td>36.791</td>\n",
       "      <td>1.7</td>\n",
       "      <td>61.49</td>\n",
       "      <td>0.535</td>\n",
       "    </tr>\n",
       "    <tr>\n",
       "      <th>44256</th>\n",
       "      <td>7647.0</td>\n",
       "      <td>14.0</td>\n",
       "      <td>24.000</td>\n",
       "      <td>224.0</td>\n",
       "      <td>0.0</td>\n",
       "      <td>0.000</td>\n",
       "      <td>514.502</td>\n",
       "      <td>0.942</td>\n",
       "      <td>1.615</td>\n",
       "      <td>15.071</td>\n",
       "      <td>0.0</td>\n",
       "      <td>0.000</td>\n",
       "      <td>NaN</td>\n",
       "      <td>NaN</td>\n",
       "      <td>NaN</td>\n",
       "      <td>NaN</td>\n",
       "      <td>NaN</td>\n",
       "      <td>NaN</td>\n",
       "      <td>NaN</td>\n",
       "      <td>NaN</td>\n",
       "      <td>NaN</td>\n",
       "      <td>14862927.0</td>\n",
       "      <td>42.729</td>\n",
       "      <td>19.6</td>\n",
       "      <td>2.822</td>\n",
       "      <td>1.882</td>\n",
       "      <td>1899.775</td>\n",
       "      <td>21.4</td>\n",
       "      <td>307.846</td>\n",
       "      <td>1.82</td>\n",
       "      <td>1.6</td>\n",
       "      <td>30.7</td>\n",
       "      <td>36.791</td>\n",
       "      <td>1.7</td>\n",
       "      <td>61.49</td>\n",
       "      <td>0.535</td>\n",
       "    </tr>\n",
       "  </tbody>\n",
       "</table>\n",
       "<p>44257 rows × 36 columns</p>\n",
       "</div>"
      ],
      "text/plain": [
       "       total_cases  new_cases  new_cases_smoothed  total_deaths  new_deaths  \\\n",
       "0              0.0        0.0                 NaN           0.0         0.0   \n",
       "1              0.0        0.0                 NaN           0.0         0.0   \n",
       "2              0.0        0.0                 NaN           0.0         0.0   \n",
       "3              0.0        0.0                 NaN           0.0         0.0   \n",
       "4              0.0        0.0                 NaN           0.0         0.0   \n",
       "...            ...        ...                 ...           ...         ...   \n",
       "44252       7531.0        5.0              33.286         224.0         0.0   \n",
       "44253       7576.0       45.0              26.857         224.0         0.0   \n",
       "44254       7598.0       22.0              24.143         224.0         0.0   \n",
       "44255       7633.0       35.0              25.714         224.0         0.0   \n",
       "44256       7647.0       14.0              24.000         224.0         0.0   \n",
       "\n",
       "       new_deaths_smoothed  total_cases_per_million  new_cases_per_million  \\\n",
       "0                      NaN                    0.000                  0.000   \n",
       "1                      NaN                    0.000                  0.000   \n",
       "2                      NaN                    0.000                  0.000   \n",
       "3                      NaN                    0.000                  0.000   \n",
       "4                      NaN                    0.000                  0.000   \n",
       "...                    ...                      ...                    ...   \n",
       "44252                2.000                  506.697                  0.336   \n",
       "44253                0.857                  509.725                  3.028   \n",
       "44254                0.286                  511.205                  1.480   \n",
       "44255                0.286                  513.560                  2.355   \n",
       "44256                0.000                  514.502                  0.942   \n",
       "\n",
       "       new_cases_smoothed_per_million  total_deaths_per_million  \\\n",
       "0                                 NaN                     0.000   \n",
       "1                                 NaN                     0.000   \n",
       "2                                 NaN                     0.000   \n",
       "3                                 NaN                     0.000   \n",
       "4                                 NaN                     0.000   \n",
       "...                               ...                       ...   \n",
       "44252                           2.240                    15.071   \n",
       "44253                           1.807                    15.071   \n",
       "44254                           1.624                    15.071   \n",
       "44255                           1.730                    15.071   \n",
       "44256                           1.615                    15.071   \n",
       "\n",
       "       new_deaths_per_million  new_deaths_smoothed_per_million  new_tests  \\\n",
       "0                         0.0                              NaN        NaN   \n",
       "1                         0.0                              NaN        NaN   \n",
       "2                         0.0                              NaN        NaN   \n",
       "3                         0.0                              NaN        NaN   \n",
       "4                         0.0                              NaN        NaN   \n",
       "...                       ...                              ...        ...   \n",
       "44252                     0.0                            0.135      404.0   \n",
       "44253                     0.0                            0.058      647.0   \n",
       "44254                     0.0                            0.019     1011.0   \n",
       "44255                     0.0                            0.019        NaN   \n",
       "44256                     0.0                            0.000        NaN   \n",
       "\n",
       "       total_tests  total_tests_per_thousand  new_tests_per_thousand  \\\n",
       "0              NaN                       NaN                     NaN   \n",
       "1              NaN                       NaN                     NaN   \n",
       "2              NaN                       NaN                     NaN   \n",
       "3              NaN                       NaN                     NaN   \n",
       "4              NaN                       NaN                     NaN   \n",
       "...            ...                       ...                     ...   \n",
       "44252     110774.0                     7.453                   0.027   \n",
       "44253     111421.0                     7.497                   0.044   \n",
       "44254     112432.0                     7.565                   0.068   \n",
       "44255          NaN                       NaN                     NaN   \n",
       "44256          NaN                       NaN                     NaN   \n",
       "\n",
       "       new_tests_smoothed  new_tests_smoothed_per_thousand  tests_per_case  \\\n",
       "0                     NaN                              NaN             NaN   \n",
       "1                     NaN                              NaN             NaN   \n",
       "2                     NaN                              NaN             NaN   \n",
       "3                     NaN                              NaN             NaN   \n",
       "4                     NaN                              NaN             NaN   \n",
       "...                   ...                              ...             ...   \n",
       "44252               769.0                            0.052          23.103   \n",
       "44253               711.0                            0.048          26.473   \n",
       "44254               717.0                            0.048          29.698   \n",
       "44255                 NaN                              NaN             NaN   \n",
       "44256                 NaN                              NaN             NaN   \n",
       "\n",
       "       positive_rate  stringency_index  population  population_density  \\\n",
       "0                NaN               NaN  38928341.0              54.422   \n",
       "1                NaN              0.00  38928341.0              54.422   \n",
       "2                NaN              0.00  38928341.0              54.422   \n",
       "3                NaN              0.00  38928341.0              54.422   \n",
       "4                NaN              0.00  38928341.0              54.422   \n",
       "...              ...               ...         ...                 ...   \n",
       "44252          0.043             76.85  14862927.0              42.729   \n",
       "44253          0.038               NaN  14862927.0              42.729   \n",
       "44254          0.034               NaN  14862927.0              42.729   \n",
       "44255            NaN               NaN  14862927.0              42.729   \n",
       "44256            NaN               NaN  14862927.0              42.729   \n",
       "\n",
       "       median_age  aged_65_older  aged_70_older  gdp_per_capita  \\\n",
       "0            18.6          2.581          1.337        1803.987   \n",
       "1            18.6          2.581          1.337        1803.987   \n",
       "2            18.6          2.581          1.337        1803.987   \n",
       "3            18.6          2.581          1.337        1803.987   \n",
       "4            18.6          2.581          1.337        1803.987   \n",
       "...           ...            ...            ...             ...   \n",
       "44252        19.6          2.822          1.882        1899.775   \n",
       "44253        19.6          2.822          1.882        1899.775   \n",
       "44254        19.6          2.822          1.882        1899.775   \n",
       "44255        19.6          2.822          1.882        1899.775   \n",
       "44256        19.6          2.822          1.882        1899.775   \n",
       "\n",
       "       extreme_poverty  cardiovasc_death_rate  diabetes_prevalence  \\\n",
       "0                  NaN                597.029                 9.59   \n",
       "1                  NaN                597.029                 9.59   \n",
       "2                  NaN                597.029                 9.59   \n",
       "3                  NaN                597.029                 9.59   \n",
       "4                  NaN                597.029                 9.59   \n",
       "...                ...                    ...                  ...   \n",
       "44252             21.4                307.846                 1.82   \n",
       "44253             21.4                307.846                 1.82   \n",
       "44254             21.4                307.846                 1.82   \n",
       "44255             21.4                307.846                 1.82   \n",
       "44256             21.4                307.846                 1.82   \n",
       "\n",
       "       female_smokers  male_smokers  handwashing_facilities  \\\n",
       "0                 NaN           NaN                  37.746   \n",
       "1                 NaN           NaN                  37.746   \n",
       "2                 NaN           NaN                  37.746   \n",
       "3                 NaN           NaN                  37.746   \n",
       "4                 NaN           NaN                  37.746   \n",
       "...               ...           ...                     ...   \n",
       "44252             1.6          30.7                  36.791   \n",
       "44253             1.6          30.7                  36.791   \n",
       "44254             1.6          30.7                  36.791   \n",
       "44255             1.6          30.7                  36.791   \n",
       "44256             1.6          30.7                  36.791   \n",
       "\n",
       "       hospital_beds_per_thousand  life_expectancy  human_development_index  \n",
       "0                             0.5            64.83                    0.498  \n",
       "1                             0.5            64.83                    0.498  \n",
       "2                             0.5            64.83                    0.498  \n",
       "3                             0.5            64.83                    0.498  \n",
       "4                             0.5            64.83                    0.498  \n",
       "...                           ...              ...                      ...  \n",
       "44252                         1.7            61.49                    0.535  \n",
       "44253                         1.7            61.49                    0.535  \n",
       "44254                         1.7            61.49                    0.535  \n",
       "44255                         1.7            61.49                    0.535  \n",
       "44256                         1.7            61.49                    0.535  \n",
       "\n",
       "[44257 rows x 36 columns]"
      ]
     },
     "execution_count": 169,
     "metadata": {},
     "output_type": "execute_result"
    }
   ],
   "source": [
    "numerical = df.select_dtypes(include=['float64']).copy()\n",
    "numerical"
   ]
  },
  {
   "cell_type": "code",
   "execution_count": 172,
   "metadata": {
    "ExecuteTime": {
     "end_time": "2020-09-19T14:27:40.382593Z",
     "start_time": "2020-09-19T14:27:40.377637Z"
    }
   },
   "outputs": [
    {
     "data": {
      "text/plain": [
       "0           0.0\n",
       "1           0.0\n",
       "2           0.0\n",
       "3           0.0\n",
       "4           0.0\n",
       "          ...  \n",
       "44252    7531.0\n",
       "44253    7576.0\n",
       "44254    7598.0\n",
       "44255    7633.0\n",
       "44256    7647.0\n",
       "Name: total_cases, Length: 44257, dtype: float64"
      ]
     },
     "execution_count": 172,
     "metadata": {},
     "output_type": "execute_result"
    }
   ],
   "source": [
    "df.total_cases"
   ]
  },
  {
   "cell_type": "code",
   "execution_count": 175,
   "metadata": {
    "ExecuteTime": {
     "end_time": "2020-09-19T14:29:55.594403Z",
     "start_time": "2020-09-19T14:29:55.562847Z"
    }
   },
   "outputs": [],
   "source": [
    "for col in numerical:\n",
    "    df[col].fillna((df[col].mean()), inplace=True)"
   ]
  },
  {
   "cell_type": "code",
   "execution_count": 178,
   "metadata": {
    "ExecuteTime": {
     "end_time": "2020-09-19T14:30:19.314924Z",
     "start_time": "2020-09-19T14:30:19.304419Z"
    }
   },
   "outputs": [
    {
     "data": {
      "text/plain": [
       "True"
      ]
     },
     "execution_count": 178,
     "metadata": {},
     "output_type": "execute_result"
    }
   ],
   "source": [
    "df.isna().sum().sum() == 0"
   ]
  },
  {
   "cell_type": "markdown",
   "metadata": {},
   "source": [
    "Now the dataset has no Nans and is completely encoded."
   ]
  },
  {
   "cell_type": "markdown",
   "metadata": {},
   "source": [
    "# Add ML\n"
   ]
  },
  {
   "cell_type": "code",
   "execution_count": 180,
   "metadata": {
    "ExecuteTime": {
     "end_time": "2020-09-19T14:33:05.101515Z",
     "start_time": "2020-09-19T14:33:05.099001Z"
    }
   },
   "outputs": [],
   "source": []
  },
  {
   "cell_type": "code",
   "execution_count": null,
   "metadata": {},
   "outputs": [],
   "source": []
  }
 ],
 "metadata": {
  "hide_input": false,
  "kernelspec": {
   "display_name": "ml_api_covid",
   "language": "python",
   "name": "ml_api_covid"
  },
  "language_info": {
   "codemirror_mode": {
    "name": "ipython",
    "version": 3
   },
   "file_extension": ".py",
   "mimetype": "text/x-python",
   "name": "python",
   "nbconvert_exporter": "python",
   "pygments_lexer": "ipython3",
   "version": "3.7.7"
  },
  "toc": {
   "base_numbering": 1,
   "nav_menu": {},
   "number_sections": true,
   "sideBar": true,
   "skip_h1_title": false,
   "title_cell": "Table of Contents",
   "title_sidebar": "Contents",
   "toc_cell": false,
   "toc_position": {},
   "toc_section_display": true,
   "toc_window_display": true
  }
 },
 "nbformat": 4,
 "nbformat_minor": 4
}
